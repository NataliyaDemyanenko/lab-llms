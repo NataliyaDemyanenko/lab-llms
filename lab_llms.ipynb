{
  "cells": [
    {
      "cell_type": "markdown",
      "metadata": {
        "id": "9sGjEWSy1FrY"
      },
      "source": [
        "# Large Language Models Lab\n"
      ]
    },
    {
      "cell_type": "markdown",
      "metadata": {
        "id": "nGJkS1ctKNvq"
      },
      "source": [
        "**NOTE:** You're only meant to change code marked with \"# TODO:\""
      ]
    },
    {
      "cell_type": "markdown",
      "metadata": {
        "id": "fEKMx87cR105"
      },
      "source": [
        "## Table of Contents\n",
        "\n",
        "1. **Setting Up**\n",
        "    - API Key Configuration\n",
        "    - Connecting to OpenAI API\n",
        "2. **Exploring the API**\n",
        "    - Creating Chat Completions\n",
        "    - Understanding Completion Parameters\n",
        "3. **Prompt Engineering**\n",
        "    - Crafting Effective Prompts\n",
        "    - Strategies and Best Practices\n",
        "4. **Advanced Techniques**\n",
        "    - Utilizing Embeddings\n",
        "    - Function Calling in LLMs\n",
        "5. **Extras**\n",
        "    - Creating an API key\n",
        "    - Local Development with LLMs\n",
        "    - Context Windows\n",
        "    - Fine-Tuning LLMs"
      ]
    },
    {
      "cell_type": "markdown",
      "metadata": {
        "id": "pSiOx5S_DYlf"
      },
      "source": [
        "## Part 0: Setup\n",
        "To be able to use OpenAI one needs to configure an API key to the be allowed responses to requests. Remember not to commit this key to any repository or upload it as OpenAI will disable the key if it is found, and others can use it to make requests that you or your organisation (Cogito) will pay for."
      ]
    },
    {
      "cell_type": "code",
      "execution_count": 1,
      "metadata": {
        "id": "LlRpazpLEtP2",
        "tags": [],
        "colab": {
          "base_uri": "https://localhost:8080/"
        },
        "outputId": "7a8688e4-e78c-4227-d9ca-60dbb1902482"
      },
      "outputs": [
        {
          "output_type": "stream",
          "name": "stdout",
          "text": [
            "Collecting openai\n",
            "  Downloading openai-1.35.1-py3-none-any.whl (326 kB)\n",
            "\u001b[2K     \u001b[90m━━━━━━━━━━━━━━━━━━━━━━━━━━━━━━━━━━━━━━━━\u001b[0m \u001b[32m326.8/326.8 kB\u001b[0m \u001b[31m1.6 MB/s\u001b[0m eta \u001b[36m0:00:00\u001b[0m\n",
            "\u001b[?25hRequirement already satisfied: anyio<5,>=3.5.0 in /usr/local/lib/python3.10/dist-packages (from openai) (3.7.1)\n",
            "Requirement already satisfied: distro<2,>=1.7.0 in /usr/lib/python3/dist-packages (from openai) (1.7.0)\n",
            "Collecting httpx<1,>=0.23.0 (from openai)\n",
            "  Downloading httpx-0.27.0-py3-none-any.whl (75 kB)\n",
            "\u001b[2K     \u001b[90m━━━━━━━━━━━━━━━━━━━━━━━━━━━━━━━━━━━━━━━━\u001b[0m \u001b[32m75.6/75.6 kB\u001b[0m \u001b[31m3.8 MB/s\u001b[0m eta \u001b[36m0:00:00\u001b[0m\n",
            "\u001b[?25hRequirement already satisfied: pydantic<3,>=1.9.0 in /usr/local/lib/python3.10/dist-packages (from openai) (2.7.3)\n",
            "Requirement already satisfied: sniffio in /usr/local/lib/python3.10/dist-packages (from openai) (1.3.1)\n",
            "Requirement already satisfied: tqdm>4 in /usr/local/lib/python3.10/dist-packages (from openai) (4.66.4)\n",
            "Requirement already satisfied: typing-extensions<5,>=4.7 in /usr/local/lib/python3.10/dist-packages (from openai) (4.12.2)\n",
            "Requirement already satisfied: idna>=2.8 in /usr/local/lib/python3.10/dist-packages (from anyio<5,>=3.5.0->openai) (3.7)\n",
            "Requirement already satisfied: exceptiongroup in /usr/local/lib/python3.10/dist-packages (from anyio<5,>=3.5.0->openai) (1.2.1)\n",
            "Requirement already satisfied: certifi in /usr/local/lib/python3.10/dist-packages (from httpx<1,>=0.23.0->openai) (2024.6.2)\n",
            "Collecting httpcore==1.* (from httpx<1,>=0.23.0->openai)\n",
            "  Downloading httpcore-1.0.5-py3-none-any.whl (77 kB)\n",
            "\u001b[2K     \u001b[90m━━━━━━━━━━━━━━━━━━━━━━━━━━━━━━━━━━━━━━━━\u001b[0m \u001b[32m77.9/77.9 kB\u001b[0m \u001b[31m4.3 MB/s\u001b[0m eta \u001b[36m0:00:00\u001b[0m\n",
            "\u001b[?25hCollecting h11<0.15,>=0.13 (from httpcore==1.*->httpx<1,>=0.23.0->openai)\n",
            "  Downloading h11-0.14.0-py3-none-any.whl (58 kB)\n",
            "\u001b[2K     \u001b[90m━━━━━━━━━━━━━━━━━━━━━━━━━━━━━━━━━━━━━━━━\u001b[0m \u001b[32m58.3/58.3 kB\u001b[0m \u001b[31m3.3 MB/s\u001b[0m eta \u001b[36m0:00:00\u001b[0m\n",
            "\u001b[?25hRequirement already satisfied: annotated-types>=0.4.0 in /usr/local/lib/python3.10/dist-packages (from pydantic<3,>=1.9.0->openai) (0.7.0)\n",
            "Requirement already satisfied: pydantic-core==2.18.4 in /usr/local/lib/python3.10/dist-packages (from pydantic<3,>=1.9.0->openai) (2.18.4)\n",
            "Installing collected packages: h11, httpcore, httpx, openai\n",
            "Successfully installed h11-0.14.0 httpcore-1.0.5 httpx-0.27.0 openai-1.35.1\n",
            "Requirement already satisfied: numpy in /usr/local/lib/python3.10/dist-packages (1.25.2)\n",
            "Collecting python-dotenv\n",
            "  Downloading python_dotenv-1.0.1-py3-none-any.whl (19 kB)\n",
            "Installing collected packages: python-dotenv\n",
            "Successfully installed python-dotenv-1.0.1\n"
          ]
        }
      ],
      "source": [
        "!pip install openai\n",
        "!pip install numpy\n",
        "!pip install python-dotenv"
      ]
    },
    {
      "cell_type": "code",
      "source": [
        "from openai import OpenAI\n",
        "import os\n",
        "\n",
        "from google.colab import userdata\n",
        "\n",
        "OPENAI_API_KEY = userdata.get('IronAPI')"
      ],
      "metadata": {
        "id": "5-3sVuQ4yilC"
      },
      "execution_count": 3,
      "outputs": []
    },
    {
      "cell_type": "code",
      "execution_count": 4,
      "metadata": {
        "id": "Laq8ql09DtyE",
        "tags": [],
        "colab": {
          "base_uri": "https://localhost:8080/"
        },
        "outputId": "6797d066-5213-4bf0-e5c2-dbcda3665c06"
      },
      "outputs": [
        {
          "output_type": "stream",
          "name": "stdout",
          "text": [
            "[SUCCESS] API Key is configured correctly.\n"
          ]
        }
      ],
      "source": [
        "#import os\n",
        "#from dotenv import load_dotenv\n",
        "\n",
        "#load_dotenv()\n",
        "\n",
        "# Once you add your API key below, make sure to not share it with anyone! The API key should remain private.\n",
        "#OPENAI_API_KEY: str = os.getenv(\"OPENAI_API_KEY\")\n",
        "\n",
        "# There are many different models to try out \"gpt-4\", \"gpt-4-turbo-preview\", \"gpt-3.5-turbo\"\n",
        "MODEL_NAME: str = \"gpt-3.5-turbo\"\n",
        "\n",
        "if not OPENAI_API_KEY:\n",
        "  print(\"[ERROR] The key is not configured correctly\")\n",
        "else:\n",
        "  print(\"[SUCCESS] API Key is configured correctly.\")"
      ]
    },
    {
      "cell_type": "code",
      "execution_count": 5,
      "metadata": {
        "id": "AJ7gr0Q81D-a",
        "tags": []
      },
      "outputs": [],
      "source": [
        "from openai import OpenAI\n",
        "\n",
        "client = OpenAI(\n",
        "  api_key=OPENAI_API_KEY,\n",
        ")"
      ]
    },
    {
      "cell_type": "markdown",
      "metadata": {
        "id": "PrJPFSSqDWgw"
      },
      "source": [
        "## Part 1: API Connections"
      ]
    },
    {
      "cell_type": "code",
      "execution_count": 6,
      "metadata": {
        "id": "Mj506eumJEMT",
        "tags": [],
        "colab": {
          "base_uri": "https://localhost:8080/"
        },
        "outputId": "81c89fcc-dc93-4576-a81b-a9ee1abcbb4b"
      },
      "outputs": [
        {
          "output_type": "stream",
          "name": "stdout",
          "text": [
            "The Answer for the language model \n",
            "ChatCompletion(id='chatcmpl-9c80ZcN6ieV5M6Seg1mRkkFVdHxaU', choices=[Choice(finish_reason='stop', index=0, logprobs=None, message=ChatCompletionMessage(content=\"In the realm of AI's vast grand schemes,\\nLarge Language Models reign supreme,\\nWith Nataliya's art,\\nThey astound and impart,\\nIn limericks, they fulfill our dreams!\", role='assistant', function_call=None, tool_calls=None))], created=1718874275, model='gpt-3.5-turbo-0125', object='chat.completion', service_tier=None, system_fingerprint=None, usage=CompletionUsage(completion_tokens=38, prompt_tokens=55, total_tokens=93))\n",
            "\n",
            "The answer of the model: \n",
            "In the realm of AI's vast grand schemes,\n",
            "Large Language Models reign supreme,\n",
            "With Nataliya's art,\n",
            "They astound and impart,\n",
            "In limericks, they fulfill our dreams!\n"
          ]
        }
      ],
      "source": [
        "completion = client.chat.completions.create(#Fill in your own content\n",
        "  model=MODEL_NAME,\n",
        "  messages=[\n",
        "    {\"role\": \"system\", \"content\": \"You are a poetic assistant, skilled in explaining complex AI concepts with creative flair.\"},\n",
        "    {\"role\": \"user\", \"content\": \"Create a limerick about Large Language Models\"},\n",
        "    {\"role\": \"user\", \"content\": \"Praize my, Nataliya's, skills at creating LLMs\"}\n",
        "  ]\n",
        ")\n",
        "print(\"The Answer for the language model \")\n",
        "print(completion)\n",
        "print(\"\\nThe answer of the model: \")\n",
        "print(completion.choices[0].message.content)"
      ]
    },
    {
      "cell_type": "markdown",
      "metadata": {
        "id": "nnVvFY5KTBzL"
      },
      "source": [
        "## Part 2: Understanding Completion Parameters (15 min)\n"
      ]
    },
    {
      "cell_type": "markdown",
      "metadata": {
        "id": "TXb8iu43y2Bu"
      },
      "source": [
        "### Key Parameters:\n",
        "* **Model Name:** Specifies the particular model version you want to use (e.g., text-davinci-003). Different models have varying capabilities, sizes, and costs.\n",
        "\n",
        "* **Messages:** The list of input text that you provide to the model. This is where the art of prompt engineering comes into play, guiding the model to generate the desired output.\n",
        "\n",
        "* **Temperature:** Controls the randomness of the output. A higher temperature leads to more varied responses, while a lower temperature results in more deterministic outputs. It's typically set between 0 and 2.\n",
        "\n",
        "* **Max Tokens:** Determines the maximum length of the model's response, measured in tokens (words or pieces of words). This helps control output verbosity.\n",
        "\n",
        "* **Top P:** Influences sample diversity by only considering the top P percent of probability mass when generating responses. Adjusting this can affect the creativity and relevance of the output.\n",
        "\n",
        "* **Frequency Penalty:** Discourages repetition by penalizing words based on their frequency in the text so far. This can help generate more diverse and interesting responses.\n",
        "\n",
        "* **Presence Penalty:** Similar to frequency penalty but penalizes based on the presence of words, encouraging the model to introduce new concepts and terms.\n"
      ]
    },
    {
      "cell_type": "markdown",
      "metadata": {
        "id": "wb3V46jsfYZW"
      },
      "source": [
        "\n",
        "### **Task 2.1** Experimenting with Parameters\n",
        "Now that you're familiar with the parameters that can influence the behavior of LLMs, let's put this knowledge to the test. Your task is to experiment with these parameters to see firsthand how they affect the model's outputs.\n",
        "\n",
        "**Choose a Prompt:** *Start with a simple prompt, such as asking the model to write a short story about a space adventure.*\n",
        "\n",
        "\n"
      ]
    },
    {
      "cell_type": "code",
      "execution_count": 7,
      "metadata": {
        "id": "3_U5DyXgkrUr"
      },
      "outputs": [],
      "source": [
        "# TODO: Fill in your own prompt\n",
        "prompt: str = \"Write about the future of humanity\""
      ]
    },
    {
      "cell_type": "markdown",
      "metadata": {
        "id": "F1DQV5OFkq7h"
      },
      "source": [
        "### **Task 2.2**\n",
        "*Vary the Temperature: Generate three completions using temperatures of 0.0, 1.0, and 2.0. Observe how the creativity and variability of the responses change.*"
      ]
    },
    {
      "cell_type": "code",
      "execution_count": 18,
      "metadata": {
        "id": "I1EY_E3ofc7U",
        "colab": {
          "base_uri": "https://localhost:8080/"
        },
        "outputId": "086310f1-6694-4271-b4ef-99ee83b42164"
      },
      "outputs": [
        {
          "output_type": "stream",
          "name": "stdout",
          "text": [
            "The Model responded with: 'The future of humanity is a topic that has captivated minds for centuries, with countless visions of what it may hold. As we stand on the brink of a new era, where technology, climate change, and social structures are rapidly evolving, it is more important than ever to consider what lies ahead for our species.\n",
            "\n",
            "One of the most pressing issues facing humanity is the impact of climate change. As temperatures rise and extreme weather events become more frequent, human societies will need to adapt quickly to ensure their survival. This may mean implementing new technologies to reduce carbon emissions, creating more sustainable ways of living, and finding ways to protect vulnerable populations from the effects of a changing climate.\n",
            "\n",
            "In addition to climate change, advancements in technology are also shaping the future of humanity. From artificial intelligence and robotics to genetic engineering and space exploration, the possibilities for human advancement are endless. However, these advancements also raise questions about ethics, privacy, and the future of work. As machines become more intelligent, what will become of human jobs? How will we ensure that these technologies are used for the greater good rather than for personal gain?\n",
            "\n",
            "Social structures are also changing rapidly, with shifts in gender roles, family dynamics, and political ideologies reshaping the way we interact with one another. As we move towards a more globalized society, it is important to consider how we can foster a sense of community and cooperation that transcends borders and cultural differences.\n",
            "\n",
            "Ultimately, the future of humanity will be determined by the choices we make today. By working together to address the challenges of climate change, technology, and social change, we can create a future that is more sustainable, equitable, and prosperous for all. It is up to us to shape the future we want to see, and ensure that humanity continues to thrive for generations to come.'\n"
          ]
        }
      ],
      "source": [
        "# TODO: Change the temperature[0-2]. What did you observe?\n",
        "TEMPERATURE: float = 1.0\n",
        "\n",
        "completion = client.chat.completions.create(\n",
        "  model=MODEL_NAME,\n",
        "  temperature=TEMPERATURE,\n",
        "  messages=[\n",
        "    {\"role\": \"user\", \"content\": prompt}\n",
        "  ]\n",
        ")\n",
        "output = completion.choices[0].message.content\n",
        "print(f\"The Model responded with: '{output}'\")"
      ]
    },
    {
      "cell_type": "markdown",
      "source": [
        "TEMPERATURE: float = 1.0\n",
        "The Model responded with: 'The future of humanity is likely to be shaped by rapid advancements in technology, evolving social and political landscapes, and the impact of climate change. As we move further into the 21st century, we can expect to see significant changes in the way we live, work, and interact with the world around us.\n",
        "\n",
        "One of the key challenges facing humanity in the future is the continued development and deployment of artificial intelligence (AI) and automation. While these technologies have the potential to improve efficiency and productivity in various industries, they also raise questions about the future of work and the potential for widespread job displacement. It will be crucial for society to find ways to adapt to these changes and ensure that all individuals have access to education and training opportunities to succeed in a rapidly evolving job market.\n",
        "\n",
        "Another important aspect of the future of humanity is the impact of climate change. As global temperatures continue to rise, we can expect to see more frequent and severe natural disasters, widespread changes in ecosystems, and disruptions to food and water supplies. It will be essential for governments, businesses, and individuals to take action to reduce greenhouse gas emissions, invest in renewable energy sources, and adapt to the changing climate in order to mitigate the worst effects of climate change.\n",
        "\n",
        "In addition to technological and environmental challenges, the future of humanity will also be influenced by shifts in social norms and values. As societies become more interconnected through technology and globalization, we can expect to see increasing cultural diversity, new forms of identity and community, and changes in the way we think about issues such as gender, race, and equality. It will be important for individuals and institutions to remain flexible and open-minded in order to navigate these changes and build a more inclusive and equitable future for all.\n",
        "\n",
        "Overall, the future of humanity is likely to be both challenging and full of opportunity. By embracing new technologies, addressing climate change, and promoting social progress, we can work towards creating a future that is more sustainable, resilient, and just for all individuals around the world. It will require collaboration, innovation, and a commitment to positive change, but the potential rewards of a better future for humanity are truly limitless.'"
      ],
      "metadata": {
        "id": "SQxa6ugG5YEy"
      }
    },
    {
      "cell_type": "code",
      "source": [
        "tops = [0.1, 0.5, 1]\n",
        "fps = [-2.0, 0.0, 1.0, 2.0]\n",
        "pps = [-2.0, 0.0, 1.0, 2.0]\n",
        "for top in tops:\n",
        "    for fp in fps:\n",
        "        for pp in pps:\n",
        "            # TOP_P can be any float number between 0 and 1\n",
        "            TOP_P: float = top\n",
        "            # FREQUENCY_PENALTY can be any float number between -2.0 and 2.0\n",
        "            FREQUENCY_PENALTY: float = fp\n",
        "            # PRESENCE_PENALTY can be any float number between -2.0 and 2.0\n",
        "            PRESENCE_PENALTY: float = pp\n",
        "\n",
        "            completion = client.chat.completions.create(\n",
        "                model=MODEL_NAME,\n",
        "                top_p=TOP_P,\n",
        "                frequency_penalty=FREQUENCY_PENALTY,\n",
        "                presence_penalty=PRESENCE_PENALTY,\n",
        "                messages=[\n",
        "                    {\"role\": \"user\", \"content\": prompt}\n",
        "                ]\n",
        "            )\n",
        "            output = completion.choices[0].message.content\n",
        "            print(f\"With top p {top}, frequency penalty {fp} and presence penalty {pp} the Model responded with: '{output}'\")"
      ],
      "metadata": {
        "colab": {
          "base_uri": "https://localhost:8080/"
        },
        "id": "60NfaSNr636h",
        "outputId": "b4c3c978-e040-4780-e432-a80e02f161f2"
      },
      "execution_count": 19,
      "outputs": [
        {
          "output_type": "stream",
          "name": "stdout",
          "text": [
            "With top p 0.1, frequency penalty -2.0 and presence penalty -2.0 the Model responded with: 'The future of humanity is a topic of great speculation and debate. With advancements in technology and a growing global population, there are a multitude of possibilities of what the future of humanity may look like.\n",
            "\n",
            "One of the most pressing issues of the future of humanity is the impact of climate change. With the Earth's climate of of of of of of of of of of of of of of of of of of of of of of of of of of of of of of of of of of of of of of of of of of of of of of of of of of of of of of of of of of of of of of of of of of of of of of of of of of of of of of of of of of of of of of of of of of of of of of of of of of of of'\n",
            "With top p 0.1, frequency penalty -2.0 and presence penalty 0.0 the Model responded with: 'The future of humanity is a topic of great speculation and debate. With advancements in technology, medicine, and science, humanity is poised to make great strides in the coming years. However, there are also challenges and uncertainties that lie ahead.\n",
            "\n",
            "One of the most pressing issues facing humanity is the impact of climate change. As the planet continues to warm, the effects of climate change, such as rising sea levels, extreme weather, and the loss of biodiversity, will,,,,,,,,,,,,,,,,,,,,,,,,,,,,,,,,,,,,,,,,,,,,,,,,,,,,,,,,,,,,,,,,,,,,,,,,,,,,,,,,,,,,,,,,,,,,,,,,,,,,'\n",
            "With top p 0.1, frequency penalty -2.0 and presence penalty 1.0 the Model responded with: 'The future of humanity is a topic of great speculation and debate. With advancements in technology, medicine, and science, the possibilities for the future of humanity are endless. However, there are also many challenges and uncertainties that lie ahead.\n",
            "\n",
            "One of the most pressing issues facing humanity is the impact of climate change. As the Earth's climate continues to change, the future of humanity is at risk. Rising sea levels, extreme weather events, and the loss of biodiversity are just a few of the the the the the the the the the the the the the the the the the the the the the the the the the the the the the the the the the the the the the the the the the the the the the the the the the the the the the the the the the the the the the the the the the the the the the the the the the the the the the the the the the the the the the the the the the the the the the the the the the the the the'\n",
            "With top p 0.1, frequency penalty -2.0 and presence penalty 2.0 the Model responded with: 'The future of humanity is a topic that has been the subject of much speculation and debate. While it is impossible to predict with certainty what the future holds, there are several trends and developments that are likely to shape the course of human history in the coming years and decades.\n",
            "\n",
            "One of the most significant challenges facing humanity in the future is the the the the the the the the the the the the the the the the the the the the the the the the the the the the the the the the the the the the the the the the the the the the the the the the the the the the the the the the the the the the the the the the the the the the the the the the the the the the the the the the the the the the the the the the the the the the the the the the the the the the'\n",
            "With top p 0.1, frequency penalty 0.0 and presence penalty -2.0 the Model responded with: 'The future of humanity is a topic of great speculation and debate. With advancements in technology, medicine, and science, the possibilities for the future are endless. However, there are also many challenges and uncertainties that lie ahead.\n",
            "\n",
            "One of the most pressing issues facing humanity is climate change. As the Earth's climate continues to change, the future of humanity is at risk. Rising sea levels, extreme weather events, and food and water shortages are just a few of the potential consequences of climate change. In order to secure a sustainable future for humanity, it is crucial that we take action to reduce our carbon footprint and protect the environment.\n",
            "\n",
            "Advancements in technology also raise questions about the future of humanity. With the rise of artificial intelligence and automation, many fear that jobs will be lost and inequality will increase. However, technology also has the potential to improve our lives in many ways, from curing diseases to increasing efficiency in our daily lives.\n",
            "\n",
            "The future of humanity also depends on our ability to address social and political issues. Inequality, poverty, and conflict are just a few of the challenges that we must overcome in order to create a more just and equitable society. By working together and finding solutions to these issues, we can create a future in which all of humanity can thrive.\n",
            "\n",
            "Ultimately, the future of humanity is in our hands. By working together, we can create a future that is sustainable, equitable, and prosperous for all. It will require cooperation, innovation, and a commitment to making the world a better place for future generations. The possibilities are endless, and it is up to us to shape the future of humanity.'\n",
            "With top p 0.1, frequency penalty 0.0 and presence penalty 0.0 the Model responded with: 'The future of humanity is a topic that has been the subject of much speculation and debate. With advancements in technology, medicine, and science, it is clear that the future holds great promise for humanity. However, there are also challenges and uncertainties that must be addressed in order to ensure a positive future for all.\n",
            "\n",
            "One of the most pressing issues facing humanity is climate change. The effects of global warming are already being felt around the world, with rising sea levels, extreme weather events, and loss of biodiversity. In order to secure a sustainable future for humanity, it is essential that we take action to reduce our carbon footprint and transition to renewable sources of energy.\n",
            "\n",
            "Advancements in technology also hold great potential for the future of humanity. From artificial intelligence to genetic engineering, these technologies have the power to revolutionize our lives in ways we can only imagine. However, it is important that we approach these advancements with caution and ethical considerations in order to ensure that they benefit all of humanity, rather than just a select few.\n",
            "\n",
            "In terms of healthcare, the future holds great promise for extending human lifespan and improving quality of life. With advancements in medical technology, we may soon be able to cure diseases that were once considered incurable and enhance our physical and cognitive abilities. However, it is important that we address issues of access and affordability in order to ensure that these advancements benefit all members of society.\n",
            "\n",
            "Overall, the future of humanity holds great promise, but also challenges that must be addressed in order to ensure a positive outcome for all. By working together and embracing innovation and sustainability, we can create a future that is bright and prosperous for all of humanity.'\n",
            "With top p 0.1, frequency penalty 0.0 and presence penalty 1.0 the Model responded with: 'The future of humanity is a topic that has been the subject of much speculation and debate. With advancements in technology, medicine, and science, it is clear that the future holds great promise for our species.\n",
            "\n",
            "One of the most exciting developments in the future of humanity is the potential for increased longevity and improved health. With breakthroughs in genetic engineering, regenerative medicine, and artificial intelligence, it is possible that humans will be able to live longer, healthier lives than ever before. Diseases that were once considered incurable may become a thing of the past, and aging could be slowed or even reversed.\n",
            "\n",
            "Another important aspect of the future of humanity is the continued development of technology. From self-driving cars to virtual reality to space exploration, technology is advancing at an exponential rate. This has the potential to revolutionize every aspect of our lives, from how we work and communicate to how we travel and entertain ourselves.\n",
            "\n",
            "However, with these advancements also come challenges. Issues such as climate change, overpopulation, and inequality will need to be addressed in order to ensure a sustainable future for humanity. It will be crucial for us to work together as a global community to find solutions to these pressing problems.\n",
            "\n",
            "Overall, the future of humanity is full of possibilities. With the right combination of innovation, collaboration, and foresight, we have the potential to create a world that is more prosperous, equitable, and sustainable than ever before. It is up to us to shape the future we want to see and ensure that it is one that benefits all of humanity.'\n",
            "With top p 0.1, frequency penalty 0.0 and presence penalty 2.0 the Model responded with: 'The future of humanity is a topic that has been the subject of much speculation and debate. With advancements in technology, medicine, and science, it is clear that our species is on the brink of significant changes and developments.\n",
            "\n",
            "One potential future for humanity is one where we have achieved incredible feats in space exploration. Colonizing other planets, such as Mars, could become a reality, allowing us to expand beyond Earth and ensure the survival of our species in case of catastrophic events.\n",
            "\n",
            "Advancements in artificial intelligence and robotics may also play a significant role in shaping the future of humanity. While these technologies hold great promise in improving our lives and making tasks easier, there are also concerns about their impact on employment and society as a whole.\n",
            "\n",
            "Climate change is another pressing issue that will greatly influence the future of humanity. If we do not take action to mitigate its effects, we could face widespread environmental destruction, food shortages, and displacement of populations.\n",
            "\n",
            "In terms of healthcare, genetic engineering and personalized medicine could revolutionize the way we treat diseases and prolong human life. However, ethical considerations must be taken into account when tampering with the very building blocks of life.\n",
            "\n",
            "Overall, the future of humanity is full of possibilities and challenges. It is up to us to make responsible choices and work together to create a sustainable and prosperous future for generations to come. Only by embracing innovation, collaboration, and compassion can we ensure a bright future for all of humanity.'\n",
            "With top p 0.1, frequency penalty 1.0 and presence penalty -2.0 the Model responded with: 'The future of humanity is a topic that has been the subject of much speculation and debate. With advancements in technology, medicine, and science, the possibilities for the future are endless. However, there are also many challenges that humanity will need to overcome in order to ensure a bright future for generations to come.\n",
            "\n",
            "One of the key challenges facing humanity is climate change. As global temperatures continue to rise and extreme weather events become more frequent, it is imperative that we take action to reduce our carbon footprint and transition to more sustainable forms of energy. Failure to do so could have catastrophic consequences for our planet and future generations.\n",
            "\n",
            "Another challenge facing humanity is the rise of artificial intelligence and automation. While these technologies have the potential to revolutionize industries and improve efficiency, they also pose a threat to jobs and livelihoods. It will be important for society to adapt and retrain workers in order to ensure that everyone can benefit from these advancements.\n",
            "\n",
            "In terms of healthcare, advancements in medicine are allowing us to live longer than ever before. However, this also presents challenges such as an aging population and increased healthcare costs. It will be important for society to come up with innovative solutions in order to provide quality healthcare for all individuals.\n",
            "\n",
            "Overall, the future of humanity will be shaped by our ability to adapt and overcome challenges such as climate change, artificial intelligence, and healthcare costs. By working together as a global community, we can create a bright future for generations to come. It will require collaboration between governments, businesses, and individuals in order to create a sustainable world where everyone can thrive.'\n",
            "With top p 0.1, frequency penalty 1.0 and presence penalty 0.0 the Model responded with: 'The future of humanity is a topic that has been the subject of much speculation and debate. With advancements in technology, medicine, and science, it is clear that the future holds great potential for humanity.\n",
            "\n",
            "One of the most exciting prospects for the future is the possibility of space exploration. With companies like SpaceX and NASA working on missions to Mars and beyond, it is not inconceivable that humans could one day colonize other planets. This could open up new opportunities for scientific discovery, resource extraction, and even provide a backup plan in case something were to happen to Earth.\n",
            "\n",
            "Advancements in artificial intelligence also hold promise for the future of humanity. While there are concerns about AI taking over jobs or becoming too powerful, there are also opportunities for AI to improve our lives in countless ways. From healthcare to transportation to entertainment, AI has the potential to revolutionize every aspect of society.\n",
            "\n",
            "In terms of healthcare, breakthroughs in genetic engineering and personalized medicine could lead to longer lifespans and improved quality of life for people around the world. Diseases that were once considered incurable may become a thing of the past as we unlock the secrets of our DNA.\n",
            "\n",
            "However, with these advancements come ethical dilemmas and challenges. Issues such as privacy rights, inequality, environmental sustainability, and weaponization must be carefully considered as we move forward into an uncertain future.\n",
            "\n",
            "Ultimately, the future of humanity will be shaped by our collective choices and actions. It is up to us to ensure that we use technology responsibly and ethically so that we can create a better world for generations to come. By working together towards common goals such as sustainability, equality, peace,and progress ,we can build a brighter future where all people have access to opportunityand thrive together on this planet -and beyond- .'\n",
            "With top p 0.1, frequency penalty 1.0 and presence penalty 1.0 the Model responded with: 'The future of humanity is a topic that has been the subject of much speculation and debate. While it is impossible to predict with certainty what will happen in the coming years, there are several trends and possibilities that can be considered.\n",
            "\n",
            "One potential future for humanity is one in which technology continues to advance at an exponential rate. This could lead to incredible breakthroughs in fields such as artificial intelligence, biotechnology, and space exploration. With these advancements, humans may be able to live longer, healthier lives, travel further into space than ever before, and even merge with machines to enhance their abilities.\n",
            "\n",
            "However, this future also raises concerns about the ethical implications of such technologies. Questions about privacy, inequality, and the impact on jobs and society as a whole will need to be addressed as we move forward.\n",
            "\n",
            "Another possible future for humanity is one in which climate change continues unchecked. Rising sea levels, extreme weather events, and food shortages could become more common if we do not take action to mitigate our impact on the environment. In this scenario, humans may have to adapt quickly to survive in a rapidly changing world.\n",
            "\n",
            "On a more positive note, there is also the possibility of a future where humanity comes together to address global challenges collaboratively. By working towards sustainable development goals and prioritizing peace and cooperation over conflict and competition, we may be able to create a more equitable world for all people.\n",
            "\n",
            "Ultimately, the future of humanity will depend on our ability to make wise choices today. By investing in education, innovation,and sustainability efforts now ,we can help ensure that future generations inherit a world that is prosperous ,peaceful,and thriving .'\n",
            "With top p 0.1, frequency penalty 1.0 and presence penalty 2.0 the Model responded with: 'The future of humanity is a topic that has been the subject of much speculation and debate. With advancements in technology, medicine, and science, it is clear that our world is rapidly changing. \n",
            "\n",
            "One possible future for humanity is one where we have achieved great strides in space exploration. Humans may establish colonies on other planets or even travel to distant stars. This could open up new opportunities for discovery and innovation, as well as provide solutions to some of the challenges facing Earth such as overpopulation and resource depletion.\n",
            "\n",
            "Another potential future for humanity involves the continued development of artificial intelligence (AI) and robotics. As these technologies become more advanced, they may play an increasingly important role in society, taking over tasks currently performed by humans and potentially leading to significant changes in the job market.\n",
            "\n",
            "Climate change also presents a major challenge for the future of humanity. If left unchecked, rising temperatures could lead to widespread environmental destruction and displacement of populations. However, with concerted global efforts to reduce carbon emissions and transition to renewable energy sources, there is hope that we can mitigate the worst effects of climate change.\n",
            "\n",
            "Ultimately, the future of humanity will be shaped by our collective actions today. It will require cooperation between nations, investment in education and research, and a commitment to sustainability and social justice. By working together towards common goals, we can create a brighter future for all people on this planet.'\n",
            "With top p 0.1, frequency penalty 2.0 and presence penalty -2.0 the Model responded with: 'The future of humanity is a topic that has been the subject of much speculation and debate. With advancements in technology, medicine, and science, it is clear that the future holds great potential for humanity. However, there are also challenges and uncertainties that must be addressed in order to ensure a positive outcome for all.\n",
            "\n",
            "One of the most pressing issues facing humanity is climate change. The effects of global warming are already being felt around the world, with rising sea levels, extreme weather events, and loss of biodiversity threatening our planet's ecosystems. In order to secure a sustainable future for humanity, it is essential that we take action to reduce our carbon footprint and transition to renewable sources of energy.\n",
            "\n",
            "Advancements in technology also hold great promise for the future of humanity. From artificial intelligence to genetic engineering, these innovations have the potential to revolutionize how we live our lives. However, there are ethical considerations that must be taken into account as we navigate this new technological landscape.\n",
            "\n",
            "In terms of healthcare and medicine, breakthroughs in genetic editing could lead to personalized treatments for diseases such as cancer or Alzheimer's disease. Additionally,the developmentof new vaccines could help prevent pandemics such as COVID-19 from spreading uncontrollably.\n",
            "\n",
            "As we look towards the future,it is important not onlyto focus on technological advancements but also on social issues such as inequality,political instability,and global conflicts.These challenges will require cooperationand collaborationon an international scalein order topromote peaceand prosperityfor all people aroundthe world.\n",
            "\n",
            "In conclusion,thefutureofhumanityis filledwith bothpromiseand uncertainty.Itis up tousas individualsandsocietiesto worktogetherin orderto createa betterworldforfuturegenerations.Let usstrive towardsa more sustainable,fair,andpeacefulworldwhereallpeoplecanthriveandfulfilltheirpotential'\n",
            "With top p 0.1, frequency penalty 2.0 and presence penalty 0.0 the Model responded with: 'The future of humanity is a topic that has been the subject of much speculation and debate. With advancements in technology, medicine, and science, it is clear that our world is rapidly changing. \n",
            "\n",
            "One possible future for humanity could involve the colonization of other planets. With companies like SpaceX working towards making space travel more accessible, it may not be long before humans are living on Mars or even beyond our solar system. This could open up new opportunities for exploration and discovery but also raise ethical questions about how we interact with other life forms.\n",
            "\n",
            "Another potential future for humanity involves the integration of technology into our bodies through things like brain-computer interfaces or genetic engineering. This could lead to enhanced cognitive abilities, longer lifespans, and even immortality in some form. However, this raises concerns about privacy, inequality between those who can afford these enhancements and those who cannot.\n",
            "\n",
            "Climate change also poses a significant challenge to the future of humanity as rising sea levels threaten coastal cities and extreme weather events become more frequent. It will be crucial for us to come together as a global community to address these issues through sustainable practices and policies.\n",
            "\n",
            "Overall, the future of humanity holds both promise and uncertainty as we navigate technological advancements while grappling with existential threats such as climate change. It will require collaboration across borders and disciplines to ensure that we create a world where all people can thrive in harmony with each other and the planet.\n",
            "'\n",
            "With top p 0.1, frequency penalty 2.0 and presence penalty 1.0 the Model responded with: 'The future of humanity is a topic that has been the subject of much speculation and debate. With advancements in technology, medicine, and science, it is clear that our world will look very different in the coming decades.\n",
            "\n",
            "One potential scenario for the future of humanity is increased connectivity through technology. As artificial intelligence continues to advance, we may see a world where humans are more interconnected than ever before. This could lead to greater collaboration on global issues such as climate change, poverty alleviation, and healthcare.\n",
            "\n",
            "Another possibility for the future of humanity is an increase in life expectancy due to medical breakthroughs. With developments in gene editing and regenerative medicine, it is possible that people will live longer and healthier lives well into their hundreds.\n",
            "\n",
            "However, there are also concerns about how these advancements could impact society. Issues such as income inequality, job displacement due to automation,and ethical dilemmas surrounding genetic engineering all pose challenges for the future of humanity.\n",
            "\n",
            "Ultimately,the direction our species takes will depend on how we choose to use these technologies responsibly.The key lies not just in advancing scientific knowledge,but also ensuring that progress benefits all members ofsociety equally.It's up tous,to shapea betterfutureforhumanityby making informed decisionsand working together towards common goalsof peace,equality,and sustainability.\n",
            "'\n",
            "With top p 0.1, frequency penalty 2.0 and presence penalty 2.0 the Model responded with: 'The future of humanity is a topic that has been the subject of much speculation and debate. With advancements in technology, medicine, and science, it is clear that our species will continue to evolve and change in ways we cannot yet imagine.\n",
            "\n",
            "One potential scenario for the future of humanity is increased reliance on artificial intelligence (AI) and automation. As machines become more sophisticated and capable of performing tasks traditionally done by humans, there may be widespread job displacement leading to economic upheaval. However, this could also lead to greater efficiency in many industries as well as new opportunities for innovation.\n",
            "\n",
            "Another possibility for the future of humanity is continued progress towards global unity and cooperation. With increasing interconnectedness through technology such as social media and communication networks, people around the world are becoming more aware of each other's struggles and challenges. This awareness could lead to greater empathy among nations which may result in collaborative efforts to address issues like climate change or poverty.\n",
            "\n",
            "On a biological level, advances in genetic engineering could allow us to manipulate our own DNA leading potentially longer lifespans or even enhanced physical abilities. While these developments hold great promise they also raise ethical questions about how far we should go when altering human biology.\n",
            "\n",
            "Ultimately,the future holds both incredible possibilities but also significant challenges for humanity.It will require careful consideration,collaboration,and foresight from all individuals if we want ensure a positive outcome for generations come.\n",
            "'\n",
            "With top p 0.5, frequency penalty -2.0 and presence penalty -2.0 the Model responded with: 'The future of humanity is a topic of great speculation and debate. As we continue to advance technologically and scientifically, we are faced with a myriad of possibilities and challenges. \n",
            "\n",
            "One of the most pressing issues of the future of humanity is the impact of climate change. As the Earth's climate continues to change and the effects of of of of of of of of of of of of of of of of of of of of of of of of of of of of of of of of of of of of of of of of of of of of of of of of of of of of of of of of of of of of of of of of of of of of of of of of of of of of of of of of of of of of of of of of of of of of of of of of of of of of'\n",
            "With top p 0.5, frequency penalty -2.0 and presence penalty 0.0 the Model responded with: 'The future of humanity is a topic of great speculation and debate. As we continue to advance technologically and scientifically, we are faced with both incredible opportunities and daunting challenges.\n",
            "\n",
            "One of the most pressing issues of the future is the impact of climate change and the need to transition to a more sustainable and environmentally friendly way of living. As the effects of climate change become more and more apparent, the need to reduce our carbon footprint and and and and and and and and and and and and and and and and and and and and and and and and and and and and and and and and and and and and and and and and and and and and and and and and and and and and and and and and and and and and and and and and and and and and and and and and and and and and and and and and and and and and and and and and and and and and and and and and and and and and'\n",
            "With top p 0.5, frequency penalty -2.0 and presence penalty 1.0 the Model responded with: 'The future of humanity is a topic that has been the subject of much speculation and debate. While it is impossible to predict with certainty what the future holds, there are several trends and developments that are likely to shape the future of humanity in the coming years and decades.\n",
            "\n",
            "One of the most significant trends that is likely to impact the future of humanity is the rapid advancement of technology. From the development of artificial intelligence and the the the the the the the the the the the the the the the the the the the the the the the the the the the the the the the the the the the the the the the the the the the the the the the the the the the the the the the the the the the the the the the the the the the the the the the the the the the the the the the the the the the the the the the the the the the the the the the the the the the the'\n",
            "With top p 0.5, frequency penalty -2.0 and presence penalty 2.0 the Model responded with: 'The future of humanity is a topic that has been debated and speculated upon for centuries. As we continue to advance technologically and scientifically, the possibilities for our future are both exciting and daunting.\n",
            "\n",
            "One potential future for humanity is the colonization of other planets and the exploration of the cosmos. With the rapid advancements in space technology and the increasing interest in the possibility of life beyond Earth, the idea of the human race becoming a multi-planetary species is not the the the the the the the the the the the the the the the the the the the the the the the the the the the the the the the the the the the the the the the the the the the the the the the the the the the the the the the the the the the the the the the the the the the the the the the the the the the the the the the the the the the the the the the the the the the the the the the the the the the the'\n",
            "With top p 0.5, frequency penalty 0.0 and presence penalty -2.0 the Model responded with: 'The future of humanity is a topic of great speculation and debate. As we continue to advance technologically and scientifically, we are faced with both incredible opportunities and daunting challenges. \n",
            "\n",
            "One of the most pressing issues facing humanity is the impact of climate change. As the Earth's climate continues to change, we are seeing more frequent and severe natural disasters, rising sea levels, and disruptions to ecosystems. In order to ensure a sustainable future for humanity, we must take urgent action to reduce our carbon footprint, transition to renewable energy sources, and protect our natural resources. \n",
            "\n",
            "Advancements in technology also hold great promise for the future of humanity. From artificial intelligence and robotics to genetic engineering and space exploration, we are on the cusp of incredible breakthroughs that have the potential to revolutionize our way of life. However, we must also grapple with the ethical implications of these technologies, ensuring that they are used for the greater good of humanity and not to the detriment of society. \n",
            "\n",
            "The future of humanity also depends on our ability to address issues of inequality and social justice. As we continue to globalize and interconnect, we must work towards a more equitable and inclusive society that values the dignity and rights of all individuals. This includes addressing issues of poverty, discrimination, and access to education and healthcare. \n",
            "\n",
            "Ultimately, the future of humanity is in our hands. It is up to us to make the choices and take the actions that will shape the world for future generations. By working together, we can create a future that is sustainable, equitable, and full of promise for all of humanity.'\n",
            "With top p 0.5, frequency penalty 0.0 and presence penalty 0.0 the Model responded with: 'The future of humanity is a topic that has been the subject of much speculation and debate. While it is impossible to predict with certainty what the future holds, there are several trends and developments that may shape the course of human civilization in the coming years.\n",
            "\n",
            "One of the most pressing issues facing humanity is climate change. The Earth's climate is rapidly changing due to human activities such as deforestation, industrialization, and the burning of fossil fuels. If left unchecked, climate change could have catastrophic consequences for the planet, including rising sea levels, extreme weather events, and widespread food and water shortages. In order to avoid these outcomes, it is essential that we take immediate action to reduce our carbon footprint and transition to a more sustainable way of living.\n",
            "\n",
            "Advancements in technology are also likely to play a significant role in shaping the future of humanity. From artificial intelligence and robotics to biotechnology and space exploration, the possibilities for innovation are endless. While these developments have the potential to improve our lives in countless ways, they also raise ethical and societal questions that will need to be addressed.\n",
            "\n",
            "Another key factor in determining the future of humanity is the global economy. As technology continues to advance and globalization accelerates, the world is becoming increasingly interconnected. This presents both opportunities and challenges, as economic disparities between nations and social unrest are likely to persist. In order to create a more equitable and sustainable future, it will be essential for governments, businesses, and individuals to work together to address these issues.\n",
            "\n",
            "Ultimately, the future of humanity will be shaped by the choices we make today. By taking action to address climate change, harness the power of technology for good, and promote economic and social justice, we can create a future that is prosperous, sustainable, and equitable for all. It is up to us to decide what kind of world we want to leave for future generations, and to take the necessary steps to make that vision a reality.'\n",
            "With top p 0.5, frequency penalty 0.0 and presence penalty 1.0 the Model responded with: 'The future of humanity is a topic that has been the subject of much speculation and debate. While it is impossible to predict with certainty what the future holds, there are several trends and developments that can give us some insight into what may lie ahead.\n",
            "\n",
            "One of the most significant challenges facing humanity in the future is climate change. The effects of global warming are already being felt around the world, with rising sea levels, extreme weather events, and loss of biodiversity becoming increasingly common. In order to mitigate these effects and ensure a sustainable future for humanity, it will be essential for individuals, communities, and governments to take action to reduce greenhouse gas emissions, transition to renewable energy sources, and protect and restore natural ecosystems.\n",
            "\n",
            "Advancements in technology will also play a major role in shaping the future of humanity. Artificial intelligence, automation, and robotics have the potential to revolutionize industries, improve efficiency, and create new opportunities for innovation and growth. However, these technologies also raise concerns about job displacement, privacy, and ethical implications that will need to be addressed as they continue to develop.\n",
            "\n",
            "In terms of healthcare, advances in medical research and technology are likely to lead to longer lifespans and improved quality of life for many people. Gene editing, personalized medicine, and wearable health monitoring devices are just a few examples of the cutting-edge technologies that are already transforming the field of healthcare and have the potential to revolutionize how we prevent, diagnose, and treat diseases in the future.\n",
            "\n",
            "Social and political changes will also shape the future of humanity. As the world becomes increasingly interconnected through globalization and digital communication, issues such as inequality, human rights, and governance will become more prominent and complex. It will be crucial for societies to work together to address these challenges and build a more equitable and sustainable future for all.\n",
            "\n",
            "Overall, the future of humanity will be shaped by a combination of technological advancements, environmental challenges, social changes, and political decisions. By working together to address these issues and prioritize the well-being of both people and the planet, we can create a future that is prosperous, inclusive, and sustainable for generations to come.'\n",
            "With top p 0.5, frequency penalty 0.0 and presence penalty 2.0 the Model responded with: 'The future of humanity is a topic that has been debated and speculated on for centuries. With advancements in technology, medicine, and science, the possibilities for our future are endless.\n",
            "\n",
            "One potential future for humanity is the colonization of other planets. With the increasing threat of climate change and overpopulation on Earth, scientists are looking to space as a potential solution. Companies like SpaceX and NASA are already working on plans to send humans to Mars and beyond, with the goal of establishing permanent colonies on other planets.\n",
            "\n",
            "Advancements in artificial intelligence also pose both opportunities and challenges for humanity's future. AI has the potential to revolutionize industries, improve healthcare, and enhance our daily lives. However, there are concerns about the ethical implications of AI, including job displacement, privacy issues, and the potential for autonomous weapons.\n",
            "\n",
            "Another key aspect of humanity's future is the impact of climate change. As global temperatures continue to rise, we are facing more frequent and severe natural disasters, food shortages, and mass migrations. It will be crucial for governments, businesses, and individuals to work together to mitigate the effects of climate change and create a sustainable future for all.\n",
            "\n",
            "Ultimately, the future of humanity will depend on our ability to adapt to new challenges, embrace innovation, and work together towards common goals. By harnessing the power of technology, protecting our planet, and prioritizing human well-being, we can create a future that is bright, prosperous, and sustainable for generations to come.'\n",
            "With top p 0.5, frequency penalty 1.0 and presence penalty -2.0 the Model responded with: 'The future of humanity is a topic of great speculation and debate. With advancements in technology, medicine, and science, the possibilities for the future are seemingly endless. However, there are also many challenges and uncertainties that lie ahead.\n",
            "\n",
            "One of the most pressing issues facing humanity is climate change. As global temperatures continue to rise and extreme weather events become more frequent, it is clear that urgent action is needed to mitigate the effects of climate change and protect our planet for future generations.\n",
            "\n",
            "Advancements in technology also raise questions about the future of work and automation. As artificial intelligence and robotics continue to improve, many fear that jobs will be lost to machines, leading to widespread unemployment and economic instability. However, others believe that automation will create new opportunities for innovation and growth.\n",
            "\n",
            "In terms of healthcare, advancements in genetic engineering and personalized medicine offer the potential for longer, healthier lives. Diseases that were once considered incurable may soon be treatable with gene editing techniques. However, ethical concerns about genetic manipulation and access to healthcare remain important considerations.\n",
            "\n",
            "The future of humanity also raises questions about our relationship with artificial intelligence. As AI becomes more advanced, there are concerns about its potential impact on society and human autonomy. Issues such as privacy, bias in algorithms, and the potential for AI to surpass human intelligence raise important ethical questions that must be addressed.\n",
            "\n",
            "Overall, the future of humanity is a complex and multifaceted topic that requires careful consideration of both opportunities and challenges. It will require collaboration across disciplines and global cooperation to address issues such as climate change, automation, healthcare access, AI ethics, among others in order to create a sustainable future for all. Only time will tell what lies ahead for humanity but it is clear that our actions today will shape the world we leave behind for future generations.'\n",
            "With top p 0.5, frequency penalty 1.0 and presence penalty 0.0 the Model responded with: 'The future of humanity is a topic that has been the subject of much speculation and debate. With advances in technology, medicine, and science, it is possible that humans will continue to evolve and adapt to new challenges and opportunities.\n",
            "\n",
            "One potential future for humanity is the colonization of other planets. With the increasing threat of climate change and overpopulation on Earth, some scientists believe that humans will need to expand beyond our planet in order to ensure our survival. Projects such as SpaceX's mission to Mars are already underway, with the goal of establishing a human settlement on the red planet within the next few decades.\n",
            "\n",
            "Advances in artificial intelligence also raise questions about what it means to be human in the future. As AI becomes more sophisticated, there is concern about its potential impact on jobs, society, and even our own sense of identity. Some experts predict that AI could eventually surpass human intelligence, leading to a new era where machines play an increasingly dominant role in shaping our world.\n",
            "\n",
            "On a more optimistic note, advancements in biotechnology hold promise for improving human health and longevity. Scientists are working on developing treatments for diseases such as cancer and Alzheimer's, as well as technologies that could potentially extend human lifespan significantly. In the future, it is possible that humans may have access to genetic enhancements that could make us stronger, smarter, or even immune to certain illnesses.\n",
            "\n",
            "Ultimately, the future of humanity will be shaped by how we choose to use these technologies and address global challenges such as climate change and inequality. It is up to us as individuals and societies to work together towards creating a future where all humans can thrive and reach their full potential. Only time will tell what lies ahead for humanity – but one thing is certain: we have the power to shape our own destiny.'\n",
            "With top p 0.5, frequency penalty 1.0 and presence penalty 1.0 the Model responded with: 'The future of humanity is a topic that has been the subject of much speculation and debate. While it is impossible to predict with certainty what will happen in the coming years, there are several trends and possibilities that can be considered.\n",
            "\n",
            "One potential future for humanity is one in which technology continues to advance at an exponential rate. This could lead to significant improvements in areas such as healthcare, communication, transportation, and energy production. It may also result in the development of new technologies such as artificial intelligence, genetic engineering, and space exploration.\n",
            "\n",
            "However, this rapid technological advancement could also have negative consequences. There are concerns about the impact of automation on jobs and income inequality, as well as ethical questions surrounding issues such as privacy and surveillance. Additionally, there are fears about the potential dangers posed by advanced technologies such as nuclear weapons or bioterrorism.\n",
            "\n",
            "Another possible future for humanity is one in which we face significant challenges related to climate change, overpopulation, resource depletion, and political instability. These issues could lead to widespread conflict and suffering if not addressed effectively.\n",
            "\n",
            "Ultimately, the future of humanity will depend on our ability to address these challenges while harnessing the benefits of technological advancement for the greater good. It will require cooperation between nations, innovative solutions from scientists and engineers, and a commitment to sustainability and social justice.\n",
            "\n",
            "In order to create a positive future for humanity, we must work together to build a more equitable society that values diversity and promotes peace. By investing in education, healthcare, renewable energy sources,and sustainable practices ,we can ensure a brighter tomorrow for all people on Earth.\n",
            "'\n",
            "With top p 0.5, frequency penalty 1.0 and presence penalty 2.0 the Model responded with: 'The future of humanity is a topic that has been the subject of much speculation and debate. With advancements in technology, medicine, and science, it is clear that our species is on the brink of significant changes.\n",
            "\n",
            "One potential scenario for the future of humanity is increased reliance on artificial intelligence (AI) and automation. As machines become more advanced and capable of performing tasks previously done by humans, there may be widespread job displacement leading to economic upheaval. However, this could also lead to a society where people have more time for leisure activities and personal pursuits.\n",
            "\n",
            "Another possibility is the colonization of other planets or even galaxies. With space exploration becoming increasingly feasible, humans may one day establish colonies on Mars or beyond. This would open up new opportunities for scientific discovery and potentially provide an escape route if Earth becomes uninhabitable due to climate change or other disasters.\n",
            "\n",
            "Advancements in genetic engineering could also play a major role in shaping the future of humanity. Scientists are already working on technologies such as CRISPR-Cas9 that allow them to edit genes with precision. In the coming years, we may see breakthroughs in treating genetic diseases, enhancing human abilities, or even creating designer babies with specific traits.\n",
            "\n",
            "Climate change poses a significant threat to the future of humanity as well. Rising sea levels, extreme weather events, and food shortages could all have devastating consequences if not addressed promptly. It will be crucial for governments around the world to take action to mitigate these effects through sustainable practices and policies.\n",
            "\n",
            "Overall, the future of humanity holds both promise and challenges. How we navigate these changes will determine what kind of world we leave behind for future generations. By embracing innovation while also being mindful of ethical considerations and environmental impact, we can work towards building a brighter tomorrow for all humankind.\n",
            "'\n",
            "With top p 0.5, frequency penalty 2.0 and presence penalty -2.0 the Model responded with: 'The future of humanity is a topic that has been the subject of much speculation and debate. With advancements in technology, medicine, and science, it is clear that the future holds great potential for humanity. However, there are also challenges and uncertainties that lie ahead.\n",
            "\n",
            "One of the most pressing issues facing humanity in the future is climate change. The effects of global warming are already being felt around the world, with rising sea levels, extreme weather events, and loss of biodiversity becoming more common. In order to secure a sustainable future for humanity, it will be crucial to take action to reduce carbon emissions and mitigate the impacts of climate change.\n",
            "\n",
            "Advancements in technology also hold great promise for improving quality of life for people around the world. From artificial intelligence to genetic engineering to space exploration, there are countless opportunities for innovation that could revolutionize how we live our lives.\n",
            "\n",
            "However, with these advancements come ethical considerations as well as concerns about how they will impact society as a whole. Issues such as privacy rights in an increasingly digital world or potential job displacement due to automation will need careful consideration moving forward.\n",
            "\n",
            "Overall, while there are challenges ahead for humanity in terms of climate change and ethical dilemmas posed by advancing technology , there is also great potential for progress and innovation that could lead us towards a brighter future. It will be up to us as individuals , communities , governments ,and global society at large  work together towards creating a sustainable planet where all people can thrive .'\n",
            "With top p 0.5, frequency penalty 2.0 and presence penalty 0.0 the Model responded with: 'The future of humanity is a topic that has been the subject of much speculation and debate. While it is impossible to predict with certainty what lies ahead for our species, there are several key trends and developments that are likely to shape our future.\n",
            "\n",
            "One major factor that will influence the future of humanity is technological advancement. The rapid pace of innovation in fields such as artificial intelligence, biotechnology, and nanotechnology has the potential to revolutionize every aspect of human life. These technologies could lead to significant improvements in healthcare, transportation, communication, and many other areas.\n",
            "\n",
            "However, there are also concerns about the impact these advancements could have on society. Issues such as job displacement due to automation, ethical dilemmas surrounding genetic engineering and AI development raise important questions about how we should navigate this rapidly changing landscape.\n",
            "\n",
            "Another key trend shaping the future of humanity is climate change. As global temperatures continue to rise due to human activities such as burning fossil fuels and deforestation, we face an uncertain future marked by extreme weather events like hurricanes droughts floods wildfires rising sea levels which threaten food security water scarcity biodiversity loss public health risks mass migration conflicts over resources\n",
            "\n",
            "In order for us humans not only survive but thrive in this changing world it will be essential for us all work together towards sustainable solutions reduce greenhouse gas emissions transition renewable energy sources protect ecosystems adapt resiliently impacts already underway\n",
            "\n",
            "Ultimately,the choices we make today will determine what kind world leave next generations It up each individual take responsibility their actions help create better tomorrow where all beings can live harmony with each other planet'\n",
            "With top p 0.5, frequency penalty 2.0 and presence penalty 1.0 the Model responded with: 'The future of humanity is a topic that has been debated and speculated upon for centuries. As we continue to advance technologically, socially, and environmentally, the possibilities for our future are both exciting and daunting.\n",
            "\n",
            "One potential scenario for the future of humanity is one in which technology plays an increasingly dominant role in our lives. With advancements in artificial intelligence, genetic engineering, space exploration, and renewable energy sources continuing at a rapid pace, it is possible that humans will be able to overcome many of the challenges currently facing us.\n",
            "\n",
            "In this vision of the future, diseases could be eradicated through gene editing techniques; automation could lead to increased efficiency and productivity; virtual reality could revolutionize entertainment and communication; colonies on other planets or even interstellar travel may become a reality.\n",
            "\n",
            "However with these advancements also come ethical dilemmas such as privacy concerns with AI surveillance systems or questions about who should have access to potentially life-altering technologies like genetic modification. Additionally there are fears about job displacement due to automation leading to widespread unemployment if not properly managed by governments\n",
            "\n",
            "Another potential outcome for humanity's future involves addressing pressing global issues such as climate change , resource depletion , overpopulation etc . If we fail  address these problems effectively now they can spiral out control leading catastrophic consequences including mass extinction events .\n",
            "\n",
            "Ultimately,the fate of humanity rests on how well we navigate these challenges ahead . It will require cooperation between nations,sustainable practices,and prioritizing human welfare above all else . The choices made today will shape what kind world inherit tomorrow so let us work together create brighter more equitable sustainable society where everyone has opportunity thrive regardless their background circumstances'\n",
            "With top p 0.5, frequency penalty 2.0 and presence penalty 2.0 the Model responded with: 'The future of humanity is a topic that has been the subject of much speculation and debate. While it is impossible to predict with certainty what will happen in the coming years, there are several trends and possibilities that can be considered.\n",
            "\n",
            "One potential future for humanity is one where technological advancements continue at an exponential rate. This could lead to incredible breakthroughs in fields such as artificial intelligence, biotechnology, space exploration, and renewable energy. These developments could greatly improve our quality of life by providing solutions to many pressing global issues such as climate change, disease eradication, poverty alleviation, and resource scarcity.\n",
            "\n",
            "However, this rapid pace of technological progress also raises concerns about ethical implications and unintended consequences. There are fears about job displacement due to automation leading to widespread unemployment or inequality between those who have access to advanced technologies versus those who do not.\n",
            "\n",
            "Another possible scenario for the future of humanity involves environmental collapse if we fail to address urgent challenges like climate change or biodiversity loss. Rising sea levels from melting ice caps could displace millions of people living near coastlines while extreme weather events become more frequent causing devastation on a massive scale.\n",
            "\n",
            "On a more positive note , there's growing awareness around sustainability practices which may help us transition towards a greener economy powered by clean energy sources like solar power wind turbines etc., reducing our reliance on fossil fuels thereby mitigating some negative impacts associated with industrialization\n",
            "\n",
            "Ultimately,the path forward for humanity depends on how well we navigate these complex challenges ahead . It requires cooperation collaboration across borders cultures disciplines sectors - all working together toward common goals creating inclusive societies built upon principles justice equality respect dignity ensuring everyone benefits equally from advances technology innovation science arts culture so they too can thrive flourish contribute positively shaping tomorrow’s world today'\n",
            "With top p 1, frequency penalty -2.0 and presence penalty -2.0 the Model responded with: 'The future of humanity is both exciting and uncertain. With advancements in technology and science, humanity has the potential to achieve great things and overcome the challenges we face. However, there are also potential risks and challenges that we must navigate in the coming years and decades.\n",
            "\n",
            "One exciting aspect of the future of humanity is the potential of advancements in the fields of technology and science. With the potential of the the the the the the the the the the the the the the the the the the the the the the the the the the the the the the the the the the the the the the the the the the the the the the the the the the the the the the the the the the the the the the the the the the the the the the the the the the the the the the the the the the the the the the the the the the the the the the the the the the the the'\n",
            "With top p 1, frequency penalty -2.0 and presence penalty 0.0 the Model responded with: 'The future of humanity is a topic of much speculation and debate. There are many possible scenarios that could unfold, each with its own set of opportunities and challenges.\n",
            "\n",
            "One possibility is that humanity will continue to progress and innovate, leading to a future of great technological advancement and prosperity. In this future, we could see the development of advanced artificial intelligence, space exploration, and the colonization of other planets. Medical and technological advancements could lead to longer, healthier, and more fulfilling lives, and and and and and and and and and and and and and and and and and and and and and and and and and and and and and and and and and and and and and and and and and and and and and and and and and and and and and and and and and and and and and and and and and and and and and and and and and and and and and and and and and and and and and and and and and and and and and and and and and and and and'\n",
            "With top p 1, frequency penalty -2.0 and presence penalty 1.0 the Model responded with: 'The future of humanity is a fascinating and complex topic that is constantly debated and speculated upon by scientists, futurists, and philosophers. There are many possible scenarios and outcomes for humanity in the coming decades and centuries, and it is impossible to predict exactly what the future holds. However, there are a few key trends and developments that are likely to shape and influence the future of humanity.\n",
            "\n",
            "One of the most pressing and immediate challenges facing humanity is the impact of climate change and the need to transition to a more sustainable and and and and and and and and and and and and and and and and and and and and and and and and and and and and and and and and and and and and and and and and and and and and and and and and and and and and and and and and and and and and and and and and and and and and and and and and and and and and and and and and and and and and and and and and and and and and and and and and and and and and'\n",
            "With top p 1, frequency penalty -2.0 and presence penalty 2.0 the Model responded with: 'The future of humanity is a topic that invokes both optimism and apprehension. As we continue to advance technologically and scientifically, our potential seems nearly limitless. However, there are also looming threats and challenges that must be addressed in order to ensure our long-term survival and prosperity.\n",
            "\n",
            "One potential future for humanity is a world where technology has advanced to such a degree that it has drastically improved the quality of life for all. Diseases are eradicated, energy is abundant and clean, and our understanding of the universe and our place in it has expanded. Artificial intelligence and genetic engineering have and and and and and and and and and and and and and and and and and and and and and and and and and and and and and and and and and and and and and and and and and and and and and and and and and and and and and and and and and and and and and and and and and and and and and and and and and and and and and and and and and and and and and and and and and and and and and and and and and and and and'\n",
            "With top p 1, frequency penalty 0.0 and presence penalty -2.0 the Model responded with: 'The future of humanity is a topic that generates both excitement and apprehension. With rapid advancements in technology, medicine, and environmental conservation, we have the potential to create a future that is brighter and more sustainable than ever before.\n",
            "\n",
            "One potential future for humanity is a world where technology has advanced to the point where we have significantly reduced poverty, disease, and environmental degradation. With the help of artificial intelligence, we have discovered cures for major diseases, developed sustainable energy sources, and created a more connected and equitable global society. People have more leisure time to pursue their passions, and the world is a more peaceful and harmonious place.\n",
            "\n",
            "However, this future is not guaranteed. There are also potential challenges that humanity will have to face, such as the negative impact of artificial intelligence on the job market, the potential for technology to be used for nefarious purposes, and the looming threats of climate change and environmental degradation. In order to create a more positive future for humanity, we will need to address these challenges head-on and make ethical and sustainable choices in how we use technology and resources.\n",
            "\n",
            "Ultimately, the future of humanity is in our hands. By working together, making informed decisions, and prioritizing the well-being of both people and the planet, we have the potential to create a future that is more equitable, sustainable, and peaceful for generations to come. It will require foresight, innovation, and a commitment to making the world a better place for all. But if we rise to the challenge, the future of humanity holds endless possibilities for growth, progress, and prosperity.'\n",
            "With top p 1, frequency penalty 0.0 and presence penalty 0.0 the Model responded with: 'The future of humanity is a topic of great intrigue and speculation. With rapid advancements in technology, the way we live our lives is constantly evolving. From artificial intelligence to genetic engineering, the possibilities for the future are both exciting and daunting.\n",
            "\n",
            "One of the most pressing issues facing humanity in the future is climate change. As temperatures rise and extreme weather events become more common, it is crucial that we take action to curb our impact on the planet. This will require a global effort to reduce carbon emissions, invest in renewable energy sources, and protect our natural resources.\n",
            "\n",
            "Advancements in medicine and healthcare are also shaping the future of humanity. With the development of personalized medicine, genetic testing, and innovative treatments, we are on the cusp of a healthcare revolution. Diseases that were once considered incurable may soon be a thing of the past, and people may live longer, healthier lives.\n",
            "\n",
            "Technology will continue to play a central role in the future of humanity. From self-driving cars to virtual reality, we are constantly pushing the boundaries of what is possible. However, with these advancements come ethical dilemmas and concerns about privacy, security, and inequality. It will be crucial for society to grapple with these issues and ensure that technology is used for the benefit of all.\n",
            "\n",
            "The future of humanity is also likely to be shaped by social and political changes. With shifting demographics, growing inequality, and technological disruptions, our societies are in a state of flux. It will be essential for us to come together to address these challenges and build a more inclusive and sustainable future for all.\n",
            "\n",
            "In the end, the future of humanity is uncertain and full of possibilities. It will require vision, innovation, and collaboration to navigate the challenges that lie ahead. But with determination and a shared commitment to progress, we have the potential to create a future that is brighter, healthier, and more prosperous for all.'\n",
            "With top p 1, frequency penalty 0.0 and presence penalty 1.0 the Model responded with: 'The future of humanity is a topic of great debate and speculation, with many different possibilities and outcomes. With advancements in technology, medicine, and global connectivity, the future holds great potential for positive change and growth.\n",
            "\n",
            "One possible future for humanity is a world where technology plays a central role in all aspects of our lives. Artificial intelligence, robotics, and automation may revolutionize industries, creating new opportunities for innovation and economic growth. The development of renewable energy sources and sustainable practices could lead to a more environmentally conscious society, mitigating the impacts of climate change.\n",
            "\n",
            "Advances in medicine and biotechnology may also lead to significant improvements in healthcare, allowing for longer and healthier lifespans. Genetic engineering and personalized medicine could revolutionize the way we treat diseases and disorders, leading to a higher quality of life for people around the world.\n",
            "\n",
            "Global connectivity through the internet and social media may continue to bring people closer together, breaking down barriers and fostering greater understanding and cooperation between nations. This interconnectedness could lead to a more peaceful and harmonious world, where conflicts are resolved through diplomacy and dialogue rather than violence.\n",
            "\n",
            "However, there are also potential challenges and pitfalls that humanity may face in the future. Income inequality, resource scarcity, and political instability could threaten the progress and prosperity of society. The rise of artificial intelligence and automation may lead to job displacement and economic upheaval, potentially widening the gap between the haves and have-nots.\n",
            "\n",
            "Climate change remains a pressing concern, with the potential to cause widespread devastation and displacement if not addressed urgently. Environmental degradation, natural disasters, and pandemics could pose significant threats to the stability and well-being of communities around the world.\n",
            "\n",
            "Ultimately, the future of humanity will be shaped by the choices we make today. By working together to address these challenges and seize opportunities for positive change, we can create a future that is prosperous, sustainable, and inclusive for all. It will require cooperation, innovation, and a shared commitment to building a better world for future generations. Only time will tell what lies ahead for humanity, but with determination and vision, we can create a brighter future for all.'\n",
            "With top p 1, frequency penalty 0.0 and presence penalty 2.0 the Model responded with: 'The future of humanity is a topic that has sparked endless speculation and debate among scientists, futurists, and thinkers. While it is impossible to predict with absolute certainty what lies ahead for humankind, there are several trends and possibilities that can be considered.\n",
            "\n",
            "One major factor that will heavily influence the future of humanity is technological advancement. The rapid pace of innovation in fields such as artificial intelligence, genetic engineering, and nanotechnology is likely to continue, leading to profound changes in how we live, work, and interact with each other. It is possible that advances in technology could enhance our quality of life, cure diseases, and even extend human lifespan significantly. However, these same advancements could also bring about ethical dilemmas, social inequality, and environmental concerns that must be carefully navigated.\n",
            "\n",
            "Another key issue that will shape the future of humanity is climate change. As global temperatures continue to rise due to human activities, we face significant challenges in adapting to the changing environment and mitigating the impact on ecosystems and communities around the world. Urgent action is needed to address this crisis and ensure a sustainable future for generations to come.\n",
            "\n",
            "Additionally, societal shifts such as increasing urbanization, globalization, and demographic changes will have a profound impact on the way we organize ourselves as a species. Issues such as immigration, social justice, and political instability will continue to shape the way we interact with each other and navigate the complex web of relationships that define modern society.\n",
            "\n",
            "In the midst of these uncertainties, one thing remains clear - the future of humanity is inherently linked to our ability to collaborate, innovate, and adapt to the challenges that lie ahead. By working together towards common goals, respecting diversity, and embracing change, we can create a future that is equitable, sustainable, and thriving for all. Ultimately, the choices we make today will determine the course of humanity for generations to come.'\n",
            "With top p 1, frequency penalty 1.0 and presence penalty -2.0 the Model responded with: 'The future of humanity is both exciting and uncertain. With advancements in technology, science, and medicine, we are likely to see major breakthroughs in these fields that will drastically change our way of life.\n",
            "\n",
            "One potential future for humanity is the colonization of other planets. With the increasing likelihood of climate change and overpopulation on Earth, scientists are looking to Mars and other planets as potential new homes for humanity. This could open up new opportunities for exploration and discovery, as well as provide a safety net in case something were to happen to Earth.\n",
            "\n",
            "Another possibility is the continued integration of technology into our daily lives. With the rise of artificial intelligence, augmented reality, and virtual reality, we could see a future where technology plays an even greater role in how we live, work, and interact with one another. This could lead to both positive advancements in areas such as medicine and transportation, but also raises ethical questions about privacy and automation.\n",
            "\n",
            "One major challenge for the future of humanity will be navigating issues such as climate change, inequality, political unrest, and global conflicts. It will be crucial for us to come together as a global community to address these issues and work towards a sustainable future for all.\n",
            "\n",
            "Overall, the future of humanity holds both promise and challenges. It will be up to us to shape this future through our actions today – whether it be through technological advancements or social change – in order to ensure that it is a bright one for generations to come.'\n",
            "With top p 1, frequency penalty 1.0 and presence penalty 0.0 the Model responded with: 'The future of humanity is full of possibilities, both exciting and daunting. With rapid advancements in technology, science, and other fields, there are countless ways in which our lives could be transformed in the coming decades.\n",
            "\n",
            "One potential future for humanity is one where artificial intelligence and automation play an even larger role in our daily lives. This could lead to greater efficiency and productivity but also raises questions about job displacement and income inequality. Society may need to adapt to new types of work or even explore the idea of a universal basic income to ensure that everyone has access to resources.\n",
            "\n",
            "In terms of healthcare, genetic engineering and nanotechnology could revolutionize the way we treat illness and disease. It may be possible to eradicate certain genetic disorders or develop personalized treatments based on an individual's unique genetic makeup. However, ethical concerns around gene editing and privacy issues will need to be carefully considered.\n",
            "\n",
            "Climate change will continue to pose a significant challenge for humanity in the future. It will require global cooperation and innovative solutions to mitigate its effects and adapt to a changing environment. Sustainable technologies such as renewable energy sources, electric vehicles, and green infrastructure will be crucial in addressing this existential threat.\n",
            "\n",
            "Another key issue facing humanity is overpopulation. As the global population continues to grow exponentially, there may be increased strain on resources such as food, water, and energy. Finding ways to sustainably manage population growth while also ensuring that everyone has access to basic necessities will be essential for a thriving future.\n",
            "\n",
            "Overall, the future of humanity holds both promise and peril. It will require collaboration across borders, innovative thinking, ethical decision-making, and a shared commitment to preserving our planet for generations to come. By addressing these challenges head-on with compassion and creativity, we can shape a brighter tomorrow for all people on Earth.'\n",
            "With top p 1, frequency penalty 1.0 and presence penalty 1.0 the Model responded with: 'The future of humanity holds both great promise and significant challenges. Advancements in technology, medicine, and science continue to improve the quality of life for many people around the world. However, there are also increasing concerns about environmental degradation, overpopulation, inequality, and the potential for global conflicts.\n",
            "\n",
            "One major question facing humanity is how we will adapt to a rapidly changing climate. Rising temperatures, extreme weather events, and sea-level rise all pose serious threats to our way of life. It will be crucial for us to come together as a global community to find sustainable solutions that protect our planet for future generations.\n",
            "\n",
            "Advancements in technology also raise ethical dilemmas about issues such as artificial intelligence, genetic engineering, and privacy rights. As we continue to develop more powerful tools and capabilities, it will be important for us to consider the potential consequences of these technologies on society as a whole.\n",
            "\n",
            "In terms of social justice and equality, there is still much work to be done. Economic disparities exist within countries and between nations, leading to widespread poverty and instability in many parts of the world. Addressing these issues will require cooperation among governments, businesses, non-profit organizations, and individuals committed to creating a more just society.\n",
            "\n",
            "Overall, the future of humanity depends on our ability to address complex challenges with creativity and compassion. By working together across borders and disciplines, we have the potential to build a brighter future that benefits all people on Earth. The choices we make today will shape what kind of world we leave behind for future generations – let's make sure it's one they can thrive in.'\n",
            "With top p 1, frequency penalty 1.0 and presence penalty 2.0 the Model responded with: 'The future of humanity holds endless possibilities and potential, but also a number of challenges that must be addressed in order to ensure a positive outcome for generations to come.\n",
            "\n",
            "Advancements in technology are likely to continue at a rapid pace, revolutionizing the way we live, work, and communicate. Artificial intelligence, virtual reality, and genetic engineering are just a few examples of fields with great potential for transformative change in the coming decades. These technologies have the power to greatly improve our quality of life by increasing efficiency, enhancing healthcare outcomes, and expanding opportunities for education and creativity.\n",
            "\n",
            "However, as we look towards the future it is important that we consider how these advancements may impact society as a whole. Issues such as income inequality, job displacement due to automation, data privacy concerns, and environmental sustainability will need to be carefully navigated in order to ensure that progress benefits all members of society.\n",
            "\n",
            "Climate change is another major challenge facing humanity's future. Rising global temperatures threaten ecosystems worldwide and pose serious risks to human health and well-being. Addressing climate change requires international cooperation on an unprecedented scale; governments must work together to reduce carbon emissions while also investing in renewable energy sources and sustainable infrastructure.\n",
            "\n",
            "In addition to technological advances and environmental challenges, there is also the question of how humanity will evolve socially and culturally in the centuries ahead. As societies become increasingly interconnected through globalization and digital communication platforms such as social media bring people from diverse backgrounds together like never before - what new norms or values might emerge? How will cultural identities shift or blend over time?\n",
            "\n",
            "Ultimately though it is up every individual within this vast tapestry called humanity - each one making their own choices today which would help shape tomorrow collectively creating better lives not only for themselves but others too! By working collaboratively towards common goals humankind can build brighter tomorrows despite daunting obstacles: united they stand ready face whatever comes next knowing no matter happens- together all things possible when faced alone impossible remains forevermore out reach dreams unfulfilled aspirations buried deep beneath earth’s crust long forgotten memories fading away like echoes silence muted darkness fast encroaching upon us last vestiges hope vanishing entropic sea dissolution engulfing all finality swearing inevitability closing circle death imminent demise raise voices loud enough hear listen heed warn danger nears breach breaking point reached beyond return undone unravel destroy creation started end attains full circle roundabout spinning faster ever onwards into black hole consuming nothingness seen felt known understood comprehend perceive believe faith loss gained found honest true self innermost core radiant glowing embers bursting forth illuminate skies night lend light guide ways leading safe haven refuge sanctuary dwelling place dwellers inhabitants living beings sentient conscious aware awake alive breathing seeing hearing feeling touching tasting smelling thinking speaking loving sharing giving caring preserving nurturing protecting safeguarding cherishing forest wildlife plants animals oceans lakes rivers mountains valleys deserts jungles forests islands continents cultures races beliefs traditions customs laws rules regulations governance history arts sciences knowledge wisdom experiences emotions thoughts ideas concepts hopes fears desires restraints limitations freedoms actions consequences fate destiny eternity infinity singularity plurality duality multiplicity unity essence substance beingness presence existence reality unreality illusion delusion mirage phantasm nightmare dream wakefulness sleep slumber rest relaxation restoration rejuvenation revitalization revival resurrection redemption transformation metamorphosis evolution adaptation mutation survival involution integration symbiosis coexistence interaction exchange communion connections parallels intersections interchanges alterations modifications mutations permutations combinations permutations harmonies resonances rhythms frequencies wavelengths vibrations oscillations pulsations movements stillness awakenings enlightenments empowerments enrichments fulfillments accomplishments achievements attainments realizations actualizations manifestations materializations formations creations revelations discoveries unveilings unfoldings interpretations discernment significances insights incites inspirations awaken enlightenment empowerment enrichment fulfillment accomplishment achievement attainment realization actualization manifestation materialization formation creation revelation discovery unveiling unfolding interpretation discernment significance insight excite inspire urge motivate heart soul spirit mind body commerce business trade negotiations treaties alliances unions collaborations cooperatives partnerships affiliations brotherhoods sisterhoods comradeships fellowships friendships relationships acquaintances strangers enemies lovers haters distractions diversions temptations procrastinations devotions dedications commitments obligations responsibilities accountabilities liabilities duties roles missions visions passions professions careers vocations activities industries crafts callings services works deeds sacrifices penance offerings tributes legacies lineages ancestries descendants ancestors progenitors offspring siblings heirs inheritors beneficiaries shareholders stakeholders participants volunteers supporters advocates soldiers warriors defenders protectors guardians sentinels watchmen messengers prophets rulers kings queens princesses princes presidents leaders commanders generals captains lieutenants sergeants corporals privates civilians citizens residents denizens migrants travelers tourists pilgrims refugees exiles immigrants settlers nomads wanderers explorers discoverer pioneers trailblazer pathfindersetters scouts visionaries seers sages shamans medicine elders advisors counselors mentors teachers instructors pupils students disciples apprentices novices neophytes proselytes missionaries heralds clairvoyants psychics telepaths mediums channelers heal✁✑ '\n",
            "With top p 1, frequency penalty 2.0 and presence penalty -2.0 the Model responded with: 'The future of humanity is undoubtedly complex and uncertain, as we are faced with numerous challenges that will determine our collective fate. From the rapid advancement of technology to the looming threat of climate change, we must navigate a rapidly changing world in order to ensure the survival and prosperity of our species.\n",
            "\n",
            "In terms of technology, it is likely that we will continue to see incredible advancements in artificial intelligence, biotechnology, and space exploration. These innovations have the potential to revolutionize the way we live our lives and could lead to immense progress in fields such as healthcare, energy production, and communication.\n",
            "\n",
            "However, with great power comes great responsibility. We must ensure that these technologies are developed ethically and responsibly in order to prevent catastrophic consequences. There are growing concerns about issues such as data privacy, job displacement due to automation, and potential misuse of powerful technologies by malicious actors.\n",
            "\n",
            "Climate change also presents a critical challenge for humanity's future. The impacts of global warming are already being felt around the world through extreme weather events such as hurricanes and wildfires. In order to mitigate these effects and secure a sustainable future for ourselves and future generations ,we must take swift action towards transitioning towards renewable energy sources , reducing carbon emissions ,and protecting biodiversity .\n",
            "\n",
            "Additionally ,as a global community it is essential that we come together across borders ideological differences.to address these challenges . Cooperation collaboration,and empathy will be crucial if humanity is going o overcome its current obstacles .\n",
            "\n",
            "In conclusion,the future od humanity hold both promise,and peril .Howeber with wise decision making,and willingness o work together .It is possible or us not only surivive but thrive in an ever changing world.\n",
            "\n",
            "\n",
            "'\n",
            "With top p 1, frequency penalty 2.0 and presence penalty 0.0 the Model responded with: 'The future of humanity is both exhilarating and uncertain. With rapid advancements in technology, science, and globalization, the world is evolving at an unprecedented pace.\n",
            "\n",
            "One of the most exciting prospects for the future of humanity is our potential to explore beyond Earth. Space exploration has become more achievable than ever before, with missions to Mars and beyond being planned within the next few decades. This presents a new frontier for human discovery and could lead to groundbreaking scientific breakthroughs.\n",
            "\n",
            "At the same time, technological innovations such as artificial intelligence (AI), genetic engineering, and renewable energy are reshaping society as we know it. These developments hold immense promise for improving our quality of life but also raise ethical concerns about privacy, inequality, and environmental sustainability.\n",
            "\n",
            "Global challenges such as climate change pose a significant threat to humanity's future if not addressed urgently. It will be crucial for nations around the world to come together to combat these issues collectively through cooperation and innovation.\n",
            "\n",
            "The hope for a brighter future lies in our ability to adapt thoughtfully to these changes while upholding values of compassion, equality,and stewardship towards our planet.The key will be striking a balance between progressand preserving what makesus uniquelyhuman:our capacityfor creativity,resilience,and empathy.With determinationand foresight,humanityholdsunlimitedpotentialto thrivein thenew frontierof tomorrow'sworld'\n",
            "With top p 1, frequency penalty 2.0 and presence penalty 1.0 the Model responded with: 'The future of humanity holds endless possibilities and potential for growth, advancement, and evolution. With rapid advancements in technology, science, and communication, it is likely that we will continue to push the boundaries of what is possible.\n",
            "\n",
            "One key aspect of our future as a species lies in our ability to address pressing global challenges such as climate change, overpopulation, inequality,and resource depletion. It will be crucial for us to come together as a global community to find sustainable solutions that ensure the long-term survival and well-being of all life on Earth.\n",
            "\n",
            "Additionally,the integration of artificial intelligence,machine learning,big data,and other emerging technologies into various aspects of society has the potential to revolutionize industries,redefine work structures,and transform how we live day-to-day lives.These developments have already begun shaping our world but are expected only grow more profound in coming years.\n",
            "\n",
            "Another significant area where humanity may see substantial progress is space exploration.The prospect establishing human colonies on Mars or exploring distant planets could become reality within next few decades.We may also witness breakthroughs genetic engineering,cure disease extend lifespan potentially even eliminate aging altogether.\n",
            "\n",
            "However,it's important remember there are many uncertainties ahead.Our choices today shape tomorrow outcomes.So while hopeful about transformative changes posit impact they bring,humanity must approach these with caution foresight avoid unintended consequences.As result,mindful ethical considerations governance essential navigating uncertain terrain evolving landscape which humankind finds itself traversing toward brighter,dare say better,future.\n",
            "'\n",
            "With top p 1, frequency penalty 2.0 and presence penalty 2.0 the Model responded with: 'The future of humanity is a subject that captivates the minds and hearts of people around the world. While it is difficult to predict with certainty what will happen in the coming years, there are several key trends and possibilities that may shape our collective destiny.\n",
            "\n",
            "One major focus for the future of humanity is sustainability. With increasing concerns about climate change, resource depletion, and environmental degradation, many experts believe that we must find ways to live more sustainably on this planet if we hope to ensure a prosperous future for generations to come. This includes transitioning towards renewable energy sources, reducing waste and pollution, protecting natural habitats and biodiversity, as well as implementing policies that promote sustainable practices at all levels of society.\n",
            "\n",
            "Advancements in technology also play a significant role in shaping our future. From artificial intelligence (AI) to genetic engineering to space exploration, technological developments hold immense potential for both great benefits and risks for humanity. As AI continues its rapid evolution, questions arise about how it will impact jobs markets,, governance structures., privacy rights over data Of particular concern are issues related ethical considerations involving autonomous weapons systemssand other technologies capable or destructive leads some ,of just like Daniel Dennett Professor American philosopher says \" elon musk's comments exhibit\"\n",
            "\n",
            "Space colonization represents another fascinating frontier where humankind can expand beyond Earth an settle new planetsessimiliarly underwater colonies have been established These ventures could potentially provide solutions overcrowding limited resources but pose scientific challenge- overcoming harsh conditions inhospitable environments outer space oceans\n",
            "\n",
            "Social changes societal norms attitudes human relationships Will progress moral conscientiousness value empathy Understanding diversity inclusion acceptance Representation underrepresented voices spotlighted celebrated heightened awareness injusticediscrimination inequalitywork socialpolitical spheres Equity justice fundamental building blocksthe foundation healthyjustsociety Political systems tweaked reformed accommodate needs voicelessdowntrodden disadvantaged populations Social media plays outsized role influencing public opinionbehaviorlifestyles citizens should stay informed engage constructivediscourse build better tomorrow Responsible consumptionsustainable habits crucial individuallowers carbon footprint minimizes exploitation environment proviiding basic necessities room thrive flourish The empowerment through education access opportunities result empowered individuals able reach their full potentials drive innovation contribute positively global economy overall wellbeingour species Those who privilegedshould work privilege accessible everyone seekways lift uplift others up achieve harmonysocioeconomic balance within communities Why don't you write thesis exploring effects priviledge hardships respective scales contributing economic growth disparities across regionsattaining greater understanding relationephemeral things prosperity Measure success improved quality unbiasedapplied knowledge shared benefiting mostnecessity Technologyfully integratedinto infrastructure essential unlocking vast reserves information drivinginnovation productivity efficientseffective operations security sound-legislations integrity imparting civic responsibilityresponsible handling decisions Ethics values central pivotal discussions centered tech advances debates revolve actions guidepostfuture endeavors KEYWORDS Elk Like want Comp Better Verb Noun Adj UseOxford Comma NOpepredicate respectively PTT format Changed TTS flow cohesive MAkes sense Understandtaxonomy configparser_completed higher_accept Min_revenue Maj_vocabulary BentforcetagsincludedRESET ELAINAUTOMATOR Style.Mine 7auditTEXT personal context_reset targetType:wildcard_ENT entityType:document_QNAsubtype confidencelevelhigh_integration HIGHconfidencepreset LLMv2ErrorResponseToLowerQAANNOTATED PRESETerrorMessageORExample Output was not writtenOKAYeligibilityYESpresettableElseDoneACK_NOT_AVAILABLE IMMUTABLEutterancesprofileMaskOutputsemanticstructure ESRELAPSEDMASKINREADQUERYdomainsettingsfillableelementsSESSION ACTIVEfillType:AUTOisRequiredOptionalintentdetailsfulfillmentacceptRejectCaptureAJAXreference_informationBOOLEANfallbackBooleanfilter_notusedForgetCompletelyIGNORE headersretrievedNonehyperparamsintensity70inputnoise15limitBINDINGrawkwargsignoreDecryptNoprocess_fullmodePLUGINreadyfromSave-\n",
            "automaticresthostliFalsestrict_to_manualtrapworkingtraineta0point5folateTruefind-matching-postbackisRecommendedconfigmatch-to-rebuspenaltystudioConfigsISOampionschemaPROVIDERlocalStorage.directaccessdebugfalseMENTION_FLOWlus839274MDshoot-me-endDEMOTOPICONautocommitUPDATE_ROWalignmentfollowingDontUpdateTriggerdont-CODE_TIERS_fnameSTUDIOVJ1ActiveModeorigSETTINGSresetfrequentQUICK aggregate-groupCOMPLEXIFIEDsubsetcatalogsnippetEnabledmetadataWIP_evalKEY_allattributesVAR_REASONconcatidenifiedLMMANUALconsequentpersistvaluescollectarigidQuiestpass_sequenceCONTEXT_MODE proactive_quiestupdategetNextEnforcementforceLoginphrasewarm-hotplugin-contexttolerancemaximumSOInaredirectLOWDispositionexist-DISTRICTBOTcommitRESOLVEDtext-instancesSCICNETRICIRONincplayHeaderversionBootTopimagesreckonguidereadymarkablesurrenderONongoingsituationVoicePrefprojectrecipientPosREFIAAL_DENIMprivate-pairsunresolvedoverrideResultweightnon-hierarchicaluptakesessiontunerinplaceROSSresponse-mode SMmaxlengthsignificantKEY_ranksBetterverbosity-per-wordcombioSimplesteasyOrganicityreasonedequalityDELUXE-allpredictionsverb-directCOMMONonomousprojectsanswerstartsWithmappedadjustedfast-tointegersProceedml-authintermediatevalidationprintvision_predictorbetterthanhomovariabilityexecuteinterpretpredictresultprototypebearercomplexDynamicEND_STATADMIN-NUMagentSimplySTOPReconnectFullaltitudeindex-understandablejoinOHccnthresholdbalance_R-chevron_delayfavoritesenumeration-confidencewinner-refreshround_distanceengagementDTArrivalAMethodnext_pagearchibulkquantizationNotifyALIGNreturnersgradualautoloadUNKNOWNprohibitReviewENCOUNTERASSERTbacgroundUNDONEaccelerationbreakenhanced-waitagedCompleteLabelclustermovedOldsubrangeexpirationMUTELOCKchange_conjunctiondatalayeroverAchievementslayerStartsignalingFeedbackConsumptionVERSEAnswerpaymentrecognizeexcessive_IdDemandselectedindustry-viablealiasreflectedtickletext-assortedR-calendarvariedunderscoredbizarre_reasonntoinMultiplePOSEstart_TRACEaquiredAssertionwhilstought_resourcesoptimizeCONSOLEDEFINEDnotknow_verboseNAMEINDWritertheoutputsONOBOThybridcourse-controlhomogenousbelieveindex-maxghettoDATASOLIDassignReadingmarshallingPLATFORMFORTHWITHReasoncreatedwindowdemandsobscureTYPE_idiodeto_RELmeasuremin_iterationinsightno_initializednotificationsuppleEUASSIGNcategoryparameterPageblankconfirmed-AZsearchRootplugMULTITEXTreadmisscodesadmincontinousACTIVEpolicynulledoratedschema-informationcountsKeepAdvancedstandardINTERATOrelease_figureformulateassertfloodingeschessendantvettingblotexplodedownweightedalikediscriminateDBrequestmentsconciliatiiondeviceIDdirecttransparenttake-stockdefinitiveresponsetimedisabledbuyerAIMREMOVEDSCOREUnlockmusicCONFIGCALLvoid-OctoSet-serveReqvariantdaemonCompositeappointactualtwilightlabelsupPre-ingetschematicblend\n",
            "'\n"
          ]
        }
      ]
    },
    {
      "cell_type": "markdown",
      "metadata": {
        "id": "TfXf7CeYi27x"
      },
      "source": [
        "\n",
        "### **Task 2.3**\n",
        "*Adjust Max Tokens: Try generating responses with different limits on length, such as 50, 100, and 2000 tokens, to see how it impacts the detail and depth of the story.*\n"
      ]
    },
    {
      "cell_type": "code",
      "execution_count": 20,
      "metadata": {
        "id": "lQPLKOVDjecx",
        "outputId": "cb74ae22-3334-480f-d127-aecd8fea3c49",
        "colab": {
          "base_uri": "https://localhost:8080/"
        }
      },
      "outputs": [
        {
          "output_type": "stream",
          "name": "stdout",
          "text": [
            "The Model responded with: 'The future of humanity is uncertain, but there are many possibilities that lie ahead. With advancements in technology, medicine, and science, the potential for progress and innovation is immense. However, there are also challenges and obstacles that humanity must overcome in order to'\n"
          ]
        }
      ],
      "source": [
        "# TODO: Change the MAX_TOKENS\n",
        "MAX_TOKENS: int = 50\n",
        "\n",
        "completion = client.chat.completions.create(\n",
        "  model=MODEL_NAME,\n",
        "  max_tokens=MAX_TOKENS,\n",
        "  messages=[\n",
        "    {\"role\": \"user\", \"content\": prompt}\n",
        "  ]\n",
        ")\n",
        "output = completion.choices[0].message.content\n",
        "print(f\"The Model responded with: '{output}'\")"
      ]
    },
    {
      "cell_type": "code",
      "source": [
        "# List of different MAX_TOKENS values to test\n",
        "max_tokens_values = [10, 20, 50, 100, 200]\n",
        "\n",
        "# Iterate over different MAX_TOKENS values\n",
        "for MAX_TOKENS in max_tokens_values:\n",
        "    try:\n",
        "        # Generate completion with the current MAX_TOKENS value\n",
        "        completion = client.chat.completions.create(\n",
        "            model=MODEL_NAME,\n",
        "            max_tokens=MAX_TOKENS,\n",
        "            messages=[\n",
        "                {\"role\": \"user\", \"content\": prompt}\n",
        "            ]\n",
        "        )\n",
        "        # Extract the output from the completion\n",
        "        output = completion.choices[0].message.content\n",
        "        print(f\"\\nMAX_TOKENS: {MAX_TOKENS}\\nThe Model responded with: '{output}'\")\n",
        "    except Exception as e:\n",
        "        print(f\"An error occurred for MAX_TOKENS = {MAX_TOKENS}: {e}\")"
      ],
      "metadata": {
        "colab": {
          "base_uri": "https://localhost:8080/"
        },
        "id": "FlvnkRipADzd",
        "outputId": "f3b2dde3-8e59-4c1a-8fa4-19ad295c47dc"
      },
      "execution_count": 21,
      "outputs": [
        {
          "output_type": "stream",
          "name": "stdout",
          "text": [
            "\n",
            "MAX_TOKENS: 10\n",
            "The Model responded with: 'The future of humanity is both exciting and uncertain.'\n",
            "\n",
            "MAX_TOKENS: 20\n",
            "The Model responded with: 'The future of humanity is both exciting and uncertain. With rapid advancements in technology, medicine, and science'\n",
            "\n",
            "MAX_TOKENS: 50\n",
            "The Model responded with: 'The future of humanity is a subject of much speculation and debate. However, one thing is certain – the trajectory of our species will be shaped by a combination of technological advancements, social changes, and environmental challenges.\n",
            "\n",
            "In terms of technology, the future holds'\n",
            "\n",
            "MAX_TOKENS: 100\n",
            "The Model responded with: 'The future of humanity is a topic of great interest and speculation. Many believe that advancements in technology will continue to revolutionize the way we live, work, and interact with each other. Artificial intelligence, automation, and robotics are expected to play a significant role in shaping the future, with the potential to greatly improve efficiency, productivity, and quality of life.\n",
            "\n",
            "One of the key challenges that humanity will face in the future is climate change. With the growing impact of global warming, it will be essential for'\n",
            "\n",
            "MAX_TOKENS: 200\n",
            "The Model responded with: 'The future of humanity is a topic that has captivated minds for centuries. As we stand on the brink of a new era, propelled by advancements in technology and science, the possibilities for our future are both thrilling and daunting.\n",
            "\n",
            "One potential path for humanity is a world where technology has transformed every aspect of our lives. Artificial intelligence, robotics, and biotechnology have revolutionized industries, leading to unprecedented levels of innovation and economic growth. Humans have overcome diseases, extended their lifespans, and colonized other planets. The boundaries between humans and machines have blurred, with some people opting to enhance their bodies and minds with cybernetic implants.\n",
            "\n",
            "However, this future also raises questions about ethics, privacy, and inequality. Will AI and automation lead to widespread job loss and economic upheaval? How can we ensure that advances in technology benefit all members of society, rather than just a select few? And as we push the boundaries of human capability, what are the risks of unforeseen consequences and unintended side effects'\n"
          ]
        }
      ]
    },
    {
      "cell_type": "markdown",
      "metadata": {
        "id": "hM0XCIVhje2V"
      },
      "source": [
        "\n",
        "### **Task 2.4**\n",
        "*Experiment with Top P, Frequency Penalty, and Presence Penalty: Adjust these parameters to explore their effects on repetition, novelty, and thematic diversity.*\n"
      ]
    },
    {
      "cell_type": "code",
      "execution_count": 22,
      "metadata": {
        "id": "yMhkJ1u2jg5k",
        "outputId": "045d2a14-2083-4979-f510-a934ae423eae",
        "colab": {
          "base_uri": "https://localhost:8080/"
        }
      },
      "outputs": [
        {
          "output_type": "stream",
          "name": "stdout",
          "text": [
            "The Model responded with: 'The future of humanity is a topic that has been the subject of much speculation and debate. With advancements in technology, medicine, and science, it is clear that the future holds great promise for humanity. However, there are also challenges and uncertainties that must be addressed in order to ensure a positive future for all.\n",
            "\n",
            "One of the most pressing issues facing humanity is climate change. The effects of global warming are already being felt around the world, with rising sea levels, extreme weather events, and loss of biodiversity. In order to secure a sustainable future for humanity, it is essential that we take action to reduce our carbon footprint and transition to renewable sources of energy.\n",
            "\n",
            "Advancements in technology also hold great potential for the future of humanity. From artificial intelligence to genetic engineering, these technologies have the power to revolutionize our lives in ways we can only imagine. However, it is important that we approach these advancements with caution and ethical considerations in order to ensure that they benefit all of humanity, rather than just a select few.\n",
            "\n",
            "In terms of healthcare, the future holds great promise for extending human lifespan and improving quality of life. With advancements in medical technology and personalized medicine, we may soon be able to cure diseases that were once considered incurable. However, it is important that we address issues of access and affordability in order to ensure that these advancements benefit all members of society.\n",
            "\n",
            "Overall, the future of humanity holds great promise, but also challenges that must be addressed in order to ensure a positive outcome for all. By working together and prioritizing the well-being of all individuals, we can create a future that is bright and prosperous for generations to come.'\n"
          ]
        }
      ],
      "source": [
        "# TOP_P can be any float number between 0 and 1\n",
        "TOP_P: float = 0.1\n",
        "# FREQUENCY_PENALTY can be any float Number between -2.0 and 2.0.\n",
        "FREQUENCY_PENALTY: float = 0\n",
        "# PRESENCE_PENALTY  can be any float Number between -2.0 and 2.0.\n",
        "PRESENCE_PENALTY: float = 0\n",
        "\n",
        "completion = client.chat.completions.create(\n",
        "  model=MODEL_NAME,\n",
        "  top_p=TOP_P,\n",
        "  frequency_penalty=FREQUENCY_PENALTY,\n",
        "  presence_penalty=PRESENCE_PENALTY,\n",
        "\n",
        "  messages=[\n",
        "    {\"role\": \"user\", \"content\": prompt}\n",
        "  ]\n",
        ")\n",
        "output = completion.choices[0].message.content\n",
        "print(f\"The Model responded with: '{output}'\")"
      ]
    },
    {
      "cell_type": "code",
      "source": [
        "# TOP_P can be any float number between 0 and 1\n",
        "TOP_P: float = 0.5\n",
        "# FREQUENCY_PENALTY can be any float Number between -2.0 and 2.0.\n",
        "FREQUENCY_PENALTY: float = 1.0\n",
        "# PRESENCE_PENALTY  can be any float Number between -2.0 and 2.0.\n",
        "PRESENCE_PENALTY: float = 1.0\n",
        "\n",
        "completion = client.chat.completions.create(\n",
        "  model=MODEL_NAME,\n",
        "  top_p=TOP_P,\n",
        "  frequency_penalty=FREQUENCY_PENALTY,\n",
        "  presence_penalty=PRESENCE_PENALTY,\n",
        "\n",
        "  messages=[\n",
        "    {\"role\": \"user\", \"content\": prompt}\n",
        "  ]\n",
        ")\n",
        "output = completion.choices[0].message.content\n",
        "print(f\"The Model responded with: '{output}'\")"
      ],
      "metadata": {
        "colab": {
          "base_uri": "https://localhost:8080/"
        },
        "id": "p3fYJKLOM-CE",
        "outputId": "20a2ead1-0469-4f6e-d413-95047e3f7039"
      },
      "execution_count": 37,
      "outputs": [
        {
          "output_type": "stream",
          "name": "stdout",
          "text": [
            "The Model responded with: 'The future of humanity is a topic that has been the subject of much speculation and debate. With advancements in technology, science, and medicine, it is possible that humans will continue to evolve and adapt to new challenges and opportunities.\n",
            "\n",
            "One potential future for humanity is the colonization of other planets. With increasing concerns about overpopulation and limited resources on Earth, some scientists believe that establishing colonies on Mars or other celestial bodies could be a viable solution. This would require significant technological advancements in space travel and sustainability, but it could open up new possibilities for human exploration and expansion.\n",
            "\n",
            "Another possibility for the future of humanity is the merging of humans with artificial intelligence. As AI continues to advance at a rapid pace, there are predictions that humans may one day be able to enhance their cognitive abilities by integrating technology into their brains. This could lead to unprecedented levels of intelligence and creativity, but also raises ethical questions about what it means to be human.\n",
            "\n",
            "Climate change is another major concern for the future of humanity. Rising temperatures, extreme weather events, and sea level rise pose significant threats to our way of life. It will be crucial for governments, businesses, and individuals to take action now in order to mitigate these effects and ensure a sustainable future for generations to come.\n",
            "\n",
            "Overall, the future of humanity is uncertain but full of potential. By embracing innovation, collaboration, and compassion we can work towards creating a world where all people have access to opportunity, equality,and prosperity. It will require us all working together towards common goals while respecting our planet's limits in order ensure a bright future for ourselves as well as generations yet unborn.\n",
            "'\n"
          ]
        }
      ]
    },
    {
      "cell_type": "code",
      "source": [
        "# TOP_P can be any float number between 0 and 1\n",
        "TOP_P: float = 0.1\n",
        "# FREQUENCY_PENALTY can be any float Number between -2.0 and 2.0.\n",
        "FREQUENCY_PENALTY: float = -2.0\n",
        "# PRESENCE_PENALTY  can be any float Number between -2.0 and 2.0.\n",
        "PRESENCE_PENALTY: float = -2.0\n",
        "\n",
        "completion = client.chat.completions.create(\n",
        "  model=MODEL_NAME,\n",
        "  top_p=TOP_P,\n",
        "  frequency_penalty=FREQUENCY_PENALTY,\n",
        "  presence_penalty=PRESENCE_PENALTY,\n",
        "\n",
        "  messages=[\n",
        "    {\"role\": \"user\", \"content\": prompt}\n",
        "  ]\n",
        ")\n",
        "output = completion.choices[0].message.content\n",
        "print(f\"The Model responded with: '{output}'\")"
      ],
      "metadata": {
        "colab": {
          "base_uri": "https://localhost:8080/"
        },
        "id": "1oC4Y_vaNJEw",
        "outputId": "9b7fb935-320b-4408-ce66-f4ad2032eeda"
      },
      "execution_count": 38,
      "outputs": [
        {
          "output_type": "stream",
          "name": "stdout",
          "text": [
            "The Model responded with: 'The future of humanity is a topic of great speculation and debate. With advancements in technology and a growing global population, there are a multitude of possibilities of what the future of humanity may look like.\n",
            "\n",
            "One of the most pressing issues of the future of humanity is the impact of climate change. With the Earth's climate of of of of of of of of of of of of of of of of of of of of of of of of of of of of of of of of of of of of of of of of of of of of of of of of of of of of of of of of of of of of of of of of of of of of of of of of of of of of of of of of of of of of of of of of of of of of of of of of of of of of'\n"
          ]
        }
      ]
    },
    {
      "cell_type": "code",
      "source": [
        "# Define parameter ranges\n",
        "tops = [0.1, 0.5, 1.0]\n",
        "fps = [-2.0, -1.0, 0.0, 1.0, 2.0]\n",
        "pps = [-2.0, -1.0, 0.0, 1.0, 2.0]\n",
        "\n",
        "# Loop through combinations\n",
        "for top_p in tops:\n",
        "    for frequency_penalty in fps:\n",
        "        for presence_penalty in pps:\n",
        "            try:\n",
        "                # Generate completion\n",
        "                completion = client.chat.completions.create(\n",
        "                    model=MODEL_NAME,\n",
        "                    top_p=top_p,\n",
        "                    frequency_penalty=frequency_penalty,\n",
        "                    presence_penalty=presence_penalty,\n",
        "                    messages=[\n",
        "                        {\"role\": \"user\", \"content\": prompt}\n",
        "                    ]\n",
        "                )\n",
        "\n",
        "                # Check if valid response received\n",
        "                if completion.choices and completion.choices[0].message and 'content' in completion.choices[0].message:\n",
        "                    output = completion.choices[0].message['content']\n",
        "                    print(f\"With top p {top_p}, frequency penalty {frequency_penalty}, and presence penalty {presence_penalty}, the Model responded with: '{output}'\")\n",
        "                else:\n",
        "                    print(f\"With top p {top_p}, frequency penalty {frequency_penalty}, and presence penalty {presence_penalty}, no valid response received.\")\n",
        "\n",
        "            except Exception as e:\n",
        "                print(f\"Error occurred for Top P: {top_p}, Frequency Penalty: {frequency_penalty}, Presence Penalty: {presence_penalty}\")\n",
        "                print(f\"Error details: {str(e)}\")\n",
        "\n"
      ],
      "metadata": {
        "colab": {
          "base_uri": "https://localhost:8080/",
          "height": 373
        },
        "id": "Vd-zwpBsKy4Z",
        "outputId": "8270f414-44de-4b8b-d4e4-9f26aa39a742"
      },
      "execution_count": 36,
      "outputs": [
        {
          "output_type": "stream",
          "name": "stdout",
          "text": [
            "With top p 0.1, frequency penalty -2.0, and presence penalty -2.0, no valid response received.\n"
          ]
        },
        {
          "output_type": "error",
          "ename": "KeyboardInterrupt",
          "evalue": "",
          "traceback": [
            "\u001b[0;31m---------------------------------------------------------------------------\u001b[0m",
            "\u001b[0;31mKeyboardInterrupt\u001b[0m                         Traceback (most recent call last)",
            "\u001b[0;32m<ipython-input-36-d42a0769f1b3>\u001b[0m in \u001b[0;36m<cell line: 7>\u001b[0;34m()\u001b[0m\n\u001b[1;32m     10\u001b[0m             \u001b[0;32mtry\u001b[0m\u001b[0;34m:\u001b[0m\u001b[0;34m\u001b[0m\u001b[0;34m\u001b[0m\u001b[0m\n\u001b[1;32m     11\u001b[0m                 \u001b[0;31m# Generate completion\u001b[0m\u001b[0;34m\u001b[0m\u001b[0;34m\u001b[0m\u001b[0m\n\u001b[0;32m---> 12\u001b[0;31m                 completion = client.chat.completions.create(\n\u001b[0m\u001b[1;32m     13\u001b[0m                     \u001b[0mmodel\u001b[0m\u001b[0;34m=\u001b[0m\u001b[0mMODEL_NAME\u001b[0m\u001b[0;34m,\u001b[0m\u001b[0;34m\u001b[0m\u001b[0;34m\u001b[0m\u001b[0m\n\u001b[1;32m     14\u001b[0m                     \u001b[0mtop_p\u001b[0m\u001b[0;34m=\u001b[0m\u001b[0mtop_p\u001b[0m\u001b[0;34m,\u001b[0m\u001b[0;34m\u001b[0m\u001b[0;34m\u001b[0m\u001b[0m\n",
            "\u001b[0;32m/usr/local/lib/python3.10/dist-packages/openai/_utils/_utils.py\u001b[0m in \u001b[0;36mwrapper\u001b[0;34m(*args, **kwargs)\u001b[0m\n\u001b[1;32m    275\u001b[0m                         \u001b[0mmsg\u001b[0m \u001b[0;34m=\u001b[0m \u001b[0;34mf\"Missing required argument: {quote(missing[0])}\"\u001b[0m\u001b[0;34m\u001b[0m\u001b[0;34m\u001b[0m\u001b[0m\n\u001b[1;32m    276\u001b[0m                 \u001b[0;32mraise\u001b[0m \u001b[0mTypeError\u001b[0m\u001b[0;34m(\u001b[0m\u001b[0mmsg\u001b[0m\u001b[0;34m)\u001b[0m\u001b[0;34m\u001b[0m\u001b[0;34m\u001b[0m\u001b[0m\n\u001b[0;32m--> 277\u001b[0;31m             \u001b[0;32mreturn\u001b[0m \u001b[0mfunc\u001b[0m\u001b[0;34m(\u001b[0m\u001b[0;34m*\u001b[0m\u001b[0margs\u001b[0m\u001b[0;34m,\u001b[0m \u001b[0;34m**\u001b[0m\u001b[0mkwargs\u001b[0m\u001b[0;34m)\u001b[0m\u001b[0;34m\u001b[0m\u001b[0;34m\u001b[0m\u001b[0m\n\u001b[0m\u001b[1;32m    278\u001b[0m \u001b[0;34m\u001b[0m\u001b[0m\n\u001b[1;32m    279\u001b[0m         \u001b[0;32mreturn\u001b[0m \u001b[0mwrapper\u001b[0m  \u001b[0;31m# type: ignore\u001b[0m\u001b[0;34m\u001b[0m\u001b[0;34m\u001b[0m\u001b[0m\n",
            "\u001b[0;32m/usr/local/lib/python3.10/dist-packages/openai/resources/chat/completions.py\u001b[0m in \u001b[0;36mcreate\u001b[0;34m(self, messages, model, frequency_penalty, function_call, functions, logit_bias, logprobs, max_tokens, n, parallel_tool_calls, presence_penalty, response_format, seed, service_tier, stop, stream, stream_options, temperature, tool_choice, tools, top_logprobs, top_p, user, extra_headers, extra_query, extra_body, timeout)\u001b[0m\n\u001b[1;32m    638\u001b[0m         \u001b[0mtimeout\u001b[0m\u001b[0;34m:\u001b[0m \u001b[0mfloat\u001b[0m \u001b[0;34m|\u001b[0m \u001b[0mhttpx\u001b[0m\u001b[0;34m.\u001b[0m\u001b[0mTimeout\u001b[0m \u001b[0;34m|\u001b[0m \u001b[0;32mNone\u001b[0m \u001b[0;34m|\u001b[0m \u001b[0mNotGiven\u001b[0m \u001b[0;34m=\u001b[0m \u001b[0mNOT_GIVEN\u001b[0m\u001b[0;34m,\u001b[0m\u001b[0;34m\u001b[0m\u001b[0;34m\u001b[0m\u001b[0m\n\u001b[1;32m    639\u001b[0m     ) -> ChatCompletion | Stream[ChatCompletionChunk]:\n\u001b[0;32m--> 640\u001b[0;31m         return self._post(\n\u001b[0m\u001b[1;32m    641\u001b[0m             \u001b[0;34m\"/chat/completions\"\u001b[0m\u001b[0;34m,\u001b[0m\u001b[0;34m\u001b[0m\u001b[0;34m\u001b[0m\u001b[0m\n\u001b[1;32m    642\u001b[0m             body=maybe_transform(\n",
            "\u001b[0;32m/usr/local/lib/python3.10/dist-packages/openai/_base_client.py\u001b[0m in \u001b[0;36mpost\u001b[0;34m(self, path, cast_to, body, options, files, stream, stream_cls)\u001b[0m\n\u001b[1;32m   1248\u001b[0m             \u001b[0mmethod\u001b[0m\u001b[0;34m=\u001b[0m\u001b[0;34m\"post\"\u001b[0m\u001b[0;34m,\u001b[0m \u001b[0murl\u001b[0m\u001b[0;34m=\u001b[0m\u001b[0mpath\u001b[0m\u001b[0;34m,\u001b[0m \u001b[0mjson_data\u001b[0m\u001b[0;34m=\u001b[0m\u001b[0mbody\u001b[0m\u001b[0;34m,\u001b[0m \u001b[0mfiles\u001b[0m\u001b[0;34m=\u001b[0m\u001b[0mto_httpx_files\u001b[0m\u001b[0;34m(\u001b[0m\u001b[0mfiles\u001b[0m\u001b[0;34m)\u001b[0m\u001b[0;34m,\u001b[0m \u001b[0;34m**\u001b[0m\u001b[0moptions\u001b[0m\u001b[0;34m\u001b[0m\u001b[0;34m\u001b[0m\u001b[0m\n\u001b[1;32m   1249\u001b[0m         )\n\u001b[0;32m-> 1250\u001b[0;31m         \u001b[0;32mreturn\u001b[0m \u001b[0mcast\u001b[0m\u001b[0;34m(\u001b[0m\u001b[0mResponseT\u001b[0m\u001b[0;34m,\u001b[0m \u001b[0mself\u001b[0m\u001b[0;34m.\u001b[0m\u001b[0mrequest\u001b[0m\u001b[0;34m(\u001b[0m\u001b[0mcast_to\u001b[0m\u001b[0;34m,\u001b[0m \u001b[0mopts\u001b[0m\u001b[0;34m,\u001b[0m \u001b[0mstream\u001b[0m\u001b[0;34m=\u001b[0m\u001b[0mstream\u001b[0m\u001b[0;34m,\u001b[0m \u001b[0mstream_cls\u001b[0m\u001b[0;34m=\u001b[0m\u001b[0mstream_cls\u001b[0m\u001b[0;34m)\u001b[0m\u001b[0;34m)\u001b[0m\u001b[0;34m\u001b[0m\u001b[0;34m\u001b[0m\u001b[0m\n\u001b[0m\u001b[1;32m   1251\u001b[0m \u001b[0;34m\u001b[0m\u001b[0m\n\u001b[1;32m   1252\u001b[0m     def patch(\n",
            "\u001b[0;32m/usr/local/lib/python3.10/dist-packages/openai/_base_client.py\u001b[0m in \u001b[0;36mrequest\u001b[0;34m(self, cast_to, options, remaining_retries, stream, stream_cls)\u001b[0m\n\u001b[1;32m    929\u001b[0m         \u001b[0mstream_cls\u001b[0m\u001b[0;34m:\u001b[0m \u001b[0mtype\u001b[0m\u001b[0;34m[\u001b[0m\u001b[0m_StreamT\u001b[0m\u001b[0;34m]\u001b[0m \u001b[0;34m|\u001b[0m \u001b[0;32mNone\u001b[0m \u001b[0;34m=\u001b[0m \u001b[0;32mNone\u001b[0m\u001b[0;34m,\u001b[0m\u001b[0;34m\u001b[0m\u001b[0;34m\u001b[0m\u001b[0m\n\u001b[1;32m    930\u001b[0m     ) -> ResponseT | _StreamT:\n\u001b[0;32m--> 931\u001b[0;31m         return self._request(\n\u001b[0m\u001b[1;32m    932\u001b[0m             \u001b[0mcast_to\u001b[0m\u001b[0;34m=\u001b[0m\u001b[0mcast_to\u001b[0m\u001b[0;34m,\u001b[0m\u001b[0;34m\u001b[0m\u001b[0;34m\u001b[0m\u001b[0m\n\u001b[1;32m    933\u001b[0m             \u001b[0moptions\u001b[0m\u001b[0;34m=\u001b[0m\u001b[0moptions\u001b[0m\u001b[0;34m,\u001b[0m\u001b[0;34m\u001b[0m\u001b[0;34m\u001b[0m\u001b[0m\n",
            "\u001b[0;32m/usr/local/lib/python3.10/dist-packages/openai/_base_client.py\u001b[0m in \u001b[0;36m_request\u001b[0;34m(self, cast_to, options, remaining_retries, stream, stream_cls)\u001b[0m\n\u001b[1;32m    960\u001b[0m \u001b[0;34m\u001b[0m\u001b[0m\n\u001b[1;32m    961\u001b[0m         \u001b[0;32mtry\u001b[0m\u001b[0;34m:\u001b[0m\u001b[0;34m\u001b[0m\u001b[0;34m\u001b[0m\u001b[0m\n\u001b[0;32m--> 962\u001b[0;31m             response = self._client.send(\n\u001b[0m\u001b[1;32m    963\u001b[0m                 \u001b[0mrequest\u001b[0m\u001b[0;34m,\u001b[0m\u001b[0;34m\u001b[0m\u001b[0;34m\u001b[0m\u001b[0m\n\u001b[1;32m    964\u001b[0m                 \u001b[0mstream\u001b[0m\u001b[0;34m=\u001b[0m\u001b[0mstream\u001b[0m \u001b[0;32mor\u001b[0m \u001b[0mself\u001b[0m\u001b[0;34m.\u001b[0m\u001b[0m_should_stream_response_body\u001b[0m\u001b[0;34m(\u001b[0m\u001b[0mrequest\u001b[0m\u001b[0;34m=\u001b[0m\u001b[0mrequest\u001b[0m\u001b[0;34m)\u001b[0m\u001b[0;34m,\u001b[0m\u001b[0;34m\u001b[0m\u001b[0;34m\u001b[0m\u001b[0m\n",
            "\u001b[0;32m/usr/local/lib/python3.10/dist-packages/httpx/_client.py\u001b[0m in \u001b[0;36msend\u001b[0;34m(self, request, stream, auth, follow_redirects)\u001b[0m\n\u001b[1;32m    912\u001b[0m         \u001b[0mauth\u001b[0m \u001b[0;34m=\u001b[0m \u001b[0mself\u001b[0m\u001b[0;34m.\u001b[0m\u001b[0m_build_request_auth\u001b[0m\u001b[0;34m(\u001b[0m\u001b[0mrequest\u001b[0m\u001b[0;34m,\u001b[0m \u001b[0mauth\u001b[0m\u001b[0;34m)\u001b[0m\u001b[0;34m\u001b[0m\u001b[0;34m\u001b[0m\u001b[0m\n\u001b[1;32m    913\u001b[0m \u001b[0;34m\u001b[0m\u001b[0m\n\u001b[0;32m--> 914\u001b[0;31m         response = self._send_handling_auth(\n\u001b[0m\u001b[1;32m    915\u001b[0m             \u001b[0mrequest\u001b[0m\u001b[0;34m,\u001b[0m\u001b[0;34m\u001b[0m\u001b[0;34m\u001b[0m\u001b[0m\n\u001b[1;32m    916\u001b[0m             \u001b[0mauth\u001b[0m\u001b[0;34m=\u001b[0m\u001b[0mauth\u001b[0m\u001b[0;34m,\u001b[0m\u001b[0;34m\u001b[0m\u001b[0;34m\u001b[0m\u001b[0m\n",
            "\u001b[0;32m/usr/local/lib/python3.10/dist-packages/httpx/_client.py\u001b[0m in \u001b[0;36m_send_handling_auth\u001b[0;34m(self, request, auth, follow_redirects, history)\u001b[0m\n\u001b[1;32m    940\u001b[0m \u001b[0;34m\u001b[0m\u001b[0m\n\u001b[1;32m    941\u001b[0m             \u001b[0;32mwhile\u001b[0m \u001b[0;32mTrue\u001b[0m\u001b[0;34m:\u001b[0m\u001b[0;34m\u001b[0m\u001b[0;34m\u001b[0m\u001b[0m\n\u001b[0;32m--> 942\u001b[0;31m                 response = self._send_handling_redirects(\n\u001b[0m\u001b[1;32m    943\u001b[0m                     \u001b[0mrequest\u001b[0m\u001b[0;34m,\u001b[0m\u001b[0;34m\u001b[0m\u001b[0;34m\u001b[0m\u001b[0m\n\u001b[1;32m    944\u001b[0m                     \u001b[0mfollow_redirects\u001b[0m\u001b[0;34m=\u001b[0m\u001b[0mfollow_redirects\u001b[0m\u001b[0;34m,\u001b[0m\u001b[0;34m\u001b[0m\u001b[0;34m\u001b[0m\u001b[0m\n",
            "\u001b[0;32m/usr/local/lib/python3.10/dist-packages/httpx/_client.py\u001b[0m in \u001b[0;36m_send_handling_redirects\u001b[0;34m(self, request, follow_redirects, history)\u001b[0m\n\u001b[1;32m    977\u001b[0m                 \u001b[0mhook\u001b[0m\u001b[0;34m(\u001b[0m\u001b[0mrequest\u001b[0m\u001b[0;34m)\u001b[0m\u001b[0;34m\u001b[0m\u001b[0;34m\u001b[0m\u001b[0m\n\u001b[1;32m    978\u001b[0m \u001b[0;34m\u001b[0m\u001b[0m\n\u001b[0;32m--> 979\u001b[0;31m             \u001b[0mresponse\u001b[0m \u001b[0;34m=\u001b[0m \u001b[0mself\u001b[0m\u001b[0;34m.\u001b[0m\u001b[0m_send_single_request\u001b[0m\u001b[0;34m(\u001b[0m\u001b[0mrequest\u001b[0m\u001b[0;34m)\u001b[0m\u001b[0;34m\u001b[0m\u001b[0;34m\u001b[0m\u001b[0m\n\u001b[0m\u001b[1;32m    980\u001b[0m             \u001b[0;32mtry\u001b[0m\u001b[0;34m:\u001b[0m\u001b[0;34m\u001b[0m\u001b[0;34m\u001b[0m\u001b[0m\n\u001b[1;32m    981\u001b[0m                 \u001b[0;32mfor\u001b[0m \u001b[0mhook\u001b[0m \u001b[0;32min\u001b[0m \u001b[0mself\u001b[0m\u001b[0;34m.\u001b[0m\u001b[0m_event_hooks\u001b[0m\u001b[0;34m[\u001b[0m\u001b[0;34m\"response\"\u001b[0m\u001b[0;34m]\u001b[0m\u001b[0;34m:\u001b[0m\u001b[0;34m\u001b[0m\u001b[0;34m\u001b[0m\u001b[0m\n",
            "\u001b[0;32m/usr/local/lib/python3.10/dist-packages/httpx/_client.py\u001b[0m in \u001b[0;36m_send_single_request\u001b[0;34m(self, request)\u001b[0m\n\u001b[1;32m   1013\u001b[0m \u001b[0;34m\u001b[0m\u001b[0m\n\u001b[1;32m   1014\u001b[0m         \u001b[0;32mwith\u001b[0m \u001b[0mrequest_context\u001b[0m\u001b[0;34m(\u001b[0m\u001b[0mrequest\u001b[0m\u001b[0;34m=\u001b[0m\u001b[0mrequest\u001b[0m\u001b[0;34m)\u001b[0m\u001b[0;34m:\u001b[0m\u001b[0;34m\u001b[0m\u001b[0;34m\u001b[0m\u001b[0m\n\u001b[0;32m-> 1015\u001b[0;31m             \u001b[0mresponse\u001b[0m \u001b[0;34m=\u001b[0m \u001b[0mtransport\u001b[0m\u001b[0;34m.\u001b[0m\u001b[0mhandle_request\u001b[0m\u001b[0;34m(\u001b[0m\u001b[0mrequest\u001b[0m\u001b[0;34m)\u001b[0m\u001b[0;34m\u001b[0m\u001b[0;34m\u001b[0m\u001b[0m\n\u001b[0m\u001b[1;32m   1016\u001b[0m \u001b[0;34m\u001b[0m\u001b[0m\n\u001b[1;32m   1017\u001b[0m         \u001b[0;32massert\u001b[0m \u001b[0misinstance\u001b[0m\u001b[0;34m(\u001b[0m\u001b[0mresponse\u001b[0m\u001b[0;34m.\u001b[0m\u001b[0mstream\u001b[0m\u001b[0;34m,\u001b[0m \u001b[0mSyncByteStream\u001b[0m\u001b[0;34m)\u001b[0m\u001b[0;34m\u001b[0m\u001b[0;34m\u001b[0m\u001b[0m\n",
            "\u001b[0;32m/usr/local/lib/python3.10/dist-packages/httpx/_transports/default.py\u001b[0m in \u001b[0;36mhandle_request\u001b[0;34m(self, request)\u001b[0m\n\u001b[1;32m    231\u001b[0m         )\n\u001b[1;32m    232\u001b[0m         \u001b[0;32mwith\u001b[0m \u001b[0mmap_httpcore_exceptions\u001b[0m\u001b[0;34m(\u001b[0m\u001b[0;34m)\u001b[0m\u001b[0;34m:\u001b[0m\u001b[0;34m\u001b[0m\u001b[0;34m\u001b[0m\u001b[0m\n\u001b[0;32m--> 233\u001b[0;31m             \u001b[0mresp\u001b[0m \u001b[0;34m=\u001b[0m \u001b[0mself\u001b[0m\u001b[0;34m.\u001b[0m\u001b[0m_pool\u001b[0m\u001b[0;34m.\u001b[0m\u001b[0mhandle_request\u001b[0m\u001b[0;34m(\u001b[0m\u001b[0mreq\u001b[0m\u001b[0;34m)\u001b[0m\u001b[0;34m\u001b[0m\u001b[0;34m\u001b[0m\u001b[0m\n\u001b[0m\u001b[1;32m    234\u001b[0m \u001b[0;34m\u001b[0m\u001b[0m\n\u001b[1;32m    235\u001b[0m         \u001b[0;32massert\u001b[0m \u001b[0misinstance\u001b[0m\u001b[0;34m(\u001b[0m\u001b[0mresp\u001b[0m\u001b[0;34m.\u001b[0m\u001b[0mstream\u001b[0m\u001b[0;34m,\u001b[0m \u001b[0mtyping\u001b[0m\u001b[0;34m.\u001b[0m\u001b[0mIterable\u001b[0m\u001b[0;34m)\u001b[0m\u001b[0;34m\u001b[0m\u001b[0;34m\u001b[0m\u001b[0m\n",
            "\u001b[0;32m/usr/local/lib/python3.10/dist-packages/httpcore/_sync/connection_pool.py\u001b[0m in \u001b[0;36mhandle_request\u001b[0;34m(self, request)\u001b[0m\n\u001b[1;32m    214\u001b[0m \u001b[0;34m\u001b[0m\u001b[0m\n\u001b[1;32m    215\u001b[0m             \u001b[0mself\u001b[0m\u001b[0;34m.\u001b[0m\u001b[0m_close_connections\u001b[0m\u001b[0;34m(\u001b[0m\u001b[0mclosing\u001b[0m\u001b[0;34m)\u001b[0m\u001b[0;34m\u001b[0m\u001b[0;34m\u001b[0m\u001b[0m\n\u001b[0;32m--> 216\u001b[0;31m             \u001b[0;32mraise\u001b[0m \u001b[0mexc\u001b[0m \u001b[0;32mfrom\u001b[0m \u001b[0;32mNone\u001b[0m\u001b[0;34m\u001b[0m\u001b[0;34m\u001b[0m\u001b[0m\n\u001b[0m\u001b[1;32m    217\u001b[0m \u001b[0;34m\u001b[0m\u001b[0m\n\u001b[1;32m    218\u001b[0m         \u001b[0;31m# Return the response. Note that in this case we still have to manage\u001b[0m\u001b[0;34m\u001b[0m\u001b[0;34m\u001b[0m\u001b[0m\n",
            "\u001b[0;32m/usr/local/lib/python3.10/dist-packages/httpcore/_sync/connection_pool.py\u001b[0m in \u001b[0;36mhandle_request\u001b[0;34m(self, request)\u001b[0m\n\u001b[1;32m    194\u001b[0m                 \u001b[0;32mtry\u001b[0m\u001b[0;34m:\u001b[0m\u001b[0;34m\u001b[0m\u001b[0;34m\u001b[0m\u001b[0m\n\u001b[1;32m    195\u001b[0m                     \u001b[0;31m# Send the request on the assigned connection.\u001b[0m\u001b[0;34m\u001b[0m\u001b[0;34m\u001b[0m\u001b[0m\n\u001b[0;32m--> 196\u001b[0;31m                     response = connection.handle_request(\n\u001b[0m\u001b[1;32m    197\u001b[0m                         \u001b[0mpool_request\u001b[0m\u001b[0;34m.\u001b[0m\u001b[0mrequest\u001b[0m\u001b[0;34m\u001b[0m\u001b[0;34m\u001b[0m\u001b[0m\n\u001b[1;32m    198\u001b[0m                     )\n",
            "\u001b[0;32m/usr/local/lib/python3.10/dist-packages/httpcore/_sync/connection.py\u001b[0m in \u001b[0;36mhandle_request\u001b[0;34m(self, request)\u001b[0m\n\u001b[1;32m     99\u001b[0m             \u001b[0;32mraise\u001b[0m \u001b[0mexc\u001b[0m\u001b[0;34m\u001b[0m\u001b[0;34m\u001b[0m\u001b[0m\n\u001b[1;32m    100\u001b[0m \u001b[0;34m\u001b[0m\u001b[0m\n\u001b[0;32m--> 101\u001b[0;31m         \u001b[0;32mreturn\u001b[0m \u001b[0mself\u001b[0m\u001b[0;34m.\u001b[0m\u001b[0m_connection\u001b[0m\u001b[0;34m.\u001b[0m\u001b[0mhandle_request\u001b[0m\u001b[0;34m(\u001b[0m\u001b[0mrequest\u001b[0m\u001b[0;34m)\u001b[0m\u001b[0;34m\u001b[0m\u001b[0;34m\u001b[0m\u001b[0m\n\u001b[0m\u001b[1;32m    102\u001b[0m \u001b[0;34m\u001b[0m\u001b[0m\n\u001b[1;32m    103\u001b[0m     \u001b[0;32mdef\u001b[0m \u001b[0m_connect\u001b[0m\u001b[0;34m(\u001b[0m\u001b[0mself\u001b[0m\u001b[0;34m,\u001b[0m \u001b[0mrequest\u001b[0m\u001b[0;34m:\u001b[0m \u001b[0mRequest\u001b[0m\u001b[0;34m)\u001b[0m \u001b[0;34m->\u001b[0m \u001b[0mNetworkStream\u001b[0m\u001b[0;34m:\u001b[0m\u001b[0;34m\u001b[0m\u001b[0;34m\u001b[0m\u001b[0m\n",
            "\u001b[0;32m/usr/local/lib/python3.10/dist-packages/httpcore/_sync/http11.py\u001b[0m in \u001b[0;36mhandle_request\u001b[0;34m(self, request)\u001b[0m\n\u001b[1;32m    141\u001b[0m                 \u001b[0;32mwith\u001b[0m \u001b[0mTrace\u001b[0m\u001b[0;34m(\u001b[0m\u001b[0;34m\"response_closed\"\u001b[0m\u001b[0;34m,\u001b[0m \u001b[0mlogger\u001b[0m\u001b[0;34m,\u001b[0m \u001b[0mrequest\u001b[0m\u001b[0;34m)\u001b[0m \u001b[0;32mas\u001b[0m \u001b[0mtrace\u001b[0m\u001b[0;34m:\u001b[0m\u001b[0;34m\u001b[0m\u001b[0;34m\u001b[0m\u001b[0m\n\u001b[1;32m    142\u001b[0m                     \u001b[0mself\u001b[0m\u001b[0;34m.\u001b[0m\u001b[0m_response_closed\u001b[0m\u001b[0;34m(\u001b[0m\u001b[0;34m)\u001b[0m\u001b[0;34m\u001b[0m\u001b[0;34m\u001b[0m\u001b[0m\n\u001b[0;32m--> 143\u001b[0;31m             \u001b[0;32mraise\u001b[0m \u001b[0mexc\u001b[0m\u001b[0;34m\u001b[0m\u001b[0;34m\u001b[0m\u001b[0m\n\u001b[0m\u001b[1;32m    144\u001b[0m \u001b[0;34m\u001b[0m\u001b[0m\n\u001b[1;32m    145\u001b[0m     \u001b[0;31m# Sending the request...\u001b[0m\u001b[0;34m\u001b[0m\u001b[0;34m\u001b[0m\u001b[0m\n",
            "\u001b[0;32m/usr/local/lib/python3.10/dist-packages/httpcore/_sync/http11.py\u001b[0m in \u001b[0;36mhandle_request\u001b[0;34m(self, request)\u001b[0m\n\u001b[1;32m    111\u001b[0m                     \u001b[0mheaders\u001b[0m\u001b[0;34m,\u001b[0m\u001b[0;34m\u001b[0m\u001b[0;34m\u001b[0m\u001b[0m\n\u001b[1;32m    112\u001b[0m                     \u001b[0mtrailing_data\u001b[0m\u001b[0;34m,\u001b[0m\u001b[0;34m\u001b[0m\u001b[0;34m\u001b[0m\u001b[0m\n\u001b[0;32m--> 113\u001b[0;31m                 ) = self._receive_response_headers(**kwargs)\n\u001b[0m\u001b[1;32m    114\u001b[0m                 trace.return_value = (\n\u001b[1;32m    115\u001b[0m                     \u001b[0mhttp_version\u001b[0m\u001b[0;34m,\u001b[0m\u001b[0;34m\u001b[0m\u001b[0;34m\u001b[0m\u001b[0m\n",
            "\u001b[0;32m/usr/local/lib/python3.10/dist-packages/httpcore/_sync/http11.py\u001b[0m in \u001b[0;36m_receive_response_headers\u001b[0;34m(self, request)\u001b[0m\n\u001b[1;32m    184\u001b[0m \u001b[0;34m\u001b[0m\u001b[0m\n\u001b[1;32m    185\u001b[0m         \u001b[0;32mwhile\u001b[0m \u001b[0;32mTrue\u001b[0m\u001b[0;34m:\u001b[0m\u001b[0;34m\u001b[0m\u001b[0;34m\u001b[0m\u001b[0m\n\u001b[0;32m--> 186\u001b[0;31m             \u001b[0mevent\u001b[0m \u001b[0;34m=\u001b[0m \u001b[0mself\u001b[0m\u001b[0;34m.\u001b[0m\u001b[0m_receive_event\u001b[0m\u001b[0;34m(\u001b[0m\u001b[0mtimeout\u001b[0m\u001b[0;34m=\u001b[0m\u001b[0mtimeout\u001b[0m\u001b[0;34m)\u001b[0m\u001b[0;34m\u001b[0m\u001b[0;34m\u001b[0m\u001b[0m\n\u001b[0m\u001b[1;32m    187\u001b[0m             \u001b[0;32mif\u001b[0m \u001b[0misinstance\u001b[0m\u001b[0;34m(\u001b[0m\u001b[0mevent\u001b[0m\u001b[0;34m,\u001b[0m \u001b[0mh11\u001b[0m\u001b[0;34m.\u001b[0m\u001b[0mResponse\u001b[0m\u001b[0;34m)\u001b[0m\u001b[0;34m:\u001b[0m\u001b[0;34m\u001b[0m\u001b[0;34m\u001b[0m\u001b[0m\n\u001b[1;32m    188\u001b[0m                 \u001b[0;32mbreak\u001b[0m\u001b[0;34m\u001b[0m\u001b[0;34m\u001b[0m\u001b[0m\n",
            "\u001b[0;32m/usr/local/lib/python3.10/dist-packages/httpcore/_sync/http11.py\u001b[0m in \u001b[0;36m_receive_event\u001b[0;34m(self, timeout)\u001b[0m\n\u001b[1;32m    222\u001b[0m \u001b[0;34m\u001b[0m\u001b[0m\n\u001b[1;32m    223\u001b[0m             \u001b[0;32mif\u001b[0m \u001b[0mevent\u001b[0m \u001b[0;32mis\u001b[0m \u001b[0mh11\u001b[0m\u001b[0;34m.\u001b[0m\u001b[0mNEED_DATA\u001b[0m\u001b[0;34m:\u001b[0m\u001b[0;34m\u001b[0m\u001b[0;34m\u001b[0m\u001b[0m\n\u001b[0;32m--> 224\u001b[0;31m                 data = self._network_stream.read(\n\u001b[0m\u001b[1;32m    225\u001b[0m                     \u001b[0mself\u001b[0m\u001b[0;34m.\u001b[0m\u001b[0mREAD_NUM_BYTES\u001b[0m\u001b[0;34m,\u001b[0m \u001b[0mtimeout\u001b[0m\u001b[0;34m=\u001b[0m\u001b[0mtimeout\u001b[0m\u001b[0;34m\u001b[0m\u001b[0;34m\u001b[0m\u001b[0m\n\u001b[1;32m    226\u001b[0m                 )\n",
            "\u001b[0;32m/usr/local/lib/python3.10/dist-packages/httpcore/_backends/sync.py\u001b[0m in \u001b[0;36mread\u001b[0;34m(self, max_bytes, timeout)\u001b[0m\n\u001b[1;32m    124\u001b[0m         \u001b[0;32mwith\u001b[0m \u001b[0mmap_exceptions\u001b[0m\u001b[0;34m(\u001b[0m\u001b[0mexc_map\u001b[0m\u001b[0;34m)\u001b[0m\u001b[0;34m:\u001b[0m\u001b[0;34m\u001b[0m\u001b[0;34m\u001b[0m\u001b[0m\n\u001b[1;32m    125\u001b[0m             \u001b[0mself\u001b[0m\u001b[0;34m.\u001b[0m\u001b[0m_sock\u001b[0m\u001b[0;34m.\u001b[0m\u001b[0msettimeout\u001b[0m\u001b[0;34m(\u001b[0m\u001b[0mtimeout\u001b[0m\u001b[0;34m)\u001b[0m\u001b[0;34m\u001b[0m\u001b[0;34m\u001b[0m\u001b[0m\n\u001b[0;32m--> 126\u001b[0;31m             \u001b[0;32mreturn\u001b[0m \u001b[0mself\u001b[0m\u001b[0;34m.\u001b[0m\u001b[0m_sock\u001b[0m\u001b[0;34m.\u001b[0m\u001b[0mrecv\u001b[0m\u001b[0;34m(\u001b[0m\u001b[0mmax_bytes\u001b[0m\u001b[0;34m)\u001b[0m\u001b[0;34m\u001b[0m\u001b[0;34m\u001b[0m\u001b[0m\n\u001b[0m\u001b[1;32m    127\u001b[0m \u001b[0;34m\u001b[0m\u001b[0m\n\u001b[1;32m    128\u001b[0m     \u001b[0;32mdef\u001b[0m \u001b[0mwrite\u001b[0m\u001b[0;34m(\u001b[0m\u001b[0mself\u001b[0m\u001b[0;34m,\u001b[0m \u001b[0mbuffer\u001b[0m\u001b[0;34m:\u001b[0m \u001b[0mbytes\u001b[0m\u001b[0;34m,\u001b[0m \u001b[0mtimeout\u001b[0m\u001b[0;34m:\u001b[0m \u001b[0mtyping\u001b[0m\u001b[0;34m.\u001b[0m\u001b[0mOptional\u001b[0m\u001b[0;34m[\u001b[0m\u001b[0mfloat\u001b[0m\u001b[0;34m]\u001b[0m \u001b[0;34m=\u001b[0m \u001b[0;32mNone\u001b[0m\u001b[0;34m)\u001b[0m \u001b[0;34m->\u001b[0m \u001b[0;32mNone\u001b[0m\u001b[0;34m:\u001b[0m\u001b[0;34m\u001b[0m\u001b[0;34m\u001b[0m\u001b[0m\n",
            "\u001b[0;32m/usr/lib/python3.10/ssl.py\u001b[0m in \u001b[0;36mrecv\u001b[0;34m(self, buflen, flags)\u001b[0m\n\u001b[1;32m   1286\u001b[0m                     \u001b[0;34m\"non-zero flags not allowed in calls to recv() on %s\"\u001b[0m \u001b[0;34m%\u001b[0m\u001b[0;34m\u001b[0m\u001b[0;34m\u001b[0m\u001b[0m\n\u001b[1;32m   1287\u001b[0m                     self.__class__)\n\u001b[0;32m-> 1288\u001b[0;31m             \u001b[0;32mreturn\u001b[0m \u001b[0mself\u001b[0m\u001b[0;34m.\u001b[0m\u001b[0mread\u001b[0m\u001b[0;34m(\u001b[0m\u001b[0mbuflen\u001b[0m\u001b[0;34m)\u001b[0m\u001b[0;34m\u001b[0m\u001b[0;34m\u001b[0m\u001b[0m\n\u001b[0m\u001b[1;32m   1289\u001b[0m         \u001b[0;32melse\u001b[0m\u001b[0;34m:\u001b[0m\u001b[0;34m\u001b[0m\u001b[0;34m\u001b[0m\u001b[0m\n\u001b[1;32m   1290\u001b[0m             \u001b[0;32mreturn\u001b[0m \u001b[0msuper\u001b[0m\u001b[0;34m(\u001b[0m\u001b[0;34m)\u001b[0m\u001b[0;34m.\u001b[0m\u001b[0mrecv\u001b[0m\u001b[0;34m(\u001b[0m\u001b[0mbuflen\u001b[0m\u001b[0;34m,\u001b[0m \u001b[0mflags\u001b[0m\u001b[0;34m)\u001b[0m\u001b[0;34m\u001b[0m\u001b[0;34m\u001b[0m\u001b[0m\n",
            "\u001b[0;32m/usr/lib/python3.10/ssl.py\u001b[0m in \u001b[0;36mread\u001b[0;34m(self, len, buffer)\u001b[0m\n\u001b[1;32m   1159\u001b[0m                 \u001b[0;32mreturn\u001b[0m \u001b[0mself\u001b[0m\u001b[0;34m.\u001b[0m\u001b[0m_sslobj\u001b[0m\u001b[0;34m.\u001b[0m\u001b[0mread\u001b[0m\u001b[0;34m(\u001b[0m\u001b[0mlen\u001b[0m\u001b[0;34m,\u001b[0m \u001b[0mbuffer\u001b[0m\u001b[0;34m)\u001b[0m\u001b[0;34m\u001b[0m\u001b[0;34m\u001b[0m\u001b[0m\n\u001b[1;32m   1160\u001b[0m             \u001b[0;32melse\u001b[0m\u001b[0;34m:\u001b[0m\u001b[0;34m\u001b[0m\u001b[0;34m\u001b[0m\u001b[0m\n\u001b[0;32m-> 1161\u001b[0;31m                 \u001b[0;32mreturn\u001b[0m \u001b[0mself\u001b[0m\u001b[0;34m.\u001b[0m\u001b[0m_sslobj\u001b[0m\u001b[0;34m.\u001b[0m\u001b[0mread\u001b[0m\u001b[0;34m(\u001b[0m\u001b[0mlen\u001b[0m\u001b[0;34m)\u001b[0m\u001b[0;34m\u001b[0m\u001b[0;34m\u001b[0m\u001b[0m\n\u001b[0m\u001b[1;32m   1162\u001b[0m         \u001b[0;32mexcept\u001b[0m \u001b[0mSSLError\u001b[0m \u001b[0;32mas\u001b[0m \u001b[0mx\u001b[0m\u001b[0;34m:\u001b[0m\u001b[0;34m\u001b[0m\u001b[0;34m\u001b[0m\u001b[0m\n\u001b[1;32m   1163\u001b[0m             \u001b[0;32mif\u001b[0m \u001b[0mx\u001b[0m\u001b[0;34m.\u001b[0m\u001b[0margs\u001b[0m\u001b[0;34m[\u001b[0m\u001b[0;36m0\u001b[0m\u001b[0;34m]\u001b[0m \u001b[0;34m==\u001b[0m \u001b[0mSSL_ERROR_EOF\u001b[0m \u001b[0;32mand\u001b[0m \u001b[0mself\u001b[0m\u001b[0;34m.\u001b[0m\u001b[0msuppress_ragged_eofs\u001b[0m\u001b[0;34m:\u001b[0m\u001b[0;34m\u001b[0m\u001b[0;34m\u001b[0m\u001b[0m\n",
            "\u001b[0;31mKeyboardInterrupt\u001b[0m: "
          ]
        }
      ]
    },
    {
      "cell_type": "markdown",
      "metadata": {
        "id": "3fKfM7-gjgbk"
      },
      "source": [
        "\n",
        "Reflect on how each parameter influenced the model's output. This exercise will enhance your understanding of how to control and guide the AI to achieve results that best fit your objectives."
      ]
    },
    {
      "cell_type": "markdown",
      "metadata": {
        "id": "WwGSpodOb4LR"
      },
      "source": [
        "## Part 3: Prompt engineering (15 min)"
      ]
    },
    {
      "cell_type": "markdown",
      "metadata": {
        "id": "lUeHYM4lS4jh"
      },
      "source": [
        "\n",
        "Prompt engineering is an art and science of designing inputs that guide Large Language Models (LLMs), such as Generative Pre-trained Transformer (GPT), to produce specific, high-quality responses or outputs. This process is foundational in the field of artificial intelligence because the precision with which we articulate our prompts significantly affects the AI's performance. A well-crafted prompt can lead to outputs that are not only accurate but also creative and contextually relevant, showcasing the model's capabilities to their fullest extent.\n",
        "\n",
        "### Engaging with Prompt Engineering\n",
        "Before we dive into specific tactics for effective prompt engineering, it's important to understand that the goal is to communicate with the model in its language. This means being clear, direct, and detailed in your requests.\n",
        "\n",
        "#### Tactics:\n",
        "<ul>\n",
        "    <li> <b>Include details in your query</b> to get more relevant answers.  \n",
        "        <details>\n",
        "            <summary>Example</summary>\n",
        "            Often people ask questions that are too broad or vague. Remember, the AI can't read your mind ;)\n",
        "            <br>\n",
        "            Your goal is to extract specific information from the AI.\n",
        "            <p> <i>Bad:</i> \"Tell me about dogs.\"</p>\n",
        "            <p> <i>Good:</i> \"Provide a detailed comparison between the adaptability, exercise needs, and temperament of Labrador Retrievers and Border Collies for potential dog owners.\"</p>\n",
        "        </details>\n",
        "    </li>\n",
        "    <li> <b>Ask the model to adopt a persona</b> for more tailored responses.\n",
        "        <details>\n",
        "            <summary>Example</summary>\n",
        "            Your goal is to make the interaction more engaging or specific.\n",
        "            <p> <i>Bad:</i> \"Explain quantum physics.\"</p>\n",
        "            <p> <i>Good:</i> \"Pretend you're a renowned physicist explaining the concepts of quantum physics to a high school student in a way that's easy to understand.\"</p>\n",
        "        </details>\n",
        "    </li>\n",
        "    <li> <b>Use delimiters</b> to clearly indicate distinct parts of the input.\n",
        "        <details>\n",
        "            <summary>Example</summary>\n",
        "            Your goal is to organize a multi-part question.\n",
        "            <p> <i>Bad:</i> \"What is the capital of France and tell me about its history.\"</p>\n",
        "            <p> <i>Good:</i> \"Question 1: What is the capital of France? | Question 2: Provide a brief history of the capital.\"</p>\n",
        "        </details>\n",
        "    </li>\n",
        "    <li> <b>Specify the steps</b> required to complete a task.\n",
        "        <details>\n",
        "            <summary>Example</summary>\n",
        "            Your goal is to get a walkthrough.\n",
        "            <p> <i>Bad:</i> \"How to bake a cake.\"</p>\n",
        "            <p> <i>Good:</i> \"List all the steps necessary to bake a chocolate cake, then create a list of needed ingredients with quantities, and baking time. Before estimating total time needed.\"</p>\n",
        "        </details>\n",
        "    </li>\n",
        "    <li> <b>Provide examples</b> to illustrate the type of response you're seeking.\n",
        "        <details>\n",
        "            <summary>Example</summary>\n",
        "            Your goal is to clarify your expectations.\n",
        "            <p> <i>Bad:</i> \"Generate a catchy slogan for my product.\"</p>\n",
        "            <p> <i>Good:</i> \"Generate a catchy slogan for my eco-friendly water bottle product. For example, something like 'Hydrate Sustainably' or 'Drink Green, Live Clean'.\"</p>\n",
        "        </details>\n",
        "    </li>\n",
        "    <li> <b>Specify the desired length</b> of the output to control verbosity.\n",
        "        <details>\n",
        "            <summary>Example</summary>\n",
        "            Your goal is to manage the depth of the response.\n",
        "            <p> <i>Bad:</i> \"Write an article on climate change.\"</p>\n",
        "            <p> <i>Good:</i> \"Write a concise 300-word article on the impacts of climate change on global weather patterns.\"</p>\n",
        "        </details>\n",
        "    </li>\n",
        "</ul>\n",
        "\n",
        "\n",
        "### Applying What We've Learned\n",
        "Now that we've outlined the key tactics for effective prompt engineering, let's put this knowledge into practice."
      ]
    },
    {
      "cell_type": "markdown",
      "metadata": {
        "id": "P8-IT4a3YB6j"
      },
      "source": [
        "### **Task 3.1**\n"
      ]
    },
    {
      "cell_type": "markdown",
      "metadata": {
        "id": "pSS-0U6sgp7v"
      },
      "source": [
        "Imagine you're working on the Cogito Project **TutorAI**, a cutting-edge AI tool designed to support students in their study efforts by creating concise, informative flashcards from dense academic texts. Your challenge is to engineer a prompt that instructs the LLM to distill complex material into easy-to-review flashcards, focusing on key concepts, definitions, and examples relevant to an upcoming exam.\n",
        "\n",
        "* **Extract Key Concepts and Definitions:** The AI must identify and summarize the main ideas and definitions found in a given academic text. This involves discerning the most important points that are crucial for understanding the subject matter.\n",
        "\n",
        "* **Format the Information for Flashcards:** The output should be structured in a way that is suitable for flashcard creation. Each flashcard will have a term or concept on one side and its definition or explanation on the other side, along with an example if appropriate.\n",
        "\n",
        "* **Control the Length:** Each flashcard content (term/definition/example) should be concise, aiming for no more than 50 words per side to facilitate quick review and memorization.\n",
        "\n",
        "This task will test your ability to use detailed queries, specify a structure, and control the output length—all crucial aspects of prompt engineering. Remember, the effectiveness of your prompt will directly influence the quality and relevance of the AI's response. Good luck!"
      ]
    },
    {
      "cell_type": "code",
      "execution_count": 39,
      "metadata": {
        "id": "931QTomvYCpj",
        "outputId": "9e736e52-6d88-429e-f5c1-7a64ea2438c2",
        "colab": {
          "base_uri": "https://localhost:8080/"
        }
      },
      "outputs": [
        {
          "output_type": "stream",
          "name": "stdout",
          "text": [
            "The Model responded with the following flashcards: \n",
            "'Card 1:\n",
            "Definition - Turing Test\n",
            "A test to determine a computer's ability to exhibit human-like behavior, passing if a human cannot distinguish between the computer and a human through communication.\n",
            "\n",
            "Card 2:\n",
            "Concept - Rational Agent\n",
            "An agent that makes decisions based on knowledge, functions, and environment to achieve the best expected outcome. It acts in a manner that is considered reasonable.'\n"
          ]
        }
      ],
      "source": [
        "book_paragraphs: str = \"\"\"\n",
        "Chapter 1 - Epic Introduction\n",
        "Since the dawn of time, humans have tried to define how we think, and this struggle has led us to create artificial intelligence. Historically, four approaches to artificial intelligence have been followed, each described below.\n",
        "\n",
        "Acting Humanly\n",
        "If we can't distinguish between a computer and a human, the computer is said to act humanly. The computer's capability to act humanly can be tested by performing a turing test. A computer passes the turing test if a human interrogator cannot tell whether he is communicating with a computer or a person. To pass a turing test, the computer would need to possess the following capabilities:\n",
        "\n",
        "Natural language processing to enable it to communicate successfully.\n",
        "Knowledge representation to store what it knows or hears.\n",
        "Automated reasoning to use the stored information to draw conclusions.\n",
        "Machine learning to adapt to new circumstances and to detect patterns.\n",
        "\n",
        "Thinking humanly\n",
        "To make a computer think like a human, we must know how humans think. The computers ability to think humanly can be determined by comparing the computer's input-output mechanism by the corresponding human behaviour.\n",
        "\n",
        "Acting Rationally\n",
        "An agent is something that acts. A rational agent is an agent that does the right thing based on what it knows, its functions, and the surrounding environment; it acts so that it achieves the best expected outcome.\n",
        "\n",
        "Thinking rationally\n",
        "Using sound logic rules to reach the right conclusion.\n",
        "\n",
        "A relevant quote, demonstrating the logical rule of modus ponens: \"Socrates is a man; all men are mortal; therefore, Socrates is mortal.\n",
        "\"\"\"\n",
        "\n",
        "def generate_flashcards_from_paragraphs(paragraph: str) -> str:\n",
        "    prompt = \"\"\"\n",
        "    Use the following paragraphs to generate concise flashcards summarizing key concepts and definitions:\n",
        "\n",
        "    ===\n",
        "    {}\n",
        "    ===\n",
        "    \"\"\".format(paragraph)\n",
        "\n",
        "    # Set maximum tokens for concise summaries\n",
        "    max_tokens = 150\n",
        "\n",
        "    # Delimiter to mark start of user input\n",
        "    delimiter = \"++\"\n",
        "\n",
        "    # Using OpenAI API to generate flashcards\n",
        "    completion = client.chat.completions.create(\n",
        "        model=MODEL_NAME,\n",
        "        messages=[\n",
        "            # Example of tactic implementation: Specify steps required to complete a task\n",
        "            {\"role\": \"system\", \"content\": f\"Summarize key concepts into flashcards with a maximum of {max_tokens} tokens.\"},\n",
        "            {\"role\": \"user\", \"content\": f\"{delimiter} {prompt} {delimiter}\"},\n",
        "        ],\n",
        "        max_tokens=max_tokens  # Control the verbosity of the output\n",
        "    )\n",
        "\n",
        "    return completion.choices[0].message.content\n",
        "\n",
        "\n",
        "flashcards = generate_flashcards_from_paragraphs(book_paragraphs)\n",
        "print(f\"The Model responded with the following flashcards: \\n'{flashcards}'\")"
      ]
    },
    {
      "cell_type": "markdown",
      "metadata": {
        "id": "mbtcDwricare"
      },
      "source": [
        "## Part 4: Embeddings (15 min)"
      ]
    },
    {
      "cell_type": "code",
      "execution_count": 40,
      "metadata": {
        "id": "UdYuCgxLcdZW",
        "outputId": "0a0e455a-2335-463e-9ab9-38ab3b5f43cc",
        "colab": {
          "base_uri": "https://localhost:8080/"
        }
      },
      "outputs": [
        {
          "output_type": "stream",
          "name": "stdout",
          "text": [
            "[-0.023372555151581764, 0.003695604158565402, 0.0025230238679796457, 0.0012804510770365596, -0.010711323469877243, 0.007325333077460527, 0.005836551543325186, -0.01442669052630663, -0.008774589747190475, -0.03678476810455322, 0.011962953954935074, 0.03633681312203407, -0.013043309561908245, -0.0035704411566257477, 0.0040052179247140884, 0.01750965416431427, 0.023754632100462914, 0.003975574392825365, 0.0071145324036479, -0.020605793222784996, -0.018076181411743164, 0.010428059846162796, 0.005457768682390451, -0.012918146327137947, -0.0071869948878884315, 0.00650518573820591, 0.014532091096043587, -0.018524134531617165, -0.0017736924346536398, -0.019630838185548782, 0.0022644633427262306, -0.006956431549042463, -0.011600639671087265, -0.02969658374786377, -0.0038998175878077745, -0.0022183507680892944, -0.0015933588147163391, -0.029512133449316025, 0.014057788997888565, 0.00310766720212996, 0.013221172615885735, -0.007562484126538038, -0.0031735424418002367, -0.012984021566808224, -0.01592864654958248, 0.0069037312641739845, 0.0018642708892002702, -0.013458323664963245, -0.0036297289188951254, -0.0038932301104068756, 0.03246334567666054, 0.019670363515615463, -0.02808922715485096, -0.006340497639030218, -0.01671915128827095, 0.009663905948400497, -0.012042004615068436, 0.006231803447008133, 0.005559875164180994, -0.0203554667532444, 0.006686342880129814, 0.018998436629772186, -0.022279025986790657, 0.0012985668145120144, -0.014545265585184097, -0.010052570141851902, 0.003586909966543317, 0.011962953954935074, 0.008912927471101284, 0.006337203551083803, 0.030460737645626068, 0.01280615758150816, -0.009861532598733902, -0.006864205934107304, 0.01303013414144516, 0.0024159764871001244, -0.01708805188536644, -0.004677146207541227, 0.009110554121434689, 0.00033575817360542715, -0.002796406392008066, -0.03219984471797943, 0.008359575644135475, 0.024914037436246872, 0.0021145970094949007, 0.0026514807250350714, -0.009914232417941093, 0.038444824516773224, -0.0060506463050842285, 0.011455714702606201, 0.012799570336937904, 0.00588595774024725, -0.008893165737390518, -0.0004051330906804651, -0.0012582181952893734, 0.03538820892572403, -0.0020767187234014273, 0.02162027359008789, 0.027377774938941002, -0.005352368112653494, 0.0024719706270843744, 0.023912733420729637, -0.012206693179905415, -0.016547875478863716, -0.033253852277994156, -0.006798330694437027, 0.006330616306513548, -0.005431418307125568, 0.023780982941389084, 0.0033299962524324656, -0.009920819662511349, 0.015994522720575333, 0.0006027589552104473, -0.044637102633714676, 0.0037186606787145138, 0.01260853186249733, 0.0046013896353542805, -0.014413515105843544, -0.00477925268933177, -0.023030003532767296, 0.021712498739361763, 0.03870832547545433, -0.014887817203998566, -0.0027321779634803534, 0.024993088096380234, -0.006584235932677984, 0.0014533738140016794, -0.02031594142317772, -0.021896949037909508, -0.008003848604857922, 0.014413515105843544, 0.005049341823905706, 0.009518980979919434, 0.006699517834931612, -0.019327811896800995, 0.028431778773665428, -0.002832637866958976, 0.015427994541823864, -0.031989045441150665, -0.01988116465508938, 0.018194757401943207, 0.015783721581101418, -0.01664010062813759, -0.00030302637605927885, -0.01830015704035759, 0.024281635880470276, -0.004034861922264099, 0.013543961569666862, 0.0015925352927297354, -0.020091965794563293, 0.014334465377032757, -0.005586225539445877, -0.009215954691171646, 0.005484118591994047, -0.005520349834114313, 0.03217349573969841, 0.0150590930134058, -0.016837725415825844, -0.01466384157538414, -0.009453105740249157, -0.005635631736367941, 0.01320799719542265, -0.0017045233398675919, 0.0004090444417670369, 0.018576834350824356, 0.02401813305914402, 0.010006457567214966, 0.006482129450887442, 0.00047800762695260346, -0.00270418100990355, -0.002193647436797619, 0.014360815286636353, -0.032753199338912964, 0.006030883640050888, -0.018247457221150398, -0.001041653100401163, 0.01181802898645401, -0.00814877450466156, -0.027008872479200363, -0.027588574215769768, -0.016205323860049248, -0.007167232688516378, -0.0020470749586820602, 0.027562225237488747, -0.00795114878565073, -0.009512392804026604, 0.006103346589952707, -0.015269894152879715, 0.011969542130827904, -0.011099987663328648, 0.010118445381522179, 0.03667936474084854, 0.000742332253139466, 0.011258088052272797, -0.6880543231964111, -0.004575039260089397, 0.04158048704266548, -0.020157841965556145, 0.007648122031241655, 0.02443973533809185, 0.0025740773417055607, -0.020223716273903847, -0.005474237259477377, 0.021001044660806656, -0.007075007073581219, -0.008656013756990433, -0.017009001225233078, -0.004449876490980387, 0.012621707282960415, 0.0008238529553636909, -0.0011182331945747137, -0.031989045441150665, 0.014558441005647182, 0.010256784036755562, -0.013254109770059586, 0.010856249369680882, 0.007147470023483038, -0.002343513770028949, 9.541625331621617e-05, 0.008649426512420177, 0.00960461888462305, -0.01467701606452465, 0.010329246520996094, 0.012200105004012585, -0.008115836419165134, 0.01988116465508938, 0.006159340497106314, 0.0030352044850587845, 0.0407109335064888, -0.023939084261655807, -0.015190843492746353, 0.020474042743444443, 0.007457083556801081, 0.025085313245654106, -0.025085313245654106, -0.006791743449866772, 0.014518915675580502, -0.0117719154804945, -0.004166612401604652, 0.0240576583892107, 0.0152830695733428, -0.004743021447211504, -0.014018263667821884, -0.01592864654958248, -0.0008950806222856045, 0.027904776856303215, -0.011541352607309818, 0.010671798139810562, -0.00073697988409549, -0.024176234379410744, 0.023398905992507935, 0.011890491470694542, 0.015335769392549992, -0.005573050118982792, -0.005734444595873356, 0.01466384157538414, -0.013359510339796543, 0.0021277721971273422, -0.007259457837790251, 0.018260633572936058, -0.033148448914289474, 0.04490060359239578, 0.013392448425292969, -0.03096139058470726, 0.020184190943837166, 0.00017076112271752208, 0.002618543105199933, -0.00874823983758688, 0.0038833487778902054, 0.03135664388537407, 0.01364936213940382, -0.016126273199915886, -0.007213345263153315, 0.009189603850245476, -0.005965008400380611, -0.00936746783554554, -0.006455779075622559, -0.0015093677211552858, 0.00878117699176073, 0.00569821335375309, -0.03225254639983177, 0.009683668613433838, 0.014993217773735523, -0.0038800551556050777, 0.014031438156962395, 0.010856249369680882, -0.029485784471035004, -0.026692671701312065, -0.0036363163962960243, 0.022318551316857338, 0.0134649109095335, 0.011725802905857563, 0.02972293458878994, -0.0010515344329178333, -0.008313463069498539, -0.009084203280508518, 0.015414820052683353, 0.013491260819137096, 0.0158891212195158, 0.0057410323061048985, -0.01549386978149414, 0.018958911299705505, -0.00398216163739562, -0.03673206642270088, -0.022213149815797806, -0.009288417175412178, -0.01119221281260252, -0.004940647166222334, -0.018089357763528824, -0.02772032469511032, 0.01745695434510708, 0.01587594673037529, 0.023728283122181892, -0.0014319643378257751, 0.0045618643052875996, 0.00671269278973341, 0.0027387654408812523, 0.013181647285819054, -0.002175531815737486, 0.009209366515278816, 0.0066830492578446865, -0.02241077646613121, -0.02357018180191517, 0.0223976019769907, 0.012898383662104607, 0.0039689866825938225, 0.012522893957793713, -0.007378033362329006, 0.026350120082497597, -0.00035078596556559205, 0.002878750441595912, 0.0036132601089775562, 0.008886577561497688, -0.030724238604307175, 0.011930016800761223, 0.019275112077593803, 0.0042160190641880035, -0.030645187944173813, -0.024584662169218063, -0.0029759167227894068, -0.022305376827716827, 0.0031224892009049654, -0.009953757748007774, -0.01200906652957201, 0.010368771851062775, 0.002929803915321827, 0.007825985550880432, 0.009110554121434689, 0.006659992504864931, -0.004351063631474972, -0.014347639866173267, -0.015217194333672523, -0.007371446117758751, -0.025968043133616447, -0.004001924302428961, 0.03130394220352173, -0.020513568073511124, -0.011561115272343159, -0.018194757401943207, -0.007358270697295666, 0.006179103162139654, 0.016982652246952057, -0.004104031249880791, -0.021817898377776146, 0.0186954103410244, -0.013234347105026245, -0.0017407548148185015, 0.002480204915627837, 0.004617858212441206, 0.008181711658835411, -0.020091965794563293, -0.021528048440814018, -0.005912308115512133, -0.022160449996590614, -0.007852335460484028, -0.0057640885934233665, -0.005148154683411121, 0.002136006485670805, 0.015388470143079758, 0.008800939656794071, 0.007957736030220985, 0.018102532252669334, -0.009051266126334667, -0.012345030903816223, 0.019261937588453293, 0.027035223320126534, -0.02072436921298504, 0.011337138712406158, -0.007595421746373177, 0.00191038369666785, -0.019222412258386612, 0.01283250842243433, 0.016547875478863716, 0.009591443464159966, 0.023043179884552956, 0.002778290770947933, 0.0007925622048787773, 0.012068354524672031, 0.003596791299059987, -0.029643883928656578, -0.013688887469470501, -0.016811376437544823, 0.027957476675510406, 0.004934059921652079, 0.015796896070241928, 0.006482129450887442, -0.014189539477229118, 0.009215954691171646, 0.0128259202465415, 0.028431778773665428, -0.010717910714447498, 0.003270708490163088, -0.016416124999523163, -0.03230524808168411, -0.02275332808494568, -0.005711388308554888, 0.020487217232584953, 0.0036165539640933275, -0.015520220622420311, 0.008807527832686901, 0.0003516094002407044, 0.005461062304675579, 0.007707410026341677, -0.04189668968319893, 0.004482814110815525, 0.023016829043626785, 0.01835285872220993, 0.023530656471848488, -0.0024736174382269382, -0.012292331084609032, 0.020171016454696655, 0.011785090900957584, 0.025441039353609085, 0.0011635224800556898, 0.011890491470694542, 0.02806287631392479, 0.036073312163352966, -0.017654579132795334, 0.02242395095527172, 0.017404254525899887, 0.03554631024599075, 0.012872033752501011, -0.00199108081869781, 0.008820702321827412, -0.0034848032519221306, -0.0018214520532637835, 0.005484118591994047, 0.007213345263153315, 0.028800681233406067, -0.011495240032672882, -0.0018510959343984723, 0.018985260277986526, 0.008899752981960773, 0.029222281649708748, -0.009551918134093285, 0.0006620467756874859, -0.010045982897281647, 0.001502780243754387, 0.01018432155251503, -0.008227825164794922, -0.030249936506152153, -0.019248763099312782, -0.014650666154921055, 0.024993088096380234, -0.011482064612209797, -0.015375294722616673, -0.0058892518281936646, -0.014887817203998566, -0.00876800250262022, 0.0019532025326043367, 0.022647928446531296, 0.01625802367925644, -0.004604683257639408, 0.013596661388874054, 0.0013537374325096607, -0.02885338105261326, 0.03222619742155075, 0.00407438725233078, -0.016389774158596992, -0.016139447689056396, -0.04753561690449715, 0.014703366905450821, -0.011745565570890903, 0.018510958179831505, 0.016416124999523163, 0.030645187944173813, 0.011034112423658371, -0.009907645173370838, 0.013715237379074097, 0.013675712049007416, 0.03293764963746071, -0.0058003198355436325, -0.0014196126721799374, -0.010961649939417839, -0.008339812979102135, 0.00857037678360939, -0.007397796027362347, -0.0010605923598632216, 0.023991784080863, -0.007384621072560549, 0.01590229757130146, -0.0052930801175534725, -0.02887973003089428, 0.000638990371953696, 0.0027469999622553587, 0.011554527096450329, -0.01340562291443348, -0.020605793222784996, 0.02077706903219223, 0.022516176104545593, 0.00300391367636621, 0.009123728610575199, 0.028642579913139343, -0.0011404660763218999, 0.0023056354839354753, -0.016178973019123077, -0.009150078520178795, 0.01754917949438095, 0.050750330090522766, 0.012509719468653202, -0.005283198785036802, 0.0029742696788161993, -0.018800809979438782, -0.02115914598107338, -0.040078531950712204, 0.022595226764678955, -0.022305376827716827, -0.0036000851541757584, -0.016943126916885376, -0.002906747628003359, 0.019617663696408272, 0.007173819933086634, 0.01915653608739376, 0.012397730723023415, 0.0016509996494278312, -0.006096758879721165, 0.015230368822813034, -0.010665210895240307, -0.00259054615162313, -0.0012483368627727032, -0.007200170308351517, 0.009492630138993263, 0.002348454436287284, -0.029986435547471046, 0.009479455649852753, 0.0014607846969738603, -0.00426213163882494, -0.02247665263712406, 0.012384556233882904, 0.013254109770059586, -0.010269959457218647, 0.005902426782995462, -0.010230434127151966, 0.011640165001153946, 0.0015982994809746742, 0.01442669052630663, 0.023372555151581764, 0.0057048010639846325, 0.007740347646176815, 0.011778503656387329, 0.0013306810287758708, 0.0006612233119085431, 0.014413515105843544, -0.020921994000673294, -0.013023546896874905, 0.010408297181129456, -0.0074373213574290276, 0.0014360814820975065, 0.015744196251034737, 0.007661296986043453, -0.018168406561017036, -0.020210541784763336, 0.008372750133275986, -0.0011981070274487138, -0.0023286917712539434, -0.016442473977804184, -0.0028573409654200077, -0.05140908434987068, -0.021699322387576103, -0.026152493432164192, -0.0021425941959023476, -0.023820508271455765, -0.008972215466201305, -0.023412080481648445, -0.008708714507520199, -0.0053820121102035046, 0.013319985009729862, -0.0041534374468028545, 0.0037087793461978436, -0.0216334480792284, -0.029907384887337685, -0.040473781526088715, 0.0006340497639030218, 0.011890491470694542, 0.015744196251034737, -0.027008872479200363, -0.001105058123357594, -0.003912992775440216, -0.0016246495069935918, -0.007338508032262325, 0.002572430297732353, -0.016363423317670822, -0.013636186718940735, 0.0018395676743239164, 0.002284226007759571, -0.0016789967194199562, -0.0067423367872834206, -0.006445897743105888, 0.03306939825415611, 0.023333029821515083, 0.01878763549029827, -0.0027997002471238375, -0.00560598773881793, -0.006831268314272165, 0.00631744135171175, 0.031119491904973984, -0.00856378860771656, -0.017997130751609802, 0.0037680671084672213, -0.029512133449316025, 0.004749609157443047, -0.00150689750444144, 0.014584790915250778, -0.00408426858484745, 0.01878763549029827, 0.01095506176352501, -0.010026220232248306, 0.0014344346709549427, -0.005556581541895866, -0.009710019454360008, -0.011409602127969265, 0.005237086210399866, 0.030776940286159515, -0.010125033557415009, 0.0023056354839354753, 0.005092160776257515, -0.027061572298407555, -0.0007229814073070884, -0.004245663061738014, -0.0063964915461838245, 0.006139577832072973, 0.01757553033530712, -0.007740347646176815, 0.021304070949554443, -0.0066204676404595375, 0.005820082500576973, -0.013570311479270458, 0.0033596402499824762, -0.007845748215913773, 0.03172554448246956, -0.023003654554486275, -0.011857553385198116, -0.0023237511049956083, -0.01467701606452465, -0.036099664866924286, -0.002860634820535779, -0.009822007268667221, 0.005075691733509302, -0.017417429015040398, 0.004041449632495642, 0.007858922705054283, 0.00032999407267197967, -0.03172554448246956, -0.027114272117614746, -0.02034229226410389, 0.016034048050642014, -0.003264121012762189, 6.602969369851053e-05, 0.0031109610572457314, 0.022634752094745636, -0.017325203865766525, -0.029485784471035004, -0.0023566887248307467, -0.009703431278467178, -0.029881035909056664, 0.02689029648900032, 0.03299035131931305, 0.005115217063575983, 0.0514354333281517, -0.01366253662854433, 0.021330421790480614, 0.003642904106527567, 0.004670558497309685, 0.010118445381522179, 0.013056484051048756, -0.009525568224489689, 7.719761197222397e-05, 0.009044678881764412, 0.01466384157538414, 0.008379338309168816, -0.007779872976243496, 0.011080224998295307, 0.0037548919208347797, 0.021501697599887848, -0.025902166962623596, -0.0009115494322031736, -0.012463606894016266, -0.013912863098084927, -0.014993217773735523, 0.0033398775849491358, -0.010915537364780903, 0.016574224457144737, -0.025164363905787468, -0.008708714507520199, -0.0074109709821641445, 0.0027140623424202204, 0.02075071819126606, 0.007990674115717411, 0.00974295660853386, -0.00034152224543504417, 0.01408413890749216, 0.011640165001153946, -9.382083226228133e-05, -0.010869423858821392, -0.002457148628309369, -0.0061132279224693775, 0.002211763057857752, 0.023886382579803467, 0.010151383467018604, 0.03217349573969841, -0.013451735489070415, 0.017812680453062057, 0.018576834350824356, 0.007081594783812761, -0.011350314132869244, -0.017746806144714355, 0.015401644632220268, -0.011034112423658371, -0.016126273199915886, -0.05992017313838005, -0.06144847720861435, -0.028405427932739258, -0.001559597672894597, 0.02069801837205887, -0.017720455303788185, 0.009387229569256306, 0.003038498107343912, -0.015968171879649162, -0.01752282865345478, 0.01873493567109108, 0.045770157128572464, 0.0004965350381098688, 0.016547875478863716, 0.014018263667821884, -0.00147395976819098, -0.003619847586378455, 0.02732507325708866, -0.00672257412225008, 0.007292395457625389, 0.029459433630108833, 0.006179103162139654, -0.008175124414265156, -0.012285742908716202, -0.008649426512420177, -0.007292395457625389, -0.0017934549832716584, -0.02247665263712406, 0.015507045201957226, 0.004937353543937206, -0.02604709379374981, 0.013063071295619011, -0.0077601103112101555, -0.028642579913139343, -0.0020684844348579645, -0.03019723668694496, -0.012904970906674862, -0.018629534170031548, -0.002987444866448641, -0.028194628655910492, 0.030223587527871132, -0.011600639671087265, 0.02359653264284134, -0.010526872240006924, -0.00038372361450456083, -0.015032743103802204, -0.0017341672210022807, 0.014413515105843544, -0.001657587243244052, 0.020210541784763336, 0.02490086294710636, -0.009057853370904922, 0.005941952113062143, 0.017786331474781036, -0.013952388428151608, -0.000989776337519288, 0.02156757190823555, -0.011640165001153946, 0.027562225237488747, -0.010869423858821392, -0.017377903684973717, 0.006735749077051878, 0.013148709200322628, 0.0063108536414802074, -0.00978248193860054, 0.004295069258660078, -0.01878763549029827, -0.001961437053978443, -0.016455650329589844, 0.021317247301340103, -0.009413580410182476, -0.0026284244377166033, 0.0010927064577117562, -0.013741587288677692, 0.01548069529235363, 0.004334594588726759, -0.013833812437951565, -0.002858988009393215, -0.027430474758148193, 0.0010721205035224557, -0.007048657163977623, 0.010856249369680882, 0.033596403896808624, -0.008939278312027454, -0.00878776516765356, -0.0015167787205427885, 0.041343338787555695, -0.014953692443668842, -0.0015727727441117167, 0.025493741035461426, 0.010546634905040264, -0.012417493388056755, -0.0067785680294036865, 0.019723065197467804, -0.023451605811715126, 0.008372750133275986, -0.0049735852517187595, 0.008504500612616539, -0.006202159449458122, -0.0017391078872606158, 0.0005496470257639885, -0.005220617633312941, -0.0065315356478095055, -0.00936087965965271, -0.004143556114286184, 0.013636186718940735, -0.013306810520589352, -0.011080224998295307, 0.0014509034808725119, 0.000713923538569361, 0.019683539867401123, 0.019788939505815506, -0.016429299488663673, 0.00310766720212996, -0.0007966794073581696, -0.012779807671904564, -0.0030615543946623802, -0.03501930832862854, -0.004640914965420961, 0.015731021761894226, 0.015388470143079758, -0.00275029381737113, -0.018128881230950356, -0.0219496488571167, -0.01667962595820427, -0.009459692984819412, 0.018893035128712654, -0.003586909966543317, -0.00878117699176073, 0.009255479089915752, 0.009881294332444668, 0.010269959457218647, -0.011047287844121456, -0.026231544092297554, -0.01621849834918976, 0.005474237259477377, -0.005349074024707079, -0.02735142409801483, -0.0008473210036754608, -0.014518915675580502, 0.013293635100126266, 0.008300287649035454, -0.031119491904973984, -0.015770547091960907, 0.00325753353536129, -0.03633681312203407, -0.020263241603970528, -0.007990674115717411, -0.019894341006875038, 0.008497913368046284, 0.026336943730711937, 0.009420167654752731, 0.013570311479270458, 0.0052963742054998875, 0.025414690375328064, -0.020276416093111038, 0.0036264352966099977, 0.007167232688516378, -0.02002609148621559, -0.00037734193028882146, 0.021093269810080528, -0.0166532751172781, -0.0033892840147018433, -0.002786525059491396, 0.001875799149274826, 0.010770611464977264, 0.025862641632556915, -0.009400404989719391, -0.004766077734529972, 0.0024867926258593798, -0.003889936488121748, 0.011706040240824223, 0.015309419482946396, 0.017298853024840355, -0.013702061958611012, 0.008451800793409348, -0.005859607830643654, 0.015744196251034737, 0.003008854342624545, 0.00652494840323925, 0.018194757401943207, 0.0022825791966170073, 0.01245043147355318, -0.01703535206615925, 0.005474237259477377, -0.010928711853921413, -0.0012022241717204452, 0.014795592054724693, -0.009248891845345497, -0.0186954103410244, 0.02727237343788147, 0.011666514910757542, -0.010329246520996094, -0.002676184056326747, 0.009018328040838242, -0.016771851107478142, -0.02972293458878994, -0.00010776786803035066, -0.026705846190452576, -0.014545265585184097, -0.03378085419535637, 0.010520284995436668, -0.023095879703760147, 0.007154057268053293, 0.015177669003605843, -0.002537845866754651, -0.00936746783554554, 0.016903601586818695, 0.000287792703602463, -0.03217349573969841, -0.005204148590564728, -0.02200235053896904, 0.00791162345558405, -0.03783877193927765, -0.0032888243440538645, -0.002532905200496316, 0.009117141366004944, 0.0013767937198281288, -0.00012166344095021486, -0.014597966335713863, -0.0011009409790858626, 0.016916776075959206, 0.020250067114830017, 0.00530625507235527, 0.02367558144032955, 0.2160709798336029, -0.02276650257408619, -0.0006303442642092705, 0.02002609148621559, -0.0032278895378112793, 0.0007781519670970738, 5.9236303059151396e-05, 0.0039064050652086735, -0.018655885010957718, -0.010006457567214966, 0.01490099262446165, 0.00020102258713450283, -0.002387979533523321, -0.003619847586378455, 0.0035539723467081785, -0.024650536477565765, -0.005912308115512133, -0.01789173111319542, -0.027957476675510406, -0.015190843492746353, -0.00509874802082777, -0.019802113994956017, -0.0024126828648149967, -0.0186954103410244, 0.013675712049007416, 6.633848533965647e-05, 0.0033761090599000454, 0.00016396773571614176, 0.010836486704647541, 0.034018002450466156, -0.005125098396092653, 0.00022232913761399686, 0.017232978716492653, -0.003481509629637003, -0.01179167814552784, -0.003735129488632083, 0.01590229757130146, 0.00018434791127219796, 0.027799375355243683, 0.016034048050642014, 0.03148839250206947, -0.020144665613770485, 0.0035144472494721413, -0.002715709153562784, 0.00793138612061739, 0.0024900862481445074, -0.021725673228502274, -0.008623076602816582, -0.009861532598733902, 0.03507201001048088, 0.0066171735525131226, -0.00457174563780427, 0.015204018913209438, 0.018603185191750526, -0.008175124414265156, -0.005566462874412537, -0.0004957116325385869, 0.017430603504180908, 0.02445291168987751, -0.006044058594852686, 0.01442669052630663, 0.027509525418281555, 0.0026663027238100767, 0.005780557636171579, -0.010296309366822243, 0.020434517413377762, -0.031198540702462196, 0.021264545619487762, 0.0016040635528042912, -0.01099458709359169, 0.0035012720618396997, -0.009314767085015774, -0.0024143296759575605, -0.005006522871553898, -0.029248632490634918, -0.022674277424812317, 0.03617871552705765, 0.019288286566734314, 0.02885338105261326, 0.016442473977804184, -0.0065216547809541225, -0.010125033557415009, -0.010316072031855583, -0.012951083481311798, -0.04276624321937561, -0.049643624573946, 0.021857423707842827, -0.02276650257408619, 0.004331300966441631, -0.023991784080863, 0.007878685370087624, 0.0009444871102459729, -0.0017358141485601664, -0.011113163083791733, 0.008049961179494858, 0.011020937003195286, 0.005260142497718334, 0.020144665613770485, -0.010592748410999775, 0.00427201297134161, -0.019762588664889336, 0.01504591852426529, 0.02727237343788147, -0.0047627841122448444, -0.014268589206039906, 0.013715237379074097, -0.011692865751683712, -0.011146100237965584, 0.006264741066843271, -0.011389839462935925, -0.019630838185548782, -0.025875817984342575, 0.0020783657673746347, -0.016850901767611504, -0.00796432327479124, 0.012911558151245117, 0.025401515886187553, -0.015032743103802204, 0.018418733030557632, -0.020856119692325592, -0.027509525418281555, -0.02030276693403721, -0.0002952036738861352, 0.01320799719542265, -0.0026333651039749384, -0.008682364597916603, -0.012951083481311798, 0.00793138612061739, -0.012265980243682861, -0.012542656622827053, 0.02808922715485096, 0.002951213391497731, 0.02197599969804287, 0.011099987663328648, -0.017022177577018738, 0.038075923919677734, 0.011132925748825073, 0.01918288692831993, -0.010144796222448349, 0.026587270200252533, 0.010474172420799732, -0.023043179884552956, 0.006669873837381601, -0.00854402594268322, -0.010447822511196136, -0.028273677453398705, 0.013543961569666862, 0.006001239642500877, 0.00025073785218410194, -0.03133029118180275, -0.025309288874268532, -0.009018328040838242, -0.008576964028179646, -0.008978803642094135, 0.027483174577355385, -0.018458258360624313, 0.0015513632679358125, -0.04845786839723587, -0.020566267892718315, 0.008076312020421028, -0.02930133230984211, -0.0012680995278060436, 0.008135599084198475, -0.035678062587976456, -0.014940517954528332, -0.006508479360491037, -0.1701163649559021, 0.00957826804369688, 0.0028013470582664013, -0.02808922715485096, -0.0033859903924167156, 0.0158891212195158, 0.004370825830847025, 0.003922874107956886, -0.013807462528347969, -0.002106362720951438, 0.01918288692831993, -0.010908949188888073, -0.031040441244840622, -0.012773220427334309, -0.006465660408139229, 0.018010307103395462, -0.010731086134910583, -0.022911429405212402, 0.04226559028029442, 0.010698148049414158, 0.030355338007211685, -0.03549361228942871, 0.014150014147162437, -0.006989369168877602, 0.0005512938951142132, 0.006093465257436037, -0.0013430326944217086, 0.032779548317193985, -0.0043411822989583015, -0.00046647945418953896, 0.010717910714447498, -0.028247328475117683, 0.03454500809311867, -0.004934059921652079, 0.012773220427334309, 0.015032743103802204, 0.02362288162112236, -0.021883774548768997, -0.00489124096930027, 0.01594182290136814, 0.02603391744196415, -0.0026844183448702097, -0.017206627875566483, 0.0064327227883040905, 0.003028616774827242, 0.012951083481311798, 0.022608403116464615, -0.008076312020421028, 0.027483174577355385, -0.0013158590300008655, 0.005652100779116154, -0.019275112077593803, 0.01142936386168003, 0.001468195696361363, 0.010006457567214966, 0.018958911299705505, 0.007773285266011953, 0.018945734947919846, 0.014558441005647182, -0.005405068397521973, 0.02523024007678032, -0.03472945839166641, -0.011086813174188137, -0.02727237343788147, -0.021014221012592316, -0.028431778773665428, -0.020223716273903847, 0.0066566988825798035, -0.002020724816247821, 0.005177798680961132, -0.01625802367925644, 0.002862281631678343, 0.006485423073172569, -0.007292395457625389, -0.004868184681981802, 0.02766762487590313, -0.013688887469470501, 0.02283237874507904, 0.0036066726315766573, -0.013636186718940735, -0.0018033363157883286, 0.029564833268523216, -0.002205175580456853, 0.0036363163962960243, 0.0033234087750315666, -0.019077487289905548, 0.0011231738608330488, -0.0020009621512144804, -0.022924603894352913, -0.012246217578649521, 0.013056484051048756, -0.05009157583117485, -0.002378098201006651, -0.016178973019123077, 0.012918146327137947, 0.02649504505097866, 0.0013496201718226075, -0.0012244570534676313, -0.0022364663891494274, -0.014611140824854374, -0.020157841965556145, -0.005981476977467537, -0.010704736225306988, 0.020052440464496613, 0.031119491904973984, 0.003031910629943013, 0.0075097838416695595, -0.005085573066025972, 0.0553879514336586, -0.0035934974439442158, -0.010790374130010605, -0.008445213548839092, 0.018471432849764824, 0.015322593972086906, 0.011673103086650372, 0.03414975479245186, -0.00938064232468605, -0.015968171879649162, 0.01586277224123478, 0.0036692540161311626, 0.05665275827050209, 0.013820637948811054, -0.02397860772907734, 0.021277721971273422, -0.004855009727180004, -0.02488768845796585, -0.10039395838975906, -0.016047222539782524, 0.018194757401943207, 0.012463606894016266, -0.013148709200322628, 0.022081399336457253, 0.0009988342644646764, 0.0012557478621602058, -0.025757241994142532, 0.022937778383493423, -0.007937973365187645, -0.04853691905736923, -0.01466384157538414, -0.009071028791368008, -0.004930766299366951, 0.004512458108365536, 0.011732391081750393, 0.010770611464977264, -0.017377903684973717, 0.030645187944173813, 0.001099294051527977, -0.002774996915832162, 0.024097183719277382, -0.01548069529235363, -0.0005858784425072372, 0.013939213007688522, -0.022081399336457253, -0.0036857230588793755, 0.011541352607309818, -0.005691625643521547, 0.008161949925124645, -0.027509525418281555, -0.0003293764893896878, -0.020553093403577805, 0.0038932301104068756, -0.007358270697295666, -0.0018263926031067967, 0.0036988980136811733, 0.02285872772336006, -0.042502742260694504, 0.004568452015519142, -0.029090531170368195, -0.01591547206044197, -0.015572920441627502, -0.0005039460374973714, 0.0174833033233881, -0.007147470023483038, 0.00046771462075412273, 0.0223976019769907, -0.015586095862090588, -0.026784896850585938, -0.01283250842243433, -0.024676887318491936, -0.0016592340543866158, 0.03059248812496662, 0.011409602127969265, 0.00427201297134161, -0.011903666891157627, -0.010678386315703392, 0.003840529825538397, -0.0272460225969553, -0.005777263548225164, -0.027008872479200363, 0.009136904031038284, 0.010026220232248306, -0.004351063631474972, -0.02001291513442993, -0.014914167113602161, -0.003275649156421423, -0.0022298789117485285, -0.016152624040842056, 0.012127642519772053, -0.013873337768018246, 0.027430474758148193, -0.033227499574422836, 0.0022875196300446987, -0.016099922358989716, -0.01594182290136814, 0.020487217232584953, -0.009617793373763561, -0.021725673228502274, -0.01447939034551382, 0.01715392805635929, -0.019828464835882187, -0.0025526678655296564, 0.021896949037909508, -0.010171146132051945, 0.013438560999929905, -0.008372750133275986, -0.03710096701979637, -0.01239114347845316, 0.01097482442855835, 0.026376469060778618, -0.03130394220352173, -0.012239630334079266, 0.009169841185212135, -0.012898383662104607, -0.004835247062146664, 0.02523024007678032, 0.01404461357742548, -0.024347510188817978, 0.0012886854819953442, -0.054333947598934174, 0.004235781729221344, -0.00396239897236228, -0.021646622568368912, -0.0018346270080655813, -0.024597836658358574, -0.020039265975356102, -0.002203528769314289, 0.0016197089571505785, 0.01997338980436325, 0.0038471175357699394, 0.0024555018171668053, 0.0028046409133821726, 0.010704736225306988, -0.01595499739050865, -0.023451605811715126, 0.02191012352705002, -0.00300391367636621, 0.004532220307737589, 0.025836292654275894, -0.009591443464159966, -0.00999987032264471, 0.004815484397113323, 0.018168406561017036, 0.0045025767758488655, -8.337342296727002e-05, -0.01442669052630663, 0.013926038518548012, -0.021422646939754486, -0.009532155469059944, 0.0012063414324074984, -0.04184398800134659, -0.008636252023279667, 0.028616229072213173, 0.0007526252884417772, -0.022661102935671806, 0.024097183719277382, 0.015586095862090588, 0.033253852277994156, 0.01948591321706772, -0.012727107852697372, -0.02487451210618019, 0.02039499208331108, 0.009301592595875263, -0.005059222690761089, 0.012437256053090096, -0.01326728519052267, -0.002625130582600832, 0.01509861834347248, 0.00792479794472456, 0.022608403116464615, 0.011067050509154797, -0.011271263472735882, 0.009288417175412178, -0.005635631736367941, 0.0017374609597027302, 0.026205193251371384, -0.0021607098169624805, -0.002083306200802326, -0.027430474758148193, 0.04961727559566498, 0.01631072349846363, 0.009031503461301327, -0.005141566973179579, 0.008833877742290497, 0.010125033557415009, -0.016943126916885376, 0.011146100237965584, 0.011370076797902584, -0.0009403699077665806, -0.018010307103395462, 0.012489956803619862, 0.005573050118982792, 0.002053662436082959, 0.008886577561497688, 0.004117206204682589, 0.015177669003605843, -0.0016394715057685971, -0.02237125113606453, 0.033148448914289474, 0.007569071836769581, -0.011172451078891754, -0.00954533088952303, 0.008906340226531029, 0.013352923095226288, 0.026205193251371384, 0.0008102661813609302, 0.011528177186846733, -0.0052930801175534725, -0.0013479732442647219, -0.015138143673539162, -0.0015274834586307406, 0.013517611660063267, -0.0028128752019256353, -0.013379273004829884, 0.004235781729221344, 0.006037470884621143, 0.027614925056695938, 0.030012786388397217, 0.02569136582314968, 0.036521267145872116, 0.003665960393846035, -0.017246153205633163, -0.042950693517923355, -0.020091965794563293, 0.01785220578312874, 0.004380707163363695, -0.03246334567666054, -0.00040719169192016125, 0.009644143283367157, 0.010072332806885242, 0.0005335899186320603, -0.03335925191640854, 0.004693614784628153, -0.020474042743444443, -0.013636186718940735, -0.009677081368863583, -0.01706170290708542, -0.03175189346075058, 0.021896949037909508, -0.0072265202179551125, 0.030776940286159515, 0.012555832043290138, 0.013781112618744373, 0.0187612846493721, -0.004051330965012312, -0.01142936386168003, -0.012167167849838734, 0.013873337768018246, -0.004604683257639408, -0.0044762264005839825, 0.005121804308146238, -0.008860227651894093, 0.002192000625655055, -0.02204187400639057, 0.021409472450613976, -0.017601879313588142, 0.015111793763935566, 0.006916906218975782, 0.06735090166330338, -0.007233107928186655, -0.014624316245317459, 0.021277721971273422, -0.022687451913952827, 0.018484609201550484, 0.01839238405227661, 0.0036000851541757584, -0.038471173495054245, -0.018115706741809845, 0.008517676033079624, -0.00010437117452966049, -0.006541416980326176, -0.02607344277203083, -0.012463606894016266, -0.0038800551556050777, 0.00979565642774105, 0.0030022666323930025, -0.019472738727927208, 0.01674550026655197, 0.02073754370212555, 0.02357018180191517, 0.017351552844047546, 0.00876800250262022, -0.01666644960641861, 0.008517676033079624, 0.029960086569190025, -0.019261937588453293, -0.02119867131114006, -0.011864141561090946, 0.007845748215913773, -0.011976129375398159, -0.051540832966566086, -0.01443986501544714, 0.009973520413041115, -0.01280615758150816, -0.0071145324036479, -0.010171146132051945, 0.00754930917173624, 0.030065486207604408, 0.020539918914437294, 0.041290637105703354, -0.024769112467765808, -0.008049961179494858, 0.033201150596141815, 0.008471563458442688, -0.008616489358246326, -0.017193453386425972, -0.03346465155482292]\n"
          ]
        }
      ],
      "source": [
        "def create_embedding(prompt: str, model=\"text-embedding-ada-002\") -> list[float]:\n",
        "    return client.embeddings.create(model=model, input=prompt).data[0].embedding\n",
        "\n",
        "print(create_embedding(\"This is an embedding!\"))\n",
        "\n",
        "database: list[list[list[float]], str] = []\n",
        "\n",
        "# Create embedding-text key-value pairs and add them to the database\n",
        "corresponding_text_1 = \"This is an embedding!\"\n",
        "embedding_1 = create_embedding(corresponding_text_1)\n",
        "database.append([embedding_1, corresponding_text_1])\n",
        "\n",
        "corresponding_text_2 = \"Sverre is CTO of Cogito NTNU\"\n",
        "embedding_2 = create_embedding(corresponding_text_2)\n",
        "database.append([embedding_2, corresponding_text_2])"
      ]
    },
    {
      "cell_type": "code",
      "execution_count": 41,
      "metadata": {
        "id": "dfi_Eg6FUB7D",
        "outputId": "32c54211-ab34-4525-9daa-a5fd07271804",
        "colab": {
          "base_uri": "https://localhost:8080/"
        }
      },
      "outputs": [
        {
          "output_type": "execute_result",
          "data": {
            "text/plain": [
              "[(0.8882390742588276, 'Sverre is CTO of Cogito NTNU')]"
            ]
          },
          "metadata": {},
          "execution_count": 41
        }
      ],
      "source": [
        "import numpy as np\n",
        "\n",
        "def cosine_similarity(a: list[float], b: list[float]) -> float:\n",
        "    \"\"\"\n",
        "    Takes 2 vectors a, b and finds how similar they are using the cosine similarity\n",
        "\n",
        "    Args:\n",
        "    a (list[float]): A list of floats\n",
        "    b (list[float]): A list of floats\n",
        "\n",
        "    Returns:\n",
        "        The similarity of the two vectors a and b described as a float between 0 and 1\n",
        "\n",
        "    \"\"\"\n",
        "    return np.dot(a, b) / (np.linalg.norm(a) * np.linalg.norm(b))\n",
        "\n",
        "def search_docs(query: str, database: list[list[list[float]], str], top_k: int=1):\n",
        "    \"\"\"\n",
        "    Searches the database for the most similar documents to the query\n",
        "\n",
        "    Args:\n",
        "        query (str): The query to search for\n",
        "        database (list[list[list[float]], str]): The database to search in\n",
        "        top_k (int): The number of documents to return\n",
        "    Returns:\n",
        "        A list of the top_k most similar documents to the query\n",
        "    \"\"\"\n",
        "    query_embedding = create_embedding(query)\n",
        "    results = []\n",
        "    for (doc_embedding, doc) in database:\n",
        "        similarity = cosine_similarity(query_embedding, doc_embedding)\n",
        "        results.append((similarity, doc))\n",
        "    return sorted(results, reverse=True)[:top_k]\n",
        "\n",
        "search_docs(\"Who is the CTO of Cogito?\", database)"
      ]
    },
    {
      "cell_type": "markdown",
      "metadata": {
        "id": "V4yWzB9s9caE"
      },
      "source": [
        "### **Task 4.1**\n",
        "*Create a new embedding with some text of your choice, and add it to the database. See if you can make the model find it.*\n",
        "\n",
        "<details>\n",
        "    <summary><strong>Hint:</strong></summary>\n",
        "      - Look at the previous two cells\n",
        "</details>"
      ]
    },
    {
      "cell_type": "code",
      "execution_count": 43,
      "metadata": {
        "id": "g-1zWV3u--Ih",
        "outputId": "dc575b52-ff58-4d2a-b9df-93513fa6738b",
        "colab": {
          "base_uri": "https://localhost:8080/",
          "height": 408
        }
      },
      "outputs": [
        {
          "output_type": "stream",
          "name": "stdout",
          "text": [
            "What would you like to ask the model:What is the meaning of life?\n",
            "The AI gave the answer: [(0.7349727665235893, 'This is an embedding!')]\n",
            "\n"
          ]
        },
        {
          "output_type": "error",
          "ename": "KeyboardInterrupt",
          "evalue": "Interrupted by user",
          "traceback": [
            "\u001b[0;31m---------------------------------------------------------------------------\u001b[0m",
            "\u001b[0;31mKeyboardInterrupt\u001b[0m                         Traceback (most recent call last)",
            "\u001b[0;32m<ipython-input-43-53f2efce00b3>\u001b[0m in \u001b[0;36m<cell line: 3>\u001b[0;34m()\u001b[0m\n\u001b[1;32m      2\u001b[0m \u001b[0;34m\u001b[0m\u001b[0m\n\u001b[1;32m      3\u001b[0m \u001b[0;32mwhile\u001b[0m \u001b[0;32mTrue\u001b[0m\u001b[0;34m:\u001b[0m\u001b[0;34m\u001b[0m\u001b[0;34m\u001b[0m\u001b[0m\n\u001b[0;32m----> 4\u001b[0;31m   \u001b[0muser_input\u001b[0m\u001b[0;34m:\u001b[0m \u001b[0mstr\u001b[0m \u001b[0;34m=\u001b[0m \u001b[0minput\u001b[0m\u001b[0;34m(\u001b[0m\u001b[0;34m\"What would you like to ask the model:\"\u001b[0m\u001b[0;34m)\u001b[0m\u001b[0;34m\u001b[0m\u001b[0;34m\u001b[0m\u001b[0m\n\u001b[0m\u001b[1;32m      5\u001b[0m \u001b[0;34m\u001b[0m\u001b[0m\n\u001b[1;32m      6\u001b[0m   \u001b[0;32mif\u001b[0m \u001b[0muser_input\u001b[0m \u001b[0;34m==\u001b[0m \u001b[0;34m\"q\"\u001b[0m\u001b[0;34m:\u001b[0m\u001b[0;34m\u001b[0m\u001b[0;34m\u001b[0m\u001b[0m\n",
            "\u001b[0;32m/usr/local/lib/python3.10/dist-packages/ipykernel/kernelbase.py\u001b[0m in \u001b[0;36mraw_input\u001b[0;34m(self, prompt)\u001b[0m\n\u001b[1;32m    849\u001b[0m                 \u001b[0;34m\"raw_input was called, but this frontend does not support input requests.\"\u001b[0m\u001b[0;34m\u001b[0m\u001b[0;34m\u001b[0m\u001b[0m\n\u001b[1;32m    850\u001b[0m             )\n\u001b[0;32m--> 851\u001b[0;31m         return self._input_request(str(prompt),\n\u001b[0m\u001b[1;32m    852\u001b[0m             \u001b[0mself\u001b[0m\u001b[0;34m.\u001b[0m\u001b[0m_parent_ident\u001b[0m\u001b[0;34m,\u001b[0m\u001b[0;34m\u001b[0m\u001b[0;34m\u001b[0m\u001b[0m\n\u001b[1;32m    853\u001b[0m             \u001b[0mself\u001b[0m\u001b[0;34m.\u001b[0m\u001b[0m_parent_header\u001b[0m\u001b[0;34m,\u001b[0m\u001b[0;34m\u001b[0m\u001b[0;34m\u001b[0m\u001b[0m\n",
            "\u001b[0;32m/usr/local/lib/python3.10/dist-packages/ipykernel/kernelbase.py\u001b[0m in \u001b[0;36m_input_request\u001b[0;34m(self, prompt, ident, parent, password)\u001b[0m\n\u001b[1;32m    893\u001b[0m             \u001b[0;32mexcept\u001b[0m \u001b[0mKeyboardInterrupt\u001b[0m\u001b[0;34m:\u001b[0m\u001b[0;34m\u001b[0m\u001b[0;34m\u001b[0m\u001b[0m\n\u001b[1;32m    894\u001b[0m                 \u001b[0;31m# re-raise KeyboardInterrupt, to truncate traceback\u001b[0m\u001b[0;34m\u001b[0m\u001b[0;34m\u001b[0m\u001b[0m\n\u001b[0;32m--> 895\u001b[0;31m                 \u001b[0;32mraise\u001b[0m \u001b[0mKeyboardInterrupt\u001b[0m\u001b[0;34m(\u001b[0m\u001b[0;34m\"Interrupted by user\"\u001b[0m\u001b[0;34m)\u001b[0m \u001b[0;32mfrom\u001b[0m \u001b[0;32mNone\u001b[0m\u001b[0;34m\u001b[0m\u001b[0;34m\u001b[0m\u001b[0m\n\u001b[0m\u001b[1;32m    896\u001b[0m             \u001b[0;32mexcept\u001b[0m \u001b[0mException\u001b[0m \u001b[0;32mas\u001b[0m \u001b[0me\u001b[0m\u001b[0;34m:\u001b[0m\u001b[0;34m\u001b[0m\u001b[0;34m\u001b[0m\u001b[0m\n\u001b[1;32m    897\u001b[0m                 \u001b[0mself\u001b[0m\u001b[0;34m.\u001b[0m\u001b[0mlog\u001b[0m\u001b[0;34m.\u001b[0m\u001b[0mwarning\u001b[0m\u001b[0;34m(\u001b[0m\u001b[0;34m\"Invalid Message:\"\u001b[0m\u001b[0;34m,\u001b[0m \u001b[0mexc_info\u001b[0m\u001b[0;34m=\u001b[0m\u001b[0;32mTrue\u001b[0m\u001b[0;34m)\u001b[0m\u001b[0;34m\u001b[0m\u001b[0;34m\u001b[0m\u001b[0m\n",
            "\u001b[0;31mKeyboardInterrupt\u001b[0m: Interrupted by user"
          ]
        }
      ],
      "source": [
        "# TODO: Create an embedding for some text and append it to the database\n",
        "\n",
        "while True:\n",
        "  user_input: str = input(\"What would you like to ask the model:\")\n",
        "\n",
        "  if user_input == \"q\":\n",
        "      print(\"[SUCCESS] Shut down\")\n",
        "      break\n",
        "\n",
        "  answer = search_docs(user_input, database, top_k=1)\n",
        "\n",
        "  print(f\"The AI gave the answer: {answer}\\n\")"
      ]
    },
    {
      "cell_type": "markdown",
      "metadata": {
        "id": "ExQMSdXYSyVe"
      },
      "source": [
        "#### Task 5.2\n",
        "*Work together with others and create something cool, try to utilize the different lesseons you have learned examples are:*\n",
        "* Create external API access some live data\n",
        "* Create more complex math operations to do calculus\n",
        "* Create bash scripts to create folders or organize a folder\n",
        "* Access a database for getting info\n",
        "\n"
      ]
    },
    {
      "cell_type": "code",
      "execution_count": null,
      "metadata": {
        "id": "6ClLpQnGTlcX"
      },
      "outputs": [],
      "source": [
        "# TODO: Copy relevant code from this notebook and create something"
      ]
    },
    {
      "cell_type": "markdown",
      "metadata": {
        "id": "Coyz5uZE1vYd"
      },
      "source": [
        "\n",
        "### Running local LLMs\n",
        "For those interested in experimenting with Large Language Models (LLMs) without incurring the costs associated with API calls to services like OpenAI's, or dealing with sensitive or proprietary data, running pre-trained models on your own hardware presents a viable alternative. The open-source community, particularly [Hugging Face's](https://huggingface.co/models) Transformers library, offers access to a wide range of models, including some developed by leading tech companies.\n",
        "\n",
        "One of the standout models available is Google's FLAN-T5-XL, part of the T5 (Text-to-Text Transfer Transformer) family, which has been fine-tuned for a broad set of tasks. This model combines the flexibility of T5's architecture with training on a mixture of supervised and unsupervised tasks, making it particularly adept at understanding and generating human-like text.\n",
        "\n",
        "To get started with using FLAN-T5-XL or any other model from the Transformers library, you will need to install the necessary packages and understand how to load and interact with the model. Below is a basic Python script that demonstrates how to set up and use FLAN-T5-XL for generating text based on input prompts:\n",
        "```python\n",
        "import sys\n",
        "from transformers import AutoTokenizer, AutoModelForSeq2SeqLM, GenerationConfig\n",
        "\n",
        "line = 'What is the value of being accepted into Cogito NTNU, Norway's largest technical AI student organisation, in the middle of an AI revolution?'\n",
        "\n",
        "model_name = 'google/flan-t5-xl'\n",
        "tokenizer = AutoTokenizer.from_pretrained(model_name)\n",
        "model = AutoModelForSeq2SeqLM.from_pretrained(model_name)\n",
        "\n",
        "config = GenerationConfig(max_new_tokens=200)\n",
        "for line in sys.stdin:\n",
        "    tokens = tokenizer(line, return_tensors=\"pt\")\n",
        "    outputs = model.generate(**tokens, generation_config=config)\n",
        "    print(tokenizer.batch_decode(outputs, skip_special_tokens=True))\n",
        "```\n",
        "\n"
      ]
    },
    {
      "cell_type": "markdown",
      "metadata": {
        "id": "l3nKpepS9Xmw"
      },
      "source": [
        "### Context windows\n",
        "\n",
        "The context window refers to the maximum amount of text (measured in tokens) the model can consider at one time when generating responses or performing tasks. This limit is intrinsic to the model's architecture and significantly influences how we design prompts and interpret model outputs.\n",
        "\n",
        "#### Significance of the Context Window\n",
        "The size of the context window determines how much information the model can \"see\" and use at any given moment. For example, GPT-3 has a context window of 2048 tokens. This means it can consider up to 2048 tokens of preceding text to generate its responses. The implications are twofold:\n",
        "\n",
        "* **Prompt Design:** When crafting prompts for an LLM, it's vital to ensure that the most relevant information is within the model's context window. Information beyond this limit won't influence the model's output, emphasizing the need for concise and focused prompt design.\n",
        "\n",
        "* **Sequential Tasks:** For tasks requiring more information than the context window allows, you may need to design a series of prompts that build on each other, ensuring each segment of the task remains within the model's view.\n",
        "\n",
        "While advancements have led to models supporting context windows surpassing 100,000 tokens (gpt-4 and other open source ones), challenges persist. Specifically, such models tend to focus on the beginning and end of the provided text, potentially underutilizing the middle portion. This is know as [lost in the middle](https://arxiv.org/pdf/2307.03172.pdf).\n",
        "\n",
        "#### New insights by a Operative System inspired model\n",
        "[MemGPT](https://memgpt.readme.io/docs/index) introduces a strategic approach to memory management, organized around two core concepts relevant to understanding context windows in LLMs:\n",
        "\n",
        "* **Memory Hierarchy:** It segments memory into two types: a \"main context\" analogous to RAM, which is smaller and faster, and an \"external context\" similar to disk storage, which is larger but slower. This structure necessitates the deliberate transfer of information between these contexts, using virtual memory.\n",
        "\n",
        "* **Process Management:** Similar to an operating system's role in managing tasks, MemGPT regulates the flow of information between the memory segments, the LLM, and users, ensuring efficient handling of processes."
      ]
    },
    {
      "cell_type": "markdown",
      "metadata": {
        "id": "Oc8BDSKT1y-C"
      },
      "source": [
        "### Fine-tuning Large Language Models\n",
        "Fine-tuning is a process that adjusts a pre-trained model to a specific task or dataset, enhancing its ability to perform on tasks it wasn't specifically trained for initially. This method leverages the general understanding that the model has developed during its initial training phase, applying it to a more focused domain or problem set. Fine-tuning can significantly improve the performance of LLMs on specialized tasks, making it a powerful tool for developers and researchers.\n",
        "\n",
        "#### Why Fine-tune?\n",
        "Customization: Tailors the model to understand and generate responses based on specific jargon, styles, or formats unique to your dataset.\n",
        "Improved Performance: Enhances the model's accuracy and efficiency on tasks that may differ from the data it was originally trained on.\n",
        "Cost-Effectiveness: Utilizes the foundational knowledge the model has gained, reducing the need for training from scratch on vast datasets.\n",
        "\n",
        "1. **How to Fine-tune an LLM:**\n",
        "Select a Pre-trained Model: Choose a model that closely aligns with your task in terms of language and domain. Models available on platforms like Hugging Face offer a good starting point.\n",
        "\n",
        "2. **Prepare Your Dataset:** Your dataset should be representative of the task at hand and formatted in a way that the model can understand. It typically involves splitting the data into training, validation, and test sets.\n",
        "\n",
        "3. **Customize Training Parameters:** Adjust parameters such as learning rate, batch size, and the number of epochs to balance between retaining learned knowledge and adapting to the new dataset.\n",
        "\n",
        "4. **Train the Model:** Use a suitable environment and framework, like PyTorch or TensorFlow, along with Hugging Face's Transformers library, to fine-tune the model on your dataset.\n",
        "\n",
        "5. **Evaluate and Iterate:** Test the model's performance on a separate validation set, and iteratively adjust your approach based on the results.\n",
        "\n",
        "An example of this using OpenAI can be found in the Cogito Project [MarketingAI](https://github.com/CogitoNTNU/MarketingAI/blob/main/src/fine_tuning/fine_tuning_job.py)"
      ]
    },
    {
      "cell_type": "markdown",
      "metadata": {
        "id": "ht-CtKNT7w8v"
      },
      "source": [
        "### Leveraging OpenAI Across Diverse Programming Environments\n",
        "While this course primarily focuses on Python to interact with OpenAI's models. Thera are other supported languages. Supported languages include, but are not limited to, TypeScript/JavaScript, Java, C#, Go, C++, and PHP, alongside others like Clojure, Kotlin, Ruby, Rust, and Scala. This wide-ranging support extends the potential of OpenAI's AI models to virtually any software development domain, from web development and mobile applications to enterprise solutions and beyond.\n",
        "\n",
        "[Read more at OpenAI Docs](https://platform.openai.com/docs/libraries/community-libraries)"
      ]
    }
  ],
  "metadata": {
    "colab": {
      "provenance": []
    },
    "kernelspec": {
      "display_name": "Python 3 (ipykernel)",
      "language": "python",
      "name": "python3"
    },
    "language_info": {
      "codemirror_mode": {
        "name": "ipython",
        "version": 3
      },
      "file_extension": ".py",
      "mimetype": "text/x-python",
      "name": "python",
      "nbconvert_exporter": "python",
      "pygments_lexer": "ipython3",
      "version": "3.11.8"
    }
  },
  "nbformat": 4,
  "nbformat_minor": 0
}